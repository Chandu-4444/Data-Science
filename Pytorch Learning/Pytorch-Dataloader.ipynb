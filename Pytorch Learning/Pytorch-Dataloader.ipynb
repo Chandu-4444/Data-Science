{
 "cells": [
  {
   "cell_type": "code",
   "execution_count": 1,
   "metadata": {},
   "outputs": [],
   "source": [
    "import numpy as np\n",
    "import matplotlib.pyplot as plt\n",
    "import seaborn as sns\n",
    "from sklearn.datasets import make_circles\n",
    "\n",
    "import tqdm\n",
    "\n",
    "import torch"
   ]
  },
  {
   "cell_type": "code",
   "execution_count": 2,
   "metadata": {},
   "outputs": [
    {
     "data": {
      "image/png": "[encoded data removed]",
      "text/plain": [
       "<Figure size 432x288 with 1 Axes>"
      ]
     },
     "metadata": {
      "needs_background": "light"
     },
     "output_type": "display_data"
    }
   ],
   "source": [
    "X, y = make_circles(n_samples=1000000, noise=0.05, random_state=1, factor = 0.2)\n",
    "plt.scatter(X[:, 0], X[:, 1], c=y)\n",
    "plt.show()"
   ]
  },
  {
   "cell_type": "markdown",
   "metadata": {},
   "source": [
    "The size of the dataset is so large to train at a time. We need to split the data into batches. We'll do this using pytorch dataloader."
   ]
  },
  {
   "cell_type": "code",
   "execution_count": 3,
   "metadata": {},
   "outputs": [],
   "source": [
    "class CustomDataset(torch.utils.data.Dataset):\n",
    "    def __init__(self, X, y):\n",
    "        self.X = X\n",
    "        self.y = y.reshape(-1, 1)\n",
    "\n",
    "    def __len__(self):\n",
    "        return len(self.X)\n",
    "\n",
    "    def __getitem__(self, idx):\n",
    "        X = self.X[idx, :]\n",
    "        y = self.y[idx]\n",
    "        return X, y"
   ]
  },
  {
   "cell_type": "code",
   "execution_count": 4,
   "metadata": {},
   "outputs": [],
   "source": [
    "train_dataset = CustomDataset(X, y)\n",
    "training_loader = torch.utils.data.DataLoader(train_dataset, batch_size=128, shuffle=True)"
   ]
  },
  {
   "cell_type": "code",
   "execution_count": 5,
   "metadata": {},
   "outputs": [],
   "source": [
    "class NonLinearClassifier(torch.nn.Module):\n",
    "    def __init__(self, input_size):\n",
    "        super(NonLinearClassifier, self).__init__()\n",
    "        self.layer_1 = torch.nn.Linear(input_size, 100)\n",
    "        self.layer_2 = torch.nn.Linear(100, 1)\n",
    "        self.leaky_relu = torch.nn.LeakyReLU()\n",
    "        self.dropout = torch.nn.Dropout(p=0.2)\n",
    "        self.sigmoid = torch.nn.Sigmoid()\n",
    "\n",
    "    def forward(self, x):\n",
    "        x = self.layer_1(x)\n",
    "        x = self.leaky_relu(x)\n",
    "        x = self.dropout(x)\n",
    "        x = self.layer_2(x)\n",
    "        return self.sigmoid(x)"
   ]
  },
  {
   "cell_type": "code",
   "execution_count": 6,
   "metadata": {},
   "outputs": [],
   "source": [
    "non_linear_model = NonLinearClassifier(input_size=2).to(\"cuda\")\n",
    "loss_fn = torch.nn.BCELoss().to(\"cuda\")\n",
    "optimizer = torch.optim.SGD(non_linear_model.parameters(), lr=0.01)"
   ]
  },
  {
   "cell_type": "code",
   "execution_count": 7,
   "metadata": {},
   "outputs": [
    {
     "name": "stderr",
     "output_type": "stream",
     "text": [
      "100%|██████████| 7813/7813 [00:15<00:00, 514.79it/s]\n"
     ]
    },
    {
     "name": "stdout",
     "output_type": "stream",
     "text": [
      "Epoch: 0, loss: 0.028785018250346184\n"
     ]
    },
    {
     "name": "stderr",
     "output_type": "stream",
     "text": [
      "100%|██████████| 7813/7813 [00:17<00:00, 456.83it/s]"
     ]
    },
    {
     "name": "stdout",
     "output_type": "stream",
     "text": [
      "Epoch: 1, loss: 0.014803113415837288\n"
     ]
    },
    {
     "name": "stderr",
     "output_type": "stream",
     "text": [
      "\n"
     ]
    }
   ],
   "source": [
    "prev_loss = 0\n",
    "for epoch in range(2):\n",
    "    non_linear_model.train() # Set the model to training mode\n",
    "\n",
    "    with tqdm.tqdm(training_loader) as bar:\n",
    "        for batch_x, batch_y in bar:\n",
    "            batch_x = batch_x.to(\"cuda\")\n",
    "            batch_y = batch_y.to(\"cuda\")\n",
    "            y_pred = non_linear_model(batch_x.float()) # Evaluate the model on the training data\n",
    "            loss = loss_fn(y_pred.float(), batch_y.float()) # Calculate the loss\n",
    "\n",
    "            # Early stopping\n",
    "            # if (abs(loss.item() - prev_loss)) < 1e-6:\n",
    "            #     print(f\"Converged after {epoch} epochs\")\n",
    "            #     break\n",
    "            # print(\"Model params: \", model.state_dict())\n",
    "            optimizer.zero_grad() # Reset the gradients for optimizer\n",
    "            loss.backward() # Calculate the gradients for loss_fn wrt model parameters\n",
    "            optimizer.step() # Update the model parameters\n",
    "\n",
    "            # non_linear_model.eval() # Set the model to evaluation mode\n",
    "            # y_pred_test = non_linear_model(X_test) # Evaluate the model on the test data\n",
    "            # loss_test = loss_fn(y_pred_test, y_test) # Calculate the loss\n",
    "\n",
    "    prev_loss = loss.item()\n",
    "    # print(f\"Epoch: {epoch}, loss: {loss.item()}, loss_test: {loss_test.item()}\")\n",
    "    print(f\"Epoch: {epoch}, loss: {loss.item()}\")\n",
    "\n",
    "        "
   ]
  },
  {
   "cell_type": "code",
   "execution_count": 8,
   "metadata": {},
   "outputs": [
    {
     "data": {
      "text/plain": [
       "NonLinearClassifier(\n",
       "  (layer_1): Linear(in_features=2, out_features=100, bias=True)\n",
       "  (layer_2): Linear(in_features=100, out_features=1, bias=True)\n",
       "  (leaky_relu): LeakyReLU(negative_slope=0.01)\n",
       "  (dropout): Dropout(p=0.2, inplace=False)\n",
       "  (sigmoid): Sigmoid()\n",
       ")"
      ]
     },
     "execution_count": 8,
     "metadata": {},
     "output_type": "execute_result"
    }
   ],
   "source": [
    "non_linear_model.eval() # Set the model to evaluation mode"
   ]
  },
  {
   "cell_type": "code",
   "execution_count": 9,
   "metadata": {},
   "outputs": [
    {
     "data": {
      "image/png": "[encoded data removed]",
      "text/plain": [
       "<Figure size 432x288 with 1 Axes>"
      ]
     },
     "metadata": {
      "needs_background": "light"
     },
     "output_type": "display_data"
    }
   ],
   "source": [
    "# Plot the decision boundary\n",
    "x_min, x_max = X[:, 0].min() - 1, X[:, 0].max() + 1\n",
    "y_min, y_max = X[:, 1].min() - 1, X[:, 1].max() + 1\n",
    "xx, yy = np.meshgrid(np.arange(x_min, x_max, 0.1), np.arange(y_min, y_max, 0.1))\n",
    "grid = torch.cat((torch.Tensor(xx.reshape(-1, 1)), torch.Tensor(yy.reshape(-1, 1))), 1)\n",
    "grid = grid.type(torch.FloatTensor)\n",
    "pred_grid = non_linear_model(grid.to(\"cuda\")).to(\"cuda\")\n",
    "pred_grid = pred_grid.reshape(xx.shape)\n",
    "plt.contourf(xx, yy, pred_grid.cpu().detach().numpy(), cmap=plt.cm.Paired, alpha=0.8)\n",
    "plt.scatter(X[:, 0], X[:, 1], c=y)\n",
    "plt.show()"
   ]
  }
 ],
 "metadata": {
  "interpreter": {
   "hash": "5e09afe7eed9bbfc990e3d58c945ea17c67f9556c7129bb06b9149cb6e689e24"
  },
  "kernelspec": {
   "display_name": "Python 3.8.8 ('base')",
   "language": "python",
   "name": "python3"
  },
  "language_info": {
   "codemirror_mode": {
    "name": "ipython",
    "version": 3
   },
   "file_extension": ".py",
   "mimetype": "text/x-python",
   "name": "python",
   "nbconvert_exporter": "python",
   "pygments_lexer": "ipython3",
   "version": "3.8.8"
  },
  "orig_nbformat": 4
 },
 "nbformat": 4,
 "nbformat_minor": 2
}
