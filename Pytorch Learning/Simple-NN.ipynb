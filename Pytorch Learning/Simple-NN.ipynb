{
 "cells": [
  {
   "cell_type": "code",
   "execution_count": 127,
   "metadata": {},
   "outputs": [],
   "source": [
    "import numpy as np\n",
    "import pandas as pd\n",
    "import matplotlib.pyplot as plt\n",
    "\n",
    "from sklearn.datasets import make_regression\n",
    "from sklearn.model_selection import train_test_split\n",
    "\n",
    "import torch"
   ]
  },
  {
   "cell_type": "code",
   "execution_count": 134,
   "metadata": {},
   "outputs": [],
   "source": [
    "X, y = make_regression(n_samples=100000, n_features=100, noise=10)\n",
    "X, X_test, y, y_test = train_test_split(X, y, test_size=0.2)\n",
    "X = torch.Tensor(X)\n",
    "y = torch.Tensor(y.reshape(-1, 1))\n",
    "X_test = torch.Tensor(X_test)\n",
    "y_test = torch.Tensor(y_test.reshape(-1, 1))\n",
    "\n",
    "# This step is necessary as the Pytorch layers expect Tensors instead of numpy arrays."
   ]
  },
  {
   "cell_type": "code",
   "execution_count": 135,
   "metadata": {},
   "outputs": [],
   "source": [
    "class LinearRegression(torch.nn.Module):\n",
    "    def __init__(self, in_features):\n",
    "        super().__init__()\n",
    "        self.linear = torch.nn.Linear(in_features, 1)\n",
    "\n",
    "    def forward(self, x):\n",
    "        return self.linear(x)\n",
    "        \n",
    "model = LinearRegression(X.shape[1]) # Initialize the model\n",
    "\n",
    "loss_fn = torch.nn.MSELoss() # Define the loss function\n",
    "optimizer = torch.optim.SGD(model.parameters(), lr=0.01) # Define the optimizer"
   ]
  },
  {
   "cell_type": "code",
   "execution_count": 136,
   "metadata": {},
   "outputs": [
    {
     "name": "stdout",
     "output_type": "stream",
     "text": [
      "Epoch: 0, loss: 36935.0390625, loss_test: 36301.13671875\n",
      "Epoch: 100, loss: 777.172119140625, loss_test: 764.6280517578125\n",
      "Epoch: 200, loss: 112.02754974365234, loss_test: 110.82955932617188\n",
      "Epoch: 300, loss: 99.56891632080078, loss_test: 98.88114166259766\n",
      "Epoch: 400, loss: 99.33170318603516, loss_test: 98.6982650756836\n",
      "Converged after 482 epochs\n"
     ]
    }
   ],
   "source": [
    "prev_loss = 0\n",
    "for epoch in range(10000):\n",
    "    model.train() # Set the model to training mode\n",
    "    y_pred = model(X) # Evaluate the model on the training data\n",
    "    loss = loss_fn(y_pred, y) # Calculate the loss\n",
    "\n",
    "    # Early stopping \n",
    "    if (abs(loss.item() - prev_loss)) < 1e-6:\n",
    "        print(f\"Converged after {epoch} epochs\")\n",
    "        break\n",
    "    # print(\"Model params: \", model.state_dict())\n",
    "    optimizer.zero_grad() # Reset the gradients for optimizer\n",
    "    loss.backward() # Calculate the gradients for loss_fn wrt model parameters\n",
    "    optimizer.step() # Update the model parameters\n",
    "\n",
    "    model.eval() # Set the model to evaluation mode\n",
    "    y_pred_test = model(X_test) # Evaluate the model on the test data\n",
    "    loss_test = loss_fn(y_pred_test, y_test) # Calculate the loss\n",
    "\n",
    "\n",
    "    \n",
    "    prev_loss = loss.item()\n",
    "    if epoch % 100 == 0:\n",
    "        print(f\"Epoch: {epoch}, loss: {loss.item()}, loss_test: {loss_test.item()}\")"
   ]
  },
  {
   "cell_type": "code",
   "execution_count": 137,
   "metadata": {},
   "outputs": [
    {
     "data": {
      "image/png": "[encoded data removed]",
      "text/plain": [
       "<Figure size 432x288 with 1 Axes>"
      ]
     },
     "metadata": {
      "needs_background": "light"
     },
     "output_type": "display_data"
    }
   ],
   "source": [
    "plt.scatter(y, model(X).detach().numpy())\n",
    "plt.show()\n",
    "\n",
    "# We need to detach the tensor from the computation graph to avoid keeping it in memory for gradient calculations.\n"
   ]
  }
 ],
 "metadata": {
  "interpreter": {
   "hash": "ad2bdc8ecc057115af97d19610ffacc2b4e99fae6737bb82f5d7fb13d2f2c186"
  },
  "kernelspec": {
   "display_name": "Python 3.9.7 ('base')",
   "language": "python",
   "name": "python3"
  },
  "language_info": {
   "codemirror_mode": {
    "name": "ipython",
    "version": 3
   },
   "file_extension": ".py",
   "mimetype": "text/x-python",
   "name": "python",
   "nbconvert_exporter": "python",
   "pygments_lexer": "ipython3",
   "version": "3.9.7"
  },
  "orig_nbformat": 4
 },
 "nbformat": 4,
 "nbformat_minor": 2
}
