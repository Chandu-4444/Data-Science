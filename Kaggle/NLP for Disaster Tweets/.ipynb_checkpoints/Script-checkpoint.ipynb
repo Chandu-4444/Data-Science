{
 "cells": [
  {
   "cell_type": "code",
   "execution_count": 67,
   "id": "e2a3f073",
   "metadata": {
    "ExecuteTime": {
     "end_time": "2022-05-20T17:32:08.391673Z",
     "start_time": "2022-05-20T17:32:08.385319Z"
    }
   },
   "outputs": [],
   "source": [
    "import pandas as pd\n",
    "import numpy as np\n",
    "import matplotlib.pyplot as plt\n",
    "import seaborn as sns\n",
    "\n",
    "import xgboost as xgb\n",
    "\n",
    "from sklearn.svm import SVC\n",
    "from sklearn.model_selection import GridSearchCV\n",
    "from sklearn.feature_extraction.text import TfidfVectorizer, CountVectorizer\n",
    "from sklearn.linear_model import LogisticRegression\n",
    "from sklearn.naive_bayes import MultinomialNB\n",
    "from sklearn.metrics import f1_score, make_scorer\n",
    "from sklearn import pipeline"
   ]
  },
  {
   "cell_type": "code",
   "execution_count": 29,
   "id": "4bc87365",
   "metadata": {
    "ExecuteTime": {
     "end_time": "2022-05-20T17:01:19.976666Z",
     "start_time": "2022-05-20T17:01:19.939714Z"
    }
   },
   "outputs": [],
   "source": [
    "train_df = pd.read_csv(\"data/train.csv\")\n",
    "test_df = pd.read_csv(\"data/test.csv\")\n",
    "sample = pd.read_csv(\"data/sample_submission.csv\")"
   ]
  },
  {
   "cell_type": "code",
   "execution_count": 30,
   "id": "56db10d2",
   "metadata": {
    "ExecuteTime": {
     "end_time": "2022-05-20T17:01:19.986078Z",
     "start_time": "2022-05-20T17:01:19.978106Z"
    }
   },
   "outputs": [
    {
     "data": {
      "text/html": [
       "<div>\n",
       "<style scoped>\n",
       "    .dataframe tbody tr th:only-of-type {\n",
       "        vertical-align: middle;\n",
       "    }\n",
       "\n",
       "    .dataframe tbody tr th {\n",
       "        vertical-align: top;\n",
       "    }\n",
       "\n",
       "    .dataframe thead th {\n",
       "        text-align: right;\n",
       "    }\n",
       "</style>\n",
       "<table border=\"1\" class=\"dataframe\">\n",
       "  <thead>\n",
       "    <tr style=\"text-align: right;\">\n",
       "      <th></th>\n",
       "      <th>id</th>\n",
       "      <th>keyword</th>\n",
       "      <th>location</th>\n",
       "      <th>text</th>\n",
       "      <th>target</th>\n",
       "    </tr>\n",
       "  </thead>\n",
       "  <tbody>\n",
       "    <tr>\n",
       "      <th>0</th>\n",
       "      <td>1</td>\n",
       "      <td>NaN</td>\n",
       "      <td>NaN</td>\n",
       "      <td>Our Deeds are the Reason of this #earthquake M...</td>\n",
       "      <td>1</td>\n",
       "    </tr>\n",
       "    <tr>\n",
       "      <th>1</th>\n",
       "      <td>4</td>\n",
       "      <td>NaN</td>\n",
       "      <td>NaN</td>\n",
       "      <td>Forest fire near La Ronge Sask. Canada</td>\n",
       "      <td>1</td>\n",
       "    </tr>\n",
       "    <tr>\n",
       "      <th>2</th>\n",
       "      <td>5</td>\n",
       "      <td>NaN</td>\n",
       "      <td>NaN</td>\n",
       "      <td>All residents asked to 'shelter in place' are ...</td>\n",
       "      <td>1</td>\n",
       "    </tr>\n",
       "    <tr>\n",
       "      <th>3</th>\n",
       "      <td>6</td>\n",
       "      <td>NaN</td>\n",
       "      <td>NaN</td>\n",
       "      <td>13,000 people receive #wildfires evacuation or...</td>\n",
       "      <td>1</td>\n",
       "    </tr>\n",
       "    <tr>\n",
       "      <th>4</th>\n",
       "      <td>7</td>\n",
       "      <td>NaN</td>\n",
       "      <td>NaN</td>\n",
       "      <td>Just got sent this photo from Ruby #Alaska as ...</td>\n",
       "      <td>1</td>\n",
       "    </tr>\n",
       "  </tbody>\n",
       "</table>\n",
       "</div>"
      ],
      "text/plain": [
       "   id keyword location                                               text  \\\n",
       "0   1     NaN      NaN  Our Deeds are the Reason of this #earthquake M...   \n",
       "1   4     NaN      NaN             Forest fire near La Ronge Sask. Canada   \n",
       "2   5     NaN      NaN  All residents asked to 'shelter in place' are ...   \n",
       "3   6     NaN      NaN  13,000 people receive #wildfires evacuation or...   \n",
       "4   7     NaN      NaN  Just got sent this photo from Ruby #Alaska as ...   \n",
       "\n",
       "   target  \n",
       "0       1  \n",
       "1       1  \n",
       "2       1  \n",
       "3       1  \n",
       "4       1  "
      ]
     },
     "execution_count": 30,
     "metadata": {},
     "output_type": "execute_result"
    }
   ],
   "source": [
    "train_df.head()"
   ]
  },
  {
   "cell_type": "code",
   "execution_count": 31,
   "id": "d32243fe",
   "metadata": {
    "ExecuteTime": {
     "end_time": "2022-05-20T17:01:19.995625Z",
     "start_time": "2022-05-20T17:01:19.987535Z"
    }
   },
   "outputs": [
    {
     "data": {
      "text/html": [
       "<div>\n",
       "<style scoped>\n",
       "    .dataframe tbody tr th:only-of-type {\n",
       "        vertical-align: middle;\n",
       "    }\n",
       "\n",
       "    .dataframe tbody tr th {\n",
       "        vertical-align: top;\n",
       "    }\n",
       "\n",
       "    .dataframe thead th {\n",
       "        text-align: right;\n",
       "    }\n",
       "</style>\n",
       "<table border=\"1\" class=\"dataframe\">\n",
       "  <thead>\n",
       "    <tr style=\"text-align: right;\">\n",
       "      <th></th>\n",
       "      <th>id</th>\n",
       "      <th>keyword</th>\n",
       "      <th>location</th>\n",
       "      <th>text</th>\n",
       "    </tr>\n",
       "  </thead>\n",
       "  <tbody>\n",
       "    <tr>\n",
       "      <th>0</th>\n",
       "      <td>0</td>\n",
       "      <td>NaN</td>\n",
       "      <td>NaN</td>\n",
       "      <td>Just happened a terrible car crash</td>\n",
       "    </tr>\n",
       "    <tr>\n",
       "      <th>1</th>\n",
       "      <td>2</td>\n",
       "      <td>NaN</td>\n",
       "      <td>NaN</td>\n",
       "      <td>Heard about #earthquake is different cities, s...</td>\n",
       "    </tr>\n",
       "    <tr>\n",
       "      <th>2</th>\n",
       "      <td>3</td>\n",
       "      <td>NaN</td>\n",
       "      <td>NaN</td>\n",
       "      <td>there is a forest fire at spot pond, geese are...</td>\n",
       "    </tr>\n",
       "    <tr>\n",
       "      <th>3</th>\n",
       "      <td>9</td>\n",
       "      <td>NaN</td>\n",
       "      <td>NaN</td>\n",
       "      <td>Apocalypse lighting. #Spokane #wildfires</td>\n",
       "    </tr>\n",
       "    <tr>\n",
       "      <th>4</th>\n",
       "      <td>11</td>\n",
       "      <td>NaN</td>\n",
       "      <td>NaN</td>\n",
       "      <td>Typhoon Soudelor kills 28 in China and Taiwan</td>\n",
       "    </tr>\n",
       "  </tbody>\n",
       "</table>\n",
       "</div>"
      ],
      "text/plain": [
       "   id keyword location                                               text\n",
       "0   0     NaN      NaN                 Just happened a terrible car crash\n",
       "1   2     NaN      NaN  Heard about #earthquake is different cities, s...\n",
       "2   3     NaN      NaN  there is a forest fire at spot pond, geese are...\n",
       "3   9     NaN      NaN           Apocalypse lighting. #Spokane #wildfires\n",
       "4  11     NaN      NaN      Typhoon Soudelor kills 28 in China and Taiwan"
      ]
     },
     "execution_count": 31,
     "metadata": {},
     "output_type": "execute_result"
    }
   ],
   "source": [
    "test_df.head()"
   ]
  },
  {
   "cell_type": "code",
   "execution_count": 32,
   "id": "580b2197",
   "metadata": {
    "ExecuteTime": {
     "end_time": "2022-05-20T17:01:20.004931Z",
     "start_time": "2022-05-20T17:01:19.997802Z"
    }
   },
   "outputs": [
    {
     "data": {
      "text/html": [
       "<div>\n",
       "<style scoped>\n",
       "    .dataframe tbody tr th:only-of-type {\n",
       "        vertical-align: middle;\n",
       "    }\n",
       "\n",
       "    .dataframe tbody tr th {\n",
       "        vertical-align: top;\n",
       "    }\n",
       "\n",
       "    .dataframe thead th {\n",
       "        text-align: right;\n",
       "    }\n",
       "</style>\n",
       "<table border=\"1\" class=\"dataframe\">\n",
       "  <thead>\n",
       "    <tr style=\"text-align: right;\">\n",
       "      <th></th>\n",
       "      <th>id</th>\n",
       "      <th>target</th>\n",
       "    </tr>\n",
       "  </thead>\n",
       "  <tbody>\n",
       "    <tr>\n",
       "      <th>0</th>\n",
       "      <td>0</td>\n",
       "      <td>0</td>\n",
       "    </tr>\n",
       "    <tr>\n",
       "      <th>1</th>\n",
       "      <td>2</td>\n",
       "      <td>0</td>\n",
       "    </tr>\n",
       "    <tr>\n",
       "      <th>2</th>\n",
       "      <td>3</td>\n",
       "      <td>0</td>\n",
       "    </tr>\n",
       "    <tr>\n",
       "      <th>3</th>\n",
       "      <td>9</td>\n",
       "      <td>0</td>\n",
       "    </tr>\n",
       "    <tr>\n",
       "      <th>4</th>\n",
       "      <td>11</td>\n",
       "      <td>0</td>\n",
       "    </tr>\n",
       "  </tbody>\n",
       "</table>\n",
       "</div>"
      ],
      "text/plain": [
       "   id  target\n",
       "0   0       0\n",
       "1   2       0\n",
       "2   3       0\n",
       "3   9       0\n",
       "4  11       0"
      ]
     },
     "execution_count": 32,
     "metadata": {},
     "output_type": "execute_result"
    }
   ],
   "source": [
    "sample.head()"
   ]
  },
  {
   "cell_type": "code",
   "execution_count": 33,
   "id": "4329a2d3",
   "metadata": {
    "ExecuteTime": {
     "end_time": "2022-05-20T17:01:20.009021Z",
     "start_time": "2022-05-20T17:01:20.005984Z"
    }
   },
   "outputs": [
    {
     "data": {
      "text/plain": [
       "((7613, 5), (3263, 4))"
      ]
     },
     "execution_count": 33,
     "metadata": {},
     "output_type": "execute_result"
    }
   ],
   "source": [
    "train_df.shape, test_df.shape"
   ]
  },
  {
   "cell_type": "code",
   "execution_count": 34,
   "id": "e73c7cd4",
   "metadata": {
    "ExecuteTime": {
     "end_time": "2022-05-20T17:01:20.013255Z",
     "start_time": "2022-05-20T17:01:20.010942Z"
    }
   },
   "outputs": [],
   "source": [
    "# Let's drop the keyword and location columns \n",
    "# as they probably won't help much in predicting \n",
    "# is the tweet it valid or not."
   ]
  },
  {
   "cell_type": "code",
   "execution_count": 35,
   "id": "1f7f2025",
   "metadata": {
    "ExecuteTime": {
     "end_time": "2022-05-20T17:01:20.018780Z",
     "start_time": "2022-05-20T17:01:20.014797Z"
    }
   },
   "outputs": [],
   "source": [
    "train_df = train_df.drop([\"keyword\", \"location\"], axis=1)\n",
    "test_df = test_df.drop([\"keyword\", \"location\"], axis=1)"
   ]
  },
  {
   "cell_type": "code",
   "execution_count": 36,
   "id": "98b05986",
   "metadata": {
    "ExecuteTime": {
     "end_time": "2022-05-20T17:01:20.025222Z",
     "start_time": "2022-05-20T17:01:20.019928Z"
    }
   },
   "outputs": [],
   "source": [
    "from sklearn.model_selection import train_test_split\n",
    "\n",
    "X_train, X_valid, y_train, y_valid = train_test_split(train_df.drop(\"target\", axis=1), train_df[\"target\"], test_size=0.25, shuffle=True)"
   ]
  },
  {
   "cell_type": "code",
   "execution_count": 37,
   "id": "d6a8a500",
   "metadata": {
    "ExecuteTime": {
     "end_time": "2022-05-20T17:01:20.032994Z",
     "start_time": "2022-05-20T17:01:20.026315Z"
    }
   },
   "outputs": [
    {
     "name": "stdout",
     "output_type": "stream",
     "text": [
      "(5709, 2)\n",
      "(1904, 2)\n"
     ]
    }
   ],
   "source": [
    "print(X_train.shape)\n",
    "print(X_valid.shape)"
   ]
  },
  {
   "cell_type": "code",
   "execution_count": 38,
   "id": "876c18db",
   "metadata": {
    "ExecuteTime": {
     "end_time": "2022-05-20T17:01:20.036383Z",
     "start_time": "2022-05-20T17:01:20.034427Z"
    }
   },
   "outputs": [],
   "source": [
    "# We'll start with basic model i.e tfidf and logistic regression"
   ]
  },
  {
   "cell_type": "code",
   "execution_count": 42,
   "id": "cb1d3d1c",
   "metadata": {
    "ExecuteTime": {
     "end_time": "2022-05-20T17:02:39.295806Z",
     "start_time": "2022-05-20T17:02:38.527688Z"
    }
   },
   "outputs": [],
   "source": [
    "tfv = TfidfVectorizer(min_df=1,\n",
    "                      max_features=None,\n",
    "                      strip_accents=\"unicode\",\n",
    "                      analyzer=\"word\",\n",
    "                      token_pattern=r'\\w{1,}',\n",
    "                      ngram_range=(1, 3),\n",
    "                      use_idf=1,\n",
    "                      smooth_idf=1,\n",
    "                      sublinear_tf=1,\n",
    "                      stop_words=\"english\")\n",
    "\n",
    "tfv.fit(list(X_train[\"text\"]) + list(X_valid[\"text\"]))\n",
    "X_train_tfv = tfv.transform(X_train[\"text\"])\n",
    "X_valid_tfv = tfv.transform(X_valid[\"text\"])"
   ]
  },
  {
   "cell_type": "code",
   "execution_count": 52,
   "id": "3b191241",
   "metadata": {
    "ExecuteTime": {
     "end_time": "2022-05-20T17:14:35.398427Z",
     "start_time": "2022-05-20T17:14:34.429482Z"
    }
   },
   "outputs": [
    {
     "name": "stdout",
     "output_type": "stream",
     "text": [
      "0.6428027418126429\n"
     ]
    }
   ],
   "source": [
    "logistic_model = LogisticRegression()\n",
    "logistic_model.fit(X_train_tfv, y_train)\n",
    "logistic_tfidf = f1_score(y_valid, logistic_model.predict(X_valid_tfv))\n",
    "print(logistic_tfidf)"
   ]
  },
  {
   "cell_type": "code",
   "execution_count": 53,
   "id": "7c6ae1d0",
   "metadata": {
    "ExecuteTime": {
     "end_time": "2022-05-20T17:17:04.936578Z",
     "start_time": "2022-05-20T17:17:04.228462Z"
    }
   },
   "outputs": [],
   "source": [
    "ctv = CountVectorizer(analyzer=\"word\",\n",
    "                      token_pattern=r\"\\w{1,}\",\n",
    "                      ngram_range=(1, 3),\n",
    "                      stop_words=\"english\")\n",
    "\n",
    "ctv.fit(list(X_train[\"text\"]) + list(X_valid[\"text\"]))\n",
    "X_train_ctv = ctv.transform(X_train[\"text\"])\n",
    "X_valid_ctv = ctv.transform(X_valid[\"text\"])"
   ]
  },
  {
   "cell_type": "code",
   "execution_count": 54,
   "id": "a7f44531",
   "metadata": {
    "ExecuteTime": {
     "end_time": "2022-05-20T17:17:37.740688Z",
     "start_time": "2022-05-20T17:17:36.559125Z"
    }
   },
   "outputs": [
    {
     "name": "stdout",
     "output_type": "stream",
     "text": [
      "0.7216216216216216\n"
     ]
    }
   ],
   "source": [
    "logistic_model = LogisticRegression()\n",
    "logistic_model.fit(X_train_ctv, y_train)\n",
    "logistic_ctv = f1_score(y_valid, logistic_model.predict(X_valid_ctv))\n",
    "print(logistic_ctv)"
   ]
  },
  {
   "cell_type": "code",
   "execution_count": 55,
   "id": "edccc162",
   "metadata": {
    "ExecuteTime": {
     "end_time": "2022-05-20T17:23:25.632450Z",
     "start_time": "2022-05-20T17:23:25.616246Z"
    }
   },
   "outputs": [
    {
     "name": "stdout",
     "output_type": "stream",
     "text": [
      "0.6911225238444607\n"
     ]
    }
   ],
   "source": [
    "naive_bayes_model = MultinomialNB()\n",
    "naive_bayes_model.fit(X_train_tfv, y_train)\n",
    "naive_bayes_tfv = f1_score(y_valid, naive_bayes_model.predict(X_valid_tfv))\n",
    "print(naive_bayes_tfv)"
   ]
  },
  {
   "cell_type": "code",
   "execution_count": 56,
   "id": "cfd6b071",
   "metadata": {
    "ExecuteTime": {
     "end_time": "2022-05-20T17:23:52.634090Z",
     "start_time": "2022-05-20T17:23:52.613170Z"
    }
   },
   "outputs": [
    {
     "name": "stdout",
     "output_type": "stream",
     "text": [
      "0.7455410225921522\n"
     ]
    }
   ],
   "source": [
    "naive_bayes_model = MultinomialNB()\n",
    "naive_bayes_model.fit(X_train_ctv, y_train)\n",
    "naive_bayes_ctv = f1_score(y_valid, naive_bayes_model.predict(X_valid_ctv))\n",
    "print(naive_bayes_ctv)"
   ]
  },
  {
   "cell_type": "code",
   "execution_count": 57,
   "id": "8cf634b7",
   "metadata": {
    "ExecuteTime": {
     "end_time": "2022-05-20T17:26:29.275702Z",
     "start_time": "2022-05-20T17:26:27.466064Z"
    }
   },
   "outputs": [
    {
     "name": "stdout",
     "output_type": "stream",
     "text": [
      "0.697072838665759\n"
     ]
    }
   ],
   "source": [
    "xgboost_model = xgb.XGBClassifier()\n",
    "xgboost_model.fit(X_train_tfv, y_train)\n",
    "xgboost_tfv = f1_score(y_valid, xgboost_model.predict(X_valid_tfv))\n",
    "print(xgboost_tfv)"
   ]
  },
  {
   "cell_type": "code",
   "execution_count": 58,
   "id": "7909b425",
   "metadata": {
    "ExecuteTime": {
     "end_time": "2022-05-20T17:26:53.204498Z",
     "start_time": "2022-05-20T17:26:51.716802Z"
    }
   },
   "outputs": [
    {
     "name": "stdout",
     "output_type": "stream",
     "text": [
      "0.7162162162162161\n"
     ]
    }
   ],
   "source": [
    "xgboost_model = xgb.XGBClassifier()\n",
    "xgboost_model.fit(X_train_ctv, y_train)\n",
    "xgboost_ctv = f1_score(y_valid, xgboost_model.predict(X_valid_ctv))\n",
    "print(xgboost_ctv)"
   ]
  },
  {
   "cell_type": "code",
   "execution_count": 60,
   "id": "57ed4634",
   "metadata": {
    "ExecuteTime": {
     "end_time": "2022-05-20T17:28:56.248145Z",
     "start_time": "2022-05-20T17:28:56.241829Z"
    }
   },
   "outputs": [],
   "source": [
    "f1_scorer = make_scorer(f1_score)"
   ]
  },
  {
   "cell_type": "code",
   "execution_count": 89,
   "id": "3781dee5",
   "metadata": {
    "ExecuteTime": {
     "end_time": "2022-05-20T17:51:29.268659Z",
     "start_time": "2022-05-20T17:51:23.881333Z"
    }
   },
   "outputs": [
    {
     "name": "stdout",
     "output_type": "stream",
     "text": [
      "Best score: 0.608\n"
     ]
    }
   ],
   "source": [
    "logistic_model_gridsearch = LogisticRegression(solver=\"liblinear\")\n",
    "\n",
    "clf = pipeline.Pipeline([('lr', logistic_model_gridsearch)])\n",
    "\n",
    "params_grid = {'lr__C': np.linspace(0.1, 1, 10), 'lr__penalty': ['l1', 'l2']}\n",
    "\n",
    "model = GridSearchCV(estimator=clf,\n",
    "                     param_grid=params_grid,\n",
    "                     scoring=f1_scorer,\n",
    "                     refit=True,\n",
    "                     cv=5)\n",
    "\n",
    "model.fit(X_train_tfv, y_train)\n",
    "\n",
    "print(\"Best score: %0.3f\" % model.best_score_)"
   ]
  },
  {
   "cell_type": "code",
   "execution_count": 92,
   "id": "2a63e716",
   "metadata": {
    "ExecuteTime": {
     "end_time": "2022-05-20T17:53:28.333430Z",
     "start_time": "2022-05-20T17:53:19.650886Z"
    }
   },
   "outputs": [
    {
     "name": "stdout",
     "output_type": "stream",
     "text": [
      "Best score: 0.725\n",
      "0.7330316742081447\n"
     ]
    }
   ],
   "source": [
    "logistic_model_gridsearch = LogisticRegression(solver=\"liblinear\")\n",
    "\n",
    "clf = pipeline.Pipeline([('lr', logistic_model_gridsearch)])\n",
    "\n",
    "params_grid = {'lr__C': np.linspace(0.1, 1, 10), 'lr__penalty': ['l1', 'l2']}\n",
    "\n",
    "model = GridSearchCV(estimator=clf,\n",
    "                     param_grid=params_grid,\n",
    "                     scoring=f1_scorer,\n",
    "                     refit=True,\n",
    "                     cv=5)\n",
    "\n",
    "model.fit(X_train_ctv, y_train)\n",
    "\n",
    "print(\"Best score: %0.3f\" % model.best_score_)\n",
    "logistic_grid_ctv = f1_score(y_valid, model.predict(X_valid_ctv))\n",
    "print(logistic_grid_ctv)"
   ]
  },
  {
   "cell_type": "code",
   "execution_count": 104,
   "id": "804f207a",
   "metadata": {
    "ExecuteTime": {
     "end_time": "2022-05-20T18:00:18.944860Z",
     "start_time": "2022-05-20T18:00:18.709137Z"
    }
   },
   "outputs": [
    {
     "name": "stdout",
     "output_type": "stream",
     "text": [
      "Fitting 2 folds for each of 6 candidates, totalling 12 fits\n",
      "Best score: 0.726\n",
      "Best parameters set:\n",
      "\tnb__alpha: 0.1\n",
      "0.7389221556886227\n"
     ]
    }
   ],
   "source": [
    "nb_model = MultinomialNB()\n",
    "\n",
    "# Create the pipeline \n",
    "clf = pipeline.Pipeline([('nb', nb_model)])\n",
    "\n",
    "# parameter grid\n",
    "param_grid = {'nb__alpha': [0.001, 0.01, 0.1, 1, 10, 100]}\n",
    "\n",
    "# Initialize Grid Search Model\n",
    "model = GridSearchCV(estimator=clf, param_grid=param_grid, scoring=f1_scorer,\n",
    "                                 verbose=10, n_jobs=-1, refit=True, cv=2)\n",
    "\n",
    "# Fit Grid Search Model\n",
    "model.fit(X_train_tfv, y_train)  # we can use the full data here but im only using xtrain. \n",
    "print(\"Best score: %0.3f\" % model.best_score_)\n",
    "print(\"Best parameters set:\")\n",
    "best_parameters = model.best_estimator_.get_params()\n",
    "for param_name in sorted(param_grid.keys()):\n",
    "    print(\"\\t%s: %r\" % (param_name, best_parameters[param_name]))\n",
    "    \n",
    "nb_grid_tfv = f1_score(y_valid, model.predict(X_valid_tfv))\n",
    "print(nb_grid_tfv)\n",
    "\n",
    "#LB: 0.79344"
   ]
  },
  {
   "cell_type": "code",
   "execution_count": 105,
   "id": "e773a387",
   "metadata": {
    "ExecuteTime": {
     "end_time": "2022-05-20T18:00:32.868633Z",
     "start_time": "2022-05-20T18:00:32.730090Z"
    }
   },
   "outputs": [],
   "source": [
    "sample[\"target\"] = model.predict(tfv.transform(test_df[\"text\"]))\n",
    "sample.to_csv(\"final_submission.csv\", index=False)"
   ]
  },
  {
   "cell_type": "code",
   "execution_count": 100,
   "id": "d3312c0f",
   "metadata": {
    "ExecuteTime": {
     "end_time": "2022-05-20T17:56:02.285782Z",
     "start_time": "2022-05-20T17:56:02.058012Z"
    }
   },
   "outputs": [
    {
     "name": "stdout",
     "output_type": "stream",
     "text": [
      "Fitting 2 folds for each of 6 candidates, totalling 12 fits\n",
      "Best score: 0.734\n",
      "Best parameters set:\n",
      "\tnb__alpha: 1\n",
      "0.7455410225921522\n"
     ]
    }
   ],
   "source": [
    "nb_model = MultinomialNB()\n",
    "\n",
    "# Create the pipeline \n",
    "clf = pipeline.Pipeline([('nb', nb_model)])\n",
    "\n",
    "# parameter grid\n",
    "param_grid = {'nb__alpha': [0.001, 0.01, 0.1, 1, 10, 100]}\n",
    "\n",
    "# Initialize Grid Search Model\n",
    "model = GridSearchCV(estimator=clf, param_grid=param_grid, scoring=f1_scorer,\n",
    "                                 verbose=10, n_jobs=-1, refit=True, cv=2)\n",
    "\n",
    "# Fit Grid Search Model\n",
    "model.fit(X_train_ctv, y_train)  # we can use the full data here but im only using xtrain. \n",
    "print(\"Best score: %0.3f\" % model.best_score_)\n",
    "print(\"Best parameters set:\")\n",
    "best_parameters = model.best_estimator_.get_params()\n",
    "for param_name in sorted(param_grid.keys()):\n",
    "    print(\"\\t%s: %r\" % (param_name, best_parameters[param_name]))\n",
    "    \n",
    "nb_grid_ctv = f1_score(y_valid, model.predict(X_valid_ctv))\n",
    "print(nb_grid_ctv)\n",
    "# LB: 0.79446"
   ]
  },
  {
   "cell_type": "code",
   "execution_count": null,
   "id": "4b926592",
   "metadata": {},
   "outputs": [],
   "source": []
  },
  {
   "cell_type": "code",
   "execution_count": null,
   "id": "c5abda35",
   "metadata": {},
   "outputs": [],
   "source": []
  },
  {
   "cell_type": "code",
   "execution_count": null,
   "id": "9b224942",
   "metadata": {},
   "outputs": [],
   "source": []
  },
  {
   "cell_type": "code",
   "execution_count": null,
   "id": "627f89b8",
   "metadata": {},
   "outputs": [],
   "source": []
  },
  {
   "cell_type": "code",
   "execution_count": null,
   "id": "960fbc76",
   "metadata": {},
   "outputs": [],
   "source": []
  },
  {
   "cell_type": "code",
   "execution_count": 103,
   "id": "28fcf2be",
   "metadata": {
    "ExecuteTime": {
     "end_time": "2022-05-20T17:58:09.903826Z",
     "start_time": "2022-05-20T17:58:09.788250Z"
    }
   },
   "outputs": [],
   "source": [
    "sample[\"target\"] = model.predict(ctv.transform(test_df[\"text\"]))\n",
    "sample.to_csv(\"final_submission.csv\", index=False)"
   ]
  },
  {
   "cell_type": "code",
   "execution_count": null,
   "id": "50919a10",
   "metadata": {},
   "outputs": [],
   "source": []
  }
 ],
 "metadata": {
  "kernelspec": {
   "display_name": "Python 3",
   "language": "python",
   "name": "python3"
  },
  "language_info": {
   "codemirror_mode": {
    "name": "ipython",
    "version": 3
   },
   "file_extension": ".py",
   "mimetype": "text/x-python",
   "name": "python",
   "nbconvert_exporter": "python",
   "pygments_lexer": "ipython3",
   "version": "3.8.8"
  },
  "toc": {
   "base_numbering": 1,
   "nav_menu": {},
   "number_sections": true,
   "sideBar": true,
   "skip_h1_title": false,
   "title_cell": "Table of Contents",
   "title_sidebar": "Contents",
   "toc_cell": false,
   "toc_position": {},
   "toc_section_display": true,
   "toc_window_display": false
  },
  "varInspector": {
   "cols": {
    "lenName": 16,
    "lenType": 16,
    "lenVar": 40
   },
   "kernels_config": {
    "python": {
     "delete_cmd_postfix": "",
     "delete_cmd_prefix": "del ",
     "library": "var_list.py",
     "varRefreshCmd": "print(var_dic_list())"
    },
    "r": {
     "delete_cmd_postfix": ") ",
     "delete_cmd_prefix": "rm(",
     "library": "var_list.r",
     "varRefreshCmd": "cat(var_dic_list()) "
    }
   },
   "types_to_exclude": [
    "module",
    "function",
    "builtin_function_or_method",
    "instance",
    "_Feature"
   ],
   "window_display": false
  }
 },
 "nbformat": 4,
 "nbformat_minor": 5
}
