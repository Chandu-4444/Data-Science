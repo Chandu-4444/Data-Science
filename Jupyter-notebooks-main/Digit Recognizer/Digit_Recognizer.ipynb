{
 "cells": [
  {
   "cell_type": "code",
   "execution_count": null,
   "id": "f7ad9888",
   "metadata": {},
   "outputs": [],
   "source": [
    "# https://www.kaggle.com/c/digit-recognizer"
   ]
  },
  {
   "cell_type": "code",
   "execution_count": 2,
   "id": "69b9f148",
   "metadata": {},
   "outputs": [],
   "source": [
    "import pandas as pd\n",
    "import numpy as np\n",
    "import matplotlib.pyplot as plt"
   ]
  },
  {
   "cell_type": "code",
   "execution_count": 3,
   "id": "fde66c21",
   "metadata": {},
   "outputs": [],
   "source": [
    "data = pd.read_csv(\"train.csv\")\n",
    "test_data = pd.read_csv(\"test.csv\")"
   ]
  },
  {
   "cell_type": "code",
   "execution_count": 4,
   "id": "507018f0",
   "metadata": {},
   "outputs": [],
   "source": [
    "X_train = data.drop(['label'], axis = 1)\n",
    "y_train = data['label']"
   ]
  },
  {
   "cell_type": "code",
   "execution_count": 5,
   "id": "5be9c2a1",
   "metadata": {},
   "outputs": [
    {
     "data": {
      "text/plain": [
       "<matplotlib.image.AxesImage at 0x2258a526100>"
      ]
     },
     "execution_count": 5,
     "metadata": {},
     "output_type": "execute_result"
    },
    {
     "data": {
      "image/png": "[encoded data removed]",
      "text/plain": [
       "<Figure size 432x288 with 1 Axes>"
      ]
     },
     "metadata": {
      "needs_background": "light"
     },
     "output_type": "display_data"
    }
   ],
   "source": [
    "plt.imshow(X_train.values[0].reshape(28, 28))"
   ]
  },
  {
   "cell_type": "code",
   "execution_count": 6,
   "id": "6c99602a",
   "metadata": {},
   "outputs": [],
   "source": [
    "X_train = X_train / 255.0 "
   ]
  },
  {
   "cell_type": "code",
   "execution_count": 7,
   "id": "f211f123",
   "metadata": {},
   "outputs": [],
   "source": [
    "X_train = X_train.values.reshape(-1, 28, 28, 1)"
   ]
  },
  {
   "cell_type": "code",
   "execution_count": 28,
   "id": "45152e3a",
   "metadata": {},
   "outputs": [],
   "source": [
    "X_test = test_data.values.reshape(-1, 28, 28, 1)\n",
    "X_test = X_test / 255.0"
   ]
  },
  {
   "cell_type": "code",
   "execution_count": 9,
   "id": "b6f1577d",
   "metadata": {},
   "outputs": [],
   "source": [
    "import tensorflow as tf\n",
    "from tensorflow import keras"
   ]
  },
  {
   "cell_type": "code",
   "execution_count": 10,
   "id": "236d9c42",
   "metadata": {},
   "outputs": [],
   "source": [
    "y_train = tf.one_hot(y_train, depth = 10)"
   ]
  },
  {
   "cell_type": "code",
   "execution_count": 11,
   "id": "5b9a04e6",
   "metadata": {},
   "outputs": [],
   "source": [
    "model = keras.models.Sequential()\n",
    "\n",
    "model.add(keras.layers.Conv2D(filters = 64, kernel_size=(5,5), padding='same', activation='relu', input_shape=(28, 28, 1)))\n",
    "model.add(keras.layers.BatchNormalization())\n",
    "\n",
    "model.add(keras.layers.Conv2D(filters = 64, kernel_size=(5,5), padding='same', activation='relu'))\n",
    "model.add(keras.layers.BatchNormalization())\n",
    "\n",
    "model.add(keras.layers.MaxPool2D(pool_size=(2,2)))\n",
    "model.add(keras.layers.Dropout(0.5))\n",
    "\n",
    "model.add(keras.layers.Conv2D(filters = 64, kernel_size=(3,3), padding='same', activation='relu'))\n",
    "model.add(keras.layers.BatchNormalization())\n",
    "\n",
    "model.add(keras.layers.Conv2D(filters = 64, kernel_size=(3,3), padding='same', activation='relu'))\n",
    "model.add(keras.layers.BatchNormalization())\n",
    "\n",
    "model.add(keras.layers.MaxPool2D(pool_size=(2,2)))\n",
    "model.add(keras.layers.Dropout(0.5))\n",
    "\n",
    "model.add(keras.layers.Flatten())\n",
    "model.add(keras.layers.Dense(256, activation='relu'))\n",
    "model.add(keras.layers.BatchNormalization())\n",
    "model.add(keras.layers.Dropout(0.5))\n",
    "\n",
    "model.add(keras.layers.Dense(256, activation='relu'))\n",
    "model.add(keras.layers.BatchNormalization())\n",
    "model.add(keras.layers.Dropout(0.5))\n",
    "\n",
    "model.add(keras.layers.Dense(10, activation='softmax'))"
   ]
  },
  {
   "cell_type": "code",
   "execution_count": 12,
   "id": "ab2d0cbe",
   "metadata": {},
   "outputs": [
    {
     "name": "stdout",
     "output_type": "stream",
     "text": [
      "Model: \"sequential\"\n",
      "_________________________________________________________________\n",
      "Layer (type)                 Output Shape              Param #   \n",
      "=================================================================\n",
      "conv2d (Conv2D)              (None, 28, 28, 64)        1664      \n",
      "_________________________________________________________________\n",
      "batch_normalization (BatchNo (None, 28, 28, 64)        256       \n",
      "_________________________________________________________________\n",
      "conv2d_1 (Conv2D)            (None, 28, 28, 64)        102464    \n",
      "_________________________________________________________________\n",
      "batch_normalization_1 (Batch (None, 28, 28, 64)        256       \n",
      "_________________________________________________________________\n",
      "max_pooling2d (MaxPooling2D) (None, 14, 14, 64)        0         \n",
      "_________________________________________________________________\n",
      "dropout (Dropout)            (None, 14, 14, 64)        0         \n",
      "_________________________________________________________________\n",
      "conv2d_2 (Conv2D)            (None, 14, 14, 64)        36928     \n",
      "_________________________________________________________________\n",
      "batch_normalization_2 (Batch (None, 14, 14, 64)        256       \n",
      "_________________________________________________________________\n",
      "conv2d_3 (Conv2D)            (None, 14, 14, 64)        36928     \n",
      "_________________________________________________________________\n",
      "batch_normalization_3 (Batch (None, 14, 14, 64)        256       \n",
      "_________________________________________________________________\n",
      "max_pooling2d_1 (MaxPooling2 (None, 7, 7, 64)          0         \n",
      "_________________________________________________________________\n",
      "dropout_1 (Dropout)          (None, 7, 7, 64)          0         \n",
      "_________________________________________________________________\n",
      "flatten (Flatten)            (None, 3136)              0         \n",
      "_________________________________________________________________\n",
      "dense (Dense)                (None, 256)               803072    \n",
      "_________________________________________________________________\n",
      "batch_normalization_4 (Batch (None, 256)               1024      \n",
      "_________________________________________________________________\n",
      "dropout_2 (Dropout)          (None, 256)               0         \n",
      "_________________________________________________________________\n",
      "dense_1 (Dense)              (None, 256)               65792     \n",
      "_________________________________________________________________\n",
      "batch_normalization_5 (Batch (None, 256)               1024      \n",
      "_________________________________________________________________\n",
      "dropout_3 (Dropout)          (None, 256)               0         \n",
      "_________________________________________________________________\n",
      "dense_2 (Dense)              (None, 10)                2570      \n",
      "=================================================================\n",
      "Total params: 1,052,490\n",
      "Trainable params: 1,050,954\n",
      "Non-trainable params: 1,536\n",
      "_________________________________________________________________\n"
     ]
    }
   ],
   "source": [
    "model.summary()"
   ]
  },
  {
   "cell_type": "code",
   "execution_count": 13,
   "id": "03bf6586",
   "metadata": {},
   "outputs": [],
   "source": [
    "model.compile(loss='categorical_crossentropy', optimizer='adam', metrics=[\"acc\"])"
   ]
  },
  {
   "cell_type": "code",
   "execution_count": 14,
   "id": "4c5aa1fe",
   "metadata": {},
   "outputs": [
    {
     "data": {
      "text/plain": [
       "(42000, 10)"
      ]
     },
     "execution_count": 14,
     "metadata": {},
     "output_type": "execute_result"
    }
   ],
   "source": [
    "y_train = np.array(y_train)\n",
    "y_train.shape"
   ]
  },
  {
   "cell_type": "code",
   "execution_count": 15,
   "id": "cdefa614",
   "metadata": {},
   "outputs": [],
   "source": [
    "from sklearn.model_selection import train_test_split\n",
    "X_train, X_val, y_train, y_val = train_test_split(X_train, y_train, test_size=0.2)"
   ]
  },
  {
   "cell_type": "code",
   "execution_count": 16,
   "id": "ff1568c1",
   "metadata": {},
   "outputs": [
    {
     "name": "stdout",
     "output_type": "stream",
     "text": [
      "Epoch 1/25\n",
      "1050/1050 [==============================] - 54s 32ms/step - loss: 0.4044 - acc: 0.8753 - val_loss: 0.0629 - val_acc: 0.9800\n",
      "Epoch 2/25\n",
      "1050/1050 [==============================] - 34s 32ms/step - loss: 0.1280 - acc: 0.9612 - val_loss: 0.0591 - val_acc: 0.9831\n",
      "Epoch 3/25\n",
      "1050/1050 [==============================] - 34s 32ms/step - loss: 0.0984 - acc: 0.9707 - val_loss: 0.0718 - val_acc: 0.9769\n",
      "Epoch 4/25\n",
      "1050/1050 [==============================] - 34s 32ms/step - loss: 0.0867 - acc: 0.9737 - val_loss: 0.0431 - val_acc: 0.9876\n",
      "Epoch 5/25\n",
      "1050/1050 [==============================] - 34s 32ms/step - loss: 0.0733 - acc: 0.9778 - val_loss: 0.0449 - val_acc: 0.9876\n",
      "Epoch 6/25\n",
      "1050/1050 [==============================] - 34s 32ms/step - loss: 0.0703 - acc: 0.9783 - val_loss: 0.0383 - val_acc: 0.9885\n",
      "Epoch 7/25\n",
      "1050/1050 [==============================] - 34s 32ms/step - loss: 0.0636 - acc: 0.9809 - val_loss: 0.0444 - val_acc: 0.9868\n",
      "Epoch 8/25\n",
      "1050/1050 [==============================] - 34s 32ms/step - loss: 0.0577 - acc: 0.9827 - val_loss: 0.0337 - val_acc: 0.9905\n",
      "Epoch 9/25\n",
      "1050/1050 [==============================] - 33s 32ms/step - loss: 0.0509 - acc: 0.9853 - val_loss: 0.0318 - val_acc: 0.9901\n",
      "Epoch 10/25\n",
      "1050/1050 [==============================] - 37s 35ms/step - loss: 0.0473 - acc: 0.9854 - val_loss: 0.0323 - val_acc: 0.9907\n",
      "Epoch 11/25\n",
      "1050/1050 [==============================] - 33s 32ms/step - loss: 0.0446 - acc: 0.9862 - val_loss: 0.0314 - val_acc: 0.9907\n",
      "Epoch 12/25\n",
      "1050/1050 [==============================] - 33s 32ms/step - loss: 0.0427 - acc: 0.9874 - val_loss: 0.0352 - val_acc: 0.9910\n",
      "Epoch 13/25\n",
      "1050/1050 [==============================] - 35s 33ms/step - loss: 0.0422 - acc: 0.9865 - val_loss: 0.0311 - val_acc: 0.9907\n",
      "Epoch 14/25\n",
      "1050/1050 [==============================] - 33s 32ms/step - loss: 0.0364 - acc: 0.9890 - val_loss: 0.0309 - val_acc: 0.9918\n",
      "Epoch 15/25\n",
      "1050/1050 [==============================] - 34s 32ms/step - loss: 0.0359 - acc: 0.9888 - val_loss: 0.0277 - val_acc: 0.9926\n",
      "Epoch 16/25\n",
      "1050/1050 [==============================] - 34s 33ms/step - loss: 0.0330 - acc: 0.9902 - val_loss: 0.0281 - val_acc: 0.9932\n",
      "Epoch 17/25\n",
      "1050/1050 [==============================] - 34s 32ms/step - loss: 0.0290 - acc: 0.9909 - val_loss: 0.0304 - val_acc: 0.9924\n",
      "Epoch 18/25\n",
      "1050/1050 [==============================] - 35s 33ms/step - loss: 0.0302 - acc: 0.9910 - val_loss: 0.0323 - val_acc: 0.9918\n",
      "Epoch 19/25\n",
      "1050/1050 [==============================] - 35s 33ms/step - loss: 0.0312 - acc: 0.9913 - val_loss: 0.0290 - val_acc: 0.9929\n",
      "Epoch 20/25\n",
      "1050/1050 [==============================] - 34s 32ms/step - loss: 0.0275 - acc: 0.9915 - val_loss: 0.0321 - val_acc: 0.9920\n",
      "Epoch 21/25\n",
      "1050/1050 [==============================] - 34s 32ms/step - loss: 0.0276 - acc: 0.9910 - val_loss: 0.0284 - val_acc: 0.9927\n",
      "Epoch 22/25\n",
      "1050/1050 [==============================] - 34s 33ms/step - loss: 0.0264 - acc: 0.9916 - val_loss: 0.0316 - val_acc: 0.9924\n",
      "Epoch 23/25\n",
      "1050/1050 [==============================] - 34s 32ms/step - loss: 0.0255 - acc: 0.9927 - val_loss: 0.0267 - val_acc: 0.9932\n",
      "Epoch 24/25\n",
      "1050/1050 [==============================] - 34s 32ms/step - loss: 0.0252 - acc: 0.9923 - val_loss: 0.0273 - val_acc: 0.9929\n",
      "Epoch 25/25\n",
      "1050/1050 [==============================] - 34s 32ms/step - loss: 0.0245 - acc: 0.9931 - val_loss: 0.0275 - val_acc: 0.9924\n"
     ]
    }
   ],
   "source": [
    "history = model.fit(X_train, y_train, epochs=25, validation_data=(X_val, y_val))"
   ]
  },
  {
   "cell_type": "code",
   "execution_count": 25,
   "id": "4d8eed33",
   "metadata": {},
   "outputs": [
    {
     "data": {
      "text/plain": [
       "<AxesSubplot:>"
      ]
     },
     "execution_count": 25,
     "metadata": {},
     "output_type": "execute_result"
    },
    {
     "data": {
      "image/png": "[encoded data removed]",
      "text/plain": [
       "<Figure size 432x288 with 1 Axes>"
      ]
     },
     "metadata": {
      "needs_background": "light"
     },
     "output_type": "display_data"
    }
   ],
   "source": [
    "pd.DataFrame(history.history).plot()"
   ]
  },
  {
   "cell_type": "code",
   "execution_count": 33,
   "id": "722d9d7f",
   "metadata": {},
   "outputs": [],
   "source": [
    "predictions = model.predict(X_test)"
   ]
  },
  {
   "cell_type": "code",
   "execution_count": 38,
   "id": "42c5d10c",
   "metadata": {},
   "outputs": [],
   "source": [
    "results = np.argmax(predictions, axis=1)"
   ]
  },
  {
   "cell_type": "code",
   "execution_count": 41,
   "id": "fbe7a590",
   "metadata": {},
   "outputs": [],
   "source": [
    "results = pd.Series(results, name='Label')"
   ]
  },
  {
   "cell_type": "code",
   "execution_count": 42,
   "id": "b476bf2b",
   "metadata": {},
   "outputs": [],
   "source": [
    "submission = pd.read_csv(\"sample_submission.csv\")"
   ]
  },
  {
   "cell_type": "code",
   "execution_count": 43,
   "id": "2253d8e0",
   "metadata": {},
   "outputs": [],
   "source": [
    "submission[\"Label\"] = results"
   ]
  },
  {
   "cell_type": "code",
   "execution_count": 44,
   "id": "b6bdc357",
   "metadata": {},
   "outputs": [],
   "source": [
    "submission.to_csv(\"submission.csv\", index=False)"
   ]
  },
  {
   "cell_type": "code",
   "execution_count": null,
   "id": "9ad42086",
   "metadata": {},
   "outputs": [],
   "source": []
  }
 ],
 "metadata": {
  "kernelspec": {
   "display_name": "Python 3",
   "language": "python",
   "name": "python3"
  },
  "language_info": {
   "codemirror_mode": {
    "name": "ipython",
    "version": 3
   },
   "file_extension": ".py",
   "mimetype": "text/x-python",
   "name": "python",
   "nbconvert_exporter": "python",
   "pygments_lexer": "ipython3",
   "version": "3.8.8"
  }
 },
 "nbformat": 4,
 "nbformat_minor": 5
}
