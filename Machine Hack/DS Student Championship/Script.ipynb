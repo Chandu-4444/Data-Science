{
 "cells": [
  {
   "cell_type": "markdown",
   "metadata": {},
   "source": [
    "# Loading Data"
   ]
  },
  {
   "cell_type": "code",
   "execution_count": 207,
   "metadata": {
    "ExecuteTime": {
     "end_time": "2022-05-15T20:21:51.626385Z",
     "start_time": "2022-05-15T20:21:51.617313Z"
    },
    "pycharm": {
     "name": "#%%\n"
    }
   },
   "outputs": [],
   "source": [
    "import pandas as pd\n",
    "import numpy as np\n",
    "import matplotlib.pyplot as plt\n",
    "import seaborn as sns\n",
    "\n",
    "import warnings\n",
    "import os\n",
    "import xgboost as xgb\n",
    "import catboost\n",
    "from mlxtend.regressor import StackingCVRegressor\n",
    "import math\n",
    "\n",
    "from sklearn.metrics import mean_squared_error\n",
    "\n",
    "\n",
    "warnings.filterwarnings(action='ignore')"
   ]
  },
  {
   "cell_type": "code",
   "execution_count": 5,
   "metadata": {
    "ExecuteTime": {
     "end_time": "2022-05-15T19:04:03.927044Z",
     "start_time": "2022-05-15T19:04:03.538961Z"
    },
    "pycharm": {
     "name": "#%%\n"
    }
   },
   "outputs": [],
   "source": [
    "train_df = pd.read_csv('train.csv')\n",
    "test_df = pd.read_csv('test.csv')"
   ]
  },
  {
   "cell_type": "code",
   "execution_count": 62,
   "metadata": {
    "ExecuteTime": {
     "end_time": "2022-05-13T18:32:03.513409Z",
     "start_time": "2022-05-13T18:32:03.495053Z"
    },
    "pycharm": {
     "name": "#%%\n"
    }
   },
   "outputs": [
    {
     "data": {
      "text/html": [
       "<div>\n",
       "<style scoped>\n",
       "    .dataframe tbody tr th:only-of-type {\n",
       "        vertical-align: middle;\n",
       "    }\n",
       "\n",
       "    .dataframe tbody tr th {\n",
       "        vertical-align: top;\n",
       "    }\n",
       "\n",
       "    .dataframe thead th {\n",
       "        text-align: right;\n",
       "    }\n",
       "</style>\n",
       "<table border=\"1\" class=\"dataframe\">\n",
       "  <thead>\n",
       "    <tr style=\"text-align: right;\">\n",
       "      <th></th>\n",
       "      <th>Property_ID</th>\n",
       "      <th>room</th>\n",
       "      <th>layout_type</th>\n",
       "      <th>property_type</th>\n",
       "      <th>locality</th>\n",
       "      <th>price</th>\n",
       "      <th>area</th>\n",
       "      <th>furnish_type</th>\n",
       "      <th>bathroom</th>\n",
       "      <th>city</th>\n",
       "      <th>...</th>\n",
       "      <th>floor</th>\n",
       "      <th>pet_friendly</th>\n",
       "      <th>power_backup</th>\n",
       "      <th>washing_machine</th>\n",
       "      <th>air_conditioner</th>\n",
       "      <th>geyser/solar</th>\n",
       "      <th>security_deposit</th>\n",
       "      <th>CCTV/security</th>\n",
       "      <th>lift</th>\n",
       "      <th>neighbourhood</th>\n",
       "    </tr>\n",
       "  </thead>\n",
       "  <tbody>\n",
       "    <tr>\n",
       "      <th>0</th>\n",
       "      <td>42208</td>\n",
       "      <td>3</td>\n",
       "      <td>BHK</td>\n",
       "      <td>Independent House</td>\n",
       "      <td>Palavakkam</td>\n",
       "      <td>33624</td>\n",
       "      <td>1312</td>\n",
       "      <td>Furnished</td>\n",
       "      <td>2</td>\n",
       "      <td>Chennai</td>\n",
       "      <td>...</td>\n",
       "      <td>1</td>\n",
       "      <td>1</td>\n",
       "      <td>0</td>\n",
       "      <td>0</td>\n",
       "      <td>1</td>\n",
       "      <td>0</td>\n",
       "      <td>302616</td>\n",
       "      <td>0</td>\n",
       "      <td>0</td>\n",
       "      <td>300</td>\n",
       "    </tr>\n",
       "    <tr>\n",
       "      <th>1</th>\n",
       "      <td>90879</td>\n",
       "      <td>1</td>\n",
       "      <td>BHK</td>\n",
       "      <td>Apartment</td>\n",
       "      <td>Manikonda</td>\n",
       "      <td>9655</td>\n",
       "      <td>1474</td>\n",
       "      <td>Unfurnished</td>\n",
       "      <td>2</td>\n",
       "      <td>Hyderabad</td>\n",
       "      <td>...</td>\n",
       "      <td>17</td>\n",
       "      <td>0</td>\n",
       "      <td>1</td>\n",
       "      <td>0</td>\n",
       "      <td>0</td>\n",
       "      <td>1</td>\n",
       "      <td>19310</td>\n",
       "      <td>0</td>\n",
       "      <td>1</td>\n",
       "      <td>1600</td>\n",
       "    </tr>\n",
       "    <tr>\n",
       "      <th>2</th>\n",
       "      <td>99943</td>\n",
       "      <td>3</td>\n",
       "      <td>BHK</td>\n",
       "      <td>Apartment</td>\n",
       "      <td>Jodhpur Park</td>\n",
       "      <td>23699</td>\n",
       "      <td>1837</td>\n",
       "      <td>Semi-Furnished</td>\n",
       "      <td>2</td>\n",
       "      <td>Kolkata</td>\n",
       "      <td>...</td>\n",
       "      <td>10</td>\n",
       "      <td>1</td>\n",
       "      <td>1</td>\n",
       "      <td>1</td>\n",
       "      <td>1</td>\n",
       "      <td>0</td>\n",
       "      <td>118495</td>\n",
       "      <td>0</td>\n",
       "      <td>1</td>\n",
       "      <td>3100</td>\n",
       "    </tr>\n",
       "    <tr>\n",
       "      <th>3</th>\n",
       "      <td>113926</td>\n",
       "      <td>1</td>\n",
       "      <td>BHK</td>\n",
       "      <td>Apartment</td>\n",
       "      <td>Chembur</td>\n",
       "      <td>6306</td>\n",
       "      <td>606</td>\n",
       "      <td>Unfurnished</td>\n",
       "      <td>1</td>\n",
       "      <td>Mumbai</td>\n",
       "      <td>...</td>\n",
       "      <td>18</td>\n",
       "      <td>0</td>\n",
       "      <td>0</td>\n",
       "      <td>0</td>\n",
       "      <td>0</td>\n",
       "      <td>0</td>\n",
       "      <td>37836</td>\n",
       "      <td>0</td>\n",
       "      <td>1</td>\n",
       "      <td>300</td>\n",
       "    </tr>\n",
       "    <tr>\n",
       "      <th>4</th>\n",
       "      <td>185438</td>\n",
       "      <td>1</td>\n",
       "      <td>BHK</td>\n",
       "      <td>Studio Apartment</td>\n",
       "      <td>Kalewadi Pandhapur Road</td>\n",
       "      <td>12008</td>\n",
       "      <td>498</td>\n",
       "      <td>Semi-Furnished</td>\n",
       "      <td>3</td>\n",
       "      <td>Pune</td>\n",
       "      <td>...</td>\n",
       "      <td>14</td>\n",
       "      <td>0</td>\n",
       "      <td>0</td>\n",
       "      <td>1</td>\n",
       "      <td>1</td>\n",
       "      <td>0</td>\n",
       "      <td>72048</td>\n",
       "      <td>0</td>\n",
       "      <td>1</td>\n",
       "      <td>0</td>\n",
       "    </tr>\n",
       "  </tbody>\n",
       "</table>\n",
       "<p>5 rows × 21 columns</p>\n",
       "</div>"
      ],
      "text/plain": [
       "   Property_ID  room layout_type      property_type                 locality  \\\n",
       "0        42208     3         BHK  Independent House               Palavakkam   \n",
       "1        90879     1         BHK          Apartment                Manikonda   \n",
       "2        99943     3         BHK          Apartment             Jodhpur Park   \n",
       "3       113926     1         BHK          Apartment                  Chembur   \n",
       "4       185438     1         BHK   Studio Apartment  Kalewadi Pandhapur Road   \n",
       "\n",
       "   price  area    furnish_type  bathroom       city  ...  floor  pet_friendly  \\\n",
       "0  33624  1312       Furnished         2    Chennai  ...      1             1   \n",
       "1   9655  1474     Unfurnished         2  Hyderabad  ...     17             0   \n",
       "2  23699  1837  Semi-Furnished         2    Kolkata  ...     10             1   \n",
       "3   6306   606     Unfurnished         1     Mumbai  ...     18             0   \n",
       "4  12008   498  Semi-Furnished         3       Pune  ...     14             0   \n",
       "\n",
       "   power_backup  washing_machine  air_conditioner  geyser/solar  \\\n",
       "0             0                0                1             0   \n",
       "1             1                0                0             1   \n",
       "2             1                1                1             0   \n",
       "3             0                0                0             0   \n",
       "4             0                1                1             0   \n",
       "\n",
       "   security_deposit  CCTV/security  lift  neighbourhood  \n",
       "0            302616              0     0            300  \n",
       "1             19310              0     1           1600  \n",
       "2            118495              0     1           3100  \n",
       "3             37836              0     1            300  \n",
       "4             72048              0     1              0  \n",
       "\n",
       "[5 rows x 21 columns]"
      ]
     },
     "execution_count": 62,
     "metadata": {},
     "output_type": "execute_result"
    }
   ],
   "source": [
    "train_df.head()"
   ]
  },
  {
   "cell_type": "markdown",
   "metadata": {
    "pycharm": {
     "name": "#%% md\n"
    }
   },
   "source": [
    "We need to predict the price"
   ]
  },
  {
   "cell_type": "code",
   "execution_count": 63,
   "metadata": {
    "ExecuteTime": {
     "end_time": "2022-05-13T18:32:03.621826Z",
     "start_time": "2022-05-13T18:32:03.515555Z"
    },
    "pycharm": {
     "name": "#%%\n"
    }
   },
   "outputs": [
    {
     "data": {
      "text/html": [
       "<div>\n",
       "<style scoped>\n",
       "    .dataframe tbody tr th:only-of-type {\n",
       "        vertical-align: middle;\n",
       "    }\n",
       "\n",
       "    .dataframe tbody tr th {\n",
       "        vertical-align: top;\n",
       "    }\n",
       "\n",
       "    .dataframe thead th {\n",
       "        text-align: right;\n",
       "    }\n",
       "</style>\n",
       "<table border=\"1\" class=\"dataframe\">\n",
       "  <thead>\n",
       "    <tr style=\"text-align: right;\">\n",
       "      <th></th>\n",
       "      <th>count</th>\n",
       "      <th>mean</th>\n",
       "      <th>std</th>\n",
       "      <th>min</th>\n",
       "      <th>25%</th>\n",
       "      <th>50%</th>\n",
       "      <th>75%</th>\n",
       "      <th>max</th>\n",
       "    </tr>\n",
       "  </thead>\n",
       "  <tbody>\n",
       "    <tr>\n",
       "      <th>Property_ID</th>\n",
       "      <td>134683.0</td>\n",
       "      <td>96036.100777</td>\n",
       "      <td>55565.228125</td>\n",
       "      <td>2.0</td>\n",
       "      <td>47940.0</td>\n",
       "      <td>95950.0</td>\n",
       "      <td>144194.5</td>\n",
       "      <td>192405.0</td>\n",
       "    </tr>\n",
       "    <tr>\n",
       "      <th>room</th>\n",
       "      <td>134683.0</td>\n",
       "      <td>2.029677</td>\n",
       "      <td>0.937308</td>\n",
       "      <td>1.0</td>\n",
       "      <td>1.0</td>\n",
       "      <td>2.0</td>\n",
       "      <td>3.0</td>\n",
       "      <td>5.0</td>\n",
       "    </tr>\n",
       "    <tr>\n",
       "      <th>price</th>\n",
       "      <td>134683.0</td>\n",
       "      <td>36690.033894</td>\n",
       "      <td>62620.364025</td>\n",
       "      <td>1583.0</td>\n",
       "      <td>12035.5</td>\n",
       "      <td>20856.0</td>\n",
       "      <td>36014.0</td>\n",
       "      <td>799325.0</td>\n",
       "    </tr>\n",
       "    <tr>\n",
       "      <th>area</th>\n",
       "      <td>134683.0</td>\n",
       "      <td>1480.388490</td>\n",
       "      <td>1412.464718</td>\n",
       "      <td>81.0</td>\n",
       "      <td>759.0</td>\n",
       "      <td>1114.0</td>\n",
       "      <td>1580.0</td>\n",
       "      <td>13942.0</td>\n",
       "    </tr>\n",
       "    <tr>\n",
       "      <th>bathroom</th>\n",
       "      <td>134683.0</td>\n",
       "      <td>2.040488</td>\n",
       "      <td>0.867065</td>\n",
       "      <td>1.0</td>\n",
       "      <td>1.0</td>\n",
       "      <td>2.0</td>\n",
       "      <td>2.0</td>\n",
       "      <td>5.0</td>\n",
       "    </tr>\n",
       "    <tr>\n",
       "      <th>parking_spaces</th>\n",
       "      <td>134683.0</td>\n",
       "      <td>0.534388</td>\n",
       "      <td>0.498818</td>\n",
       "      <td>0.0</td>\n",
       "      <td>0.0</td>\n",
       "      <td>1.0</td>\n",
       "      <td>1.0</td>\n",
       "      <td>1.0</td>\n",
       "    </tr>\n",
       "    <tr>\n",
       "      <th>floor</th>\n",
       "      <td>134683.0</td>\n",
       "      <td>9.163087</td>\n",
       "      <td>5.957549</td>\n",
       "      <td>0.0</td>\n",
       "      <td>4.0</td>\n",
       "      <td>9.0</td>\n",
       "      <td>15.0</td>\n",
       "      <td>19.0</td>\n",
       "    </tr>\n",
       "    <tr>\n",
       "      <th>pet_friendly</th>\n",
       "      <td>134683.0</td>\n",
       "      <td>0.527602</td>\n",
       "      <td>0.499239</td>\n",
       "      <td>0.0</td>\n",
       "      <td>0.0</td>\n",
       "      <td>1.0</td>\n",
       "      <td>1.0</td>\n",
       "      <td>1.0</td>\n",
       "    </tr>\n",
       "    <tr>\n",
       "      <th>power_backup</th>\n",
       "      <td>134683.0</td>\n",
       "      <td>0.337051</td>\n",
       "      <td>0.472704</td>\n",
       "      <td>0.0</td>\n",
       "      <td>0.0</td>\n",
       "      <td>0.0</td>\n",
       "      <td>1.0</td>\n",
       "      <td>1.0</td>\n",
       "    </tr>\n",
       "    <tr>\n",
       "      <th>washing_machine</th>\n",
       "      <td>134683.0</td>\n",
       "      <td>0.472561</td>\n",
       "      <td>0.499248</td>\n",
       "      <td>0.0</td>\n",
       "      <td>0.0</td>\n",
       "      <td>0.0</td>\n",
       "      <td>1.0</td>\n",
       "      <td>1.0</td>\n",
       "    </tr>\n",
       "    <tr>\n",
       "      <th>air_conditioner</th>\n",
       "      <td>134683.0</td>\n",
       "      <td>0.692626</td>\n",
       "      <td>0.461407</td>\n",
       "      <td>0.0</td>\n",
       "      <td>0.0</td>\n",
       "      <td>1.0</td>\n",
       "      <td>1.0</td>\n",
       "      <td>1.0</td>\n",
       "    </tr>\n",
       "    <tr>\n",
       "      <th>geyser/solar</th>\n",
       "      <td>134683.0</td>\n",
       "      <td>0.440137</td>\n",
       "      <td>0.496405</td>\n",
       "      <td>0.0</td>\n",
       "      <td>0.0</td>\n",
       "      <td>0.0</td>\n",
       "      <td>1.0</td>\n",
       "      <td>1.0</td>\n",
       "    </tr>\n",
       "    <tr>\n",
       "      <th>security_deposit</th>\n",
       "      <td>134683.0</td>\n",
       "      <td>220248.014323</td>\n",
       "      <td>420450.288624</td>\n",
       "      <td>3180.0</td>\n",
       "      <td>55802.5</td>\n",
       "      <td>114264.0</td>\n",
       "      <td>220704.5</td>\n",
       "      <td>7940780.0</td>\n",
       "    </tr>\n",
       "    <tr>\n",
       "      <th>CCTV/security</th>\n",
       "      <td>134683.0</td>\n",
       "      <td>0.561838</td>\n",
       "      <td>0.496163</td>\n",
       "      <td>0.0</td>\n",
       "      <td>0.0</td>\n",
       "      <td>1.0</td>\n",
       "      <td>1.0</td>\n",
       "      <td>1.0</td>\n",
       "    </tr>\n",
       "    <tr>\n",
       "      <th>lift</th>\n",
       "      <td>134683.0</td>\n",
       "      <td>0.595851</td>\n",
       "      <td>0.490728</td>\n",
       "      <td>0.0</td>\n",
       "      <td>0.0</td>\n",
       "      <td>1.0</td>\n",
       "      <td>1.0</td>\n",
       "      <td>1.0</td>\n",
       "    </tr>\n",
       "    <tr>\n",
       "      <th>neighbourhood</th>\n",
       "      <td>134683.0</td>\n",
       "      <td>2033.024212</td>\n",
       "      <td>1159.635981</td>\n",
       "      <td>0.0</td>\n",
       "      <td>1100.0</td>\n",
       "      <td>2000.0</td>\n",
       "      <td>3000.0</td>\n",
       "      <td>4000.0</td>\n",
       "    </tr>\n",
       "  </tbody>\n",
       "</table>\n",
       "</div>"
      ],
      "text/plain": [
       "                     count           mean            std     min      25%  \\\n",
       "Property_ID       134683.0   96036.100777   55565.228125     2.0  47940.0   \n",
       "room              134683.0       2.029677       0.937308     1.0      1.0   \n",
       "price             134683.0   36690.033894   62620.364025  1583.0  12035.5   \n",
       "area              134683.0    1480.388490    1412.464718    81.0    759.0   \n",
       "bathroom          134683.0       2.040488       0.867065     1.0      1.0   \n",
       "parking_spaces    134683.0       0.534388       0.498818     0.0      0.0   \n",
       "floor             134683.0       9.163087       5.957549     0.0      4.0   \n",
       "pet_friendly      134683.0       0.527602       0.499239     0.0      0.0   \n",
       "power_backup      134683.0       0.337051       0.472704     0.0      0.0   \n",
       "washing_machine   134683.0       0.472561       0.499248     0.0      0.0   \n",
       "air_conditioner   134683.0       0.692626       0.461407     0.0      0.0   \n",
       "geyser/solar      134683.0       0.440137       0.496405     0.0      0.0   \n",
       "security_deposit  134683.0  220248.014323  420450.288624  3180.0  55802.5   \n",
       "CCTV/security     134683.0       0.561838       0.496163     0.0      0.0   \n",
       "lift              134683.0       0.595851       0.490728     0.0      0.0   \n",
       "neighbourhood     134683.0    2033.024212    1159.635981     0.0   1100.0   \n",
       "\n",
       "                       50%       75%        max  \n",
       "Property_ID        95950.0  144194.5   192405.0  \n",
       "room                   2.0       3.0        5.0  \n",
       "price              20856.0   36014.0   799325.0  \n",
       "area                1114.0    1580.0    13942.0  \n",
       "bathroom               2.0       2.0        5.0  \n",
       "parking_spaces         1.0       1.0        1.0  \n",
       "floor                  9.0      15.0       19.0  \n",
       "pet_friendly           1.0       1.0        1.0  \n",
       "power_backup           0.0       1.0        1.0  \n",
       "washing_machine        0.0       1.0        1.0  \n",
       "air_conditioner        1.0       1.0        1.0  \n",
       "geyser/solar           0.0       1.0        1.0  \n",
       "security_deposit  114264.0  220704.5  7940780.0  \n",
       "CCTV/security          1.0       1.0        1.0  \n",
       "lift                   1.0       1.0        1.0  \n",
       "neighbourhood       2000.0    3000.0     4000.0  "
      ]
     },
     "execution_count": 63,
     "metadata": {},
     "output_type": "execute_result"
    }
   ],
   "source": [
    "train_df.describe().T"
   ]
  },
  {
   "cell_type": "code",
   "execution_count": 64,
   "metadata": {
    "ExecuteTime": {
     "end_time": "2022-05-13T18:32:03.663214Z",
     "start_time": "2022-05-13T18:32:03.623246Z"
    }
   },
   "outputs": [
    {
     "name": "stdout",
     "output_type": "stream",
     "text": [
      "<class 'pandas.core.frame.DataFrame'>\n",
      "RangeIndex: 134683 entries, 0 to 134682\n",
      "Data columns (total 21 columns):\n",
      " #   Column            Non-Null Count   Dtype \n",
      "---  ------            --------------   ----- \n",
      " 0   Property_ID       134683 non-null  int64 \n",
      " 1   room              134683 non-null  int64 \n",
      " 2   layout_type       134683 non-null  object\n",
      " 3   property_type     134683 non-null  object\n",
      " 4   locality          134683 non-null  object\n",
      " 5   price             134683 non-null  int64 \n",
      " 6   area              134683 non-null  int64 \n",
      " 7   furnish_type      134683 non-null  object\n",
      " 8   bathroom          134683 non-null  int64 \n",
      " 9   city              134683 non-null  object\n",
      " 10  parking_spaces    134683 non-null  int64 \n",
      " 11  floor             134683 non-null  int64 \n",
      " 12  pet_friendly      134683 non-null  int64 \n",
      " 13  power_backup      134683 non-null  int64 \n",
      " 14  washing_machine   134683 non-null  int64 \n",
      " 15  air_conditioner   134683 non-null  int64 \n",
      " 16  geyser/solar      134683 non-null  int64 \n",
      " 17  security_deposit  134683 non-null  int64 \n",
      " 18  CCTV/security     134683 non-null  int64 \n",
      " 19  lift              134683 non-null  int64 \n",
      " 20  neighbourhood     134683 non-null  int64 \n",
      "dtypes: int64(16), object(5)\n",
      "memory usage: 21.6+ MB\n"
     ]
    }
   ],
   "source": [
    "train_df.info()"
   ]
  },
  {
   "cell_type": "markdown",
   "metadata": {},
   "source": [
    "The data have no null values, Uff... It eases our work somehow.."
   ]
  },
  {
   "cell_type": "markdown",
   "metadata": {},
   "source": [
    "##  EDA"
   ]
  },
  {
   "cell_type": "code",
   "execution_count": 105,
   "metadata": {
    "ExecuteTime": {
     "end_time": "2022-05-15T19:34:31.368465Z",
     "start_time": "2022-05-15T19:34:31.334424Z"
    }
   },
   "outputs": [
    {
     "data": {
      "text/plain": [
       "city\n",
       "Ahmedabad    43099.677250\n",
       "Bangalore    39863.151007\n",
       "Chennai      37694.160345\n",
       "Delhi        36888.325506\n",
       "Hyderabad    36681.611672\n",
       "Kolkata      35341.154084\n",
       "Mumbai       35078.077745\n",
       "Pune         32872.992045\n",
       "Name: price, dtype: float64"
      ]
     },
     "execution_count": 105,
     "metadata": {},
     "output_type": "execute_result"
    }
   ],
   "source": [
    "train_df.groupby(\"city\")[\"price\"].mean().sort_values(ascending = False)"
   ]
  },
  {
   "cell_type": "code",
   "execution_count": 90,
   "metadata": {
    "ExecuteTime": {
     "end_time": "2022-05-15T19:29:35.759371Z",
     "start_time": "2022-05-15T19:29:35.726041Z"
    }
   },
   "outputs": [
    {
     "data": {
      "text/plain": [
       "locality\n",
       "Madanayakahalli                  738467.0\n",
       "Gururaj Society                  651757.0\n",
       "Malcha                           615142.0\n",
       "Veerbhadra Nagar                 587449.0\n",
       "HSR Layout 2nd sector Banglor    569093.0\n",
       "                                   ...   \n",
       "Sector 21 Ulwe                     2125.0\n",
       "Union Park                         2035.0\n",
       "Teli Galli Cross Road              1980.0\n",
       "Haranwali                          1903.0\n",
       "dhanukarwadi                       1850.0\n",
       "Name: price, Length: 3706, dtype: float64"
      ]
     },
     "execution_count": 90,
     "metadata": {},
     "output_type": "execute_result"
    }
   ],
   "source": [
    "train_df.groupby(\"locality\")[\"price\"].mean().sort_values(ascending = False)"
   ]
  },
  {
   "cell_type": "code",
   "execution_count": 92,
   "metadata": {
    "ExecuteTime": {
     "end_time": "2022-05-15T19:30:25.195726Z",
     "start_time": "2022-05-15T19:30:25.179110Z"
    }
   },
   "outputs": [
    {
     "data": {
      "text/plain": [
       "lift\n",
       "1    37067.262688\n",
       "0    36133.872299\n",
       "Name: price, dtype: float64"
      ]
     },
     "execution_count": 92,
     "metadata": {},
     "output_type": "execute_result"
    }
   ],
   "source": [
    "train_df.groupby(\"lift\")[\"price\"].mean().sort_values(ascending = False)"
   ]
  },
  {
   "cell_type": "code",
   "execution_count": 93,
   "metadata": {
    "ExecuteTime": {
     "end_time": "2022-05-15T19:30:33.906166Z",
     "start_time": "2022-05-15T19:30:33.890111Z"
    }
   },
   "outputs": [
    {
     "data": {
      "text/plain": [
       "air_conditioner\n",
       "1    38601.830423\n",
       "0    32382.049471\n",
       "Name: price, dtype: float64"
      ]
     },
     "execution_count": 93,
     "metadata": {},
     "output_type": "execute_result"
    }
   ],
   "source": [
    "train_df.groupby(\"air_conditioner\")[\"price\"].mean().sort_values(ascending = False)"
   ]
  },
  {
   "cell_type": "code",
   "execution_count": 167,
   "metadata": {
    "ExecuteTime": {
     "end_time": "2022-05-15T20:04:09.590300Z",
     "start_time": "2022-05-15T20:04:09.568055Z"
    }
   },
   "outputs": [
    {
     "data": {
      "text/plain": [
       "room\n",
       "5    41397.343158\n",
       "3    40464.908042\n",
       "2    39158.799468\n",
       "4    38224.336272\n",
       "1    31315.240190\n",
       "Name: price, dtype: float64"
      ]
     },
     "execution_count": 167,
     "metadata": {},
     "output_type": "execute_result"
    }
   ],
   "source": [
    "train_df.groupby(\"room\")[\"price\"].mean().sort_values(ascending = False) #"
   ]
  },
  {
   "cell_type": "code",
   "execution_count": 95,
   "metadata": {
    "ExecuteTime": {
     "end_time": "2022-05-15T19:31:03.890378Z",
     "start_time": "2022-05-15T19:31:03.853472Z"
    }
   },
   "outputs": [
    {
     "data": {
      "text/plain": [
       "layout_type\n",
       "BHK    37215.964206\n",
       "RK     33674.093505\n",
       "Name: price, dtype: float64"
      ]
     },
     "execution_count": 95,
     "metadata": {},
     "output_type": "execute_result"
    }
   ],
   "source": [
    "train_df.groupby(\"layout_type\")[\"price\"].mean().sort_values(ascending = False)"
   ]
  },
  {
   "cell_type": "code",
   "execution_count": 170,
   "metadata": {
    "ExecuteTime": {
     "end_time": "2022-05-15T20:05:01.595111Z",
     "start_time": "2022-05-15T20:05:01.563243Z"
    }
   },
   "outputs": [
    {
     "data": {
      "text/plain": [
       "property_type\n",
       "Apartment            37098.998053\n",
       "Penthouse            37062.402439\n",
       "Independent Floor    36889.893114\n",
       "Independent House    36194.615677\n",
       "Villa                33765.557926\n",
       "Studio Apartment     31933.710991\n",
       "Name: price, dtype: float64"
      ]
     },
     "execution_count": 170,
     "metadata": {},
     "output_type": "execute_result"
    }
   ],
   "source": [
    "train_df.groupby(\"property_type\")[\"price\"].mean().sort_values(ascending = False) #"
   ]
  },
  {
   "cell_type": "code",
   "execution_count": 102,
   "metadata": {
    "ExecuteTime": {
     "end_time": "2022-05-15T19:33:22.951400Z",
     "start_time": "2022-05-15T19:33:22.913540Z"
    }
   },
   "outputs": [
    {
     "data": {
      "text/plain": [
       "furnish_type\n",
       "Semi-Furnished    38825.887487\n",
       "Furnished         38120.696245\n",
       "Unfurnished       32382.049471\n",
       "Name: price, dtype: float64"
      ]
     },
     "execution_count": 102,
     "metadata": {},
     "output_type": "execute_result"
    }
   ],
   "source": [
    "train_df.groupby(\"furnish_type\")[\"price\"].mean().sort_values(ascending = False)"
   ]
  },
  {
   "cell_type": "code",
   "execution_count": 173,
   "metadata": {
    "ExecuteTime": {
     "end_time": "2022-05-15T20:05:41.340672Z",
     "start_time": "2022-05-15T20:05:41.319347Z"
    }
   },
   "outputs": [
    {
     "data": {
      "text/plain": [
       "bathroom\n",
       "3    39391.570786\n",
       "2    39078.731314\n",
       "5    38948.659933\n",
       "4    37462.054904\n",
       "1    29988.567448\n",
       "Name: price, dtype: float64"
      ]
     },
     "execution_count": 173,
     "metadata": {},
     "output_type": "execute_result"
    }
   ],
   "source": [
    "train_df.groupby(\"bathroom\")[\"price\"].mean().sort_values(ascending = False) #"
   ]
  },
  {
   "cell_type": "code",
   "execution_count": 107,
   "metadata": {
    "ExecuteTime": {
     "end_time": "2022-05-15T19:35:57.413949Z",
     "start_time": "2022-05-15T19:35:57.391151Z"
    }
   },
   "outputs": [
    {
     "data": {
      "text/plain": [
       "parking_spaces\n",
       "1    38243.196685\n",
       "0    34907.450805\n",
       "Name: price, dtype: float64"
      ]
     },
     "execution_count": 107,
     "metadata": {},
     "output_type": "execute_result"
    }
   ],
   "source": [
    "train_df.groupby(\"parking_spaces\")[\"price\"].mean().sort_values(ascending = False)"
   ]
  },
  {
   "cell_type": "code",
   "execution_count": 108,
   "metadata": {
    "ExecuteTime": {
     "end_time": "2022-05-15T19:36:11.875204Z",
     "start_time": "2022-05-15T19:36:11.854934Z"
    }
   },
   "outputs": [
    {
     "data": {
      "text/plain": [
       "floor\n",
       "16    38899.809944\n",
       "18    38510.935795\n",
       "11    37961.218655\n",
       "0     37654.527491\n",
       "6     37610.121735\n",
       "15    37505.821795\n",
       "1     37350.864964\n",
       "17    37312.005060\n",
       "19    36765.479224\n",
       "13    36762.949577\n",
       "14    36625.646580\n",
       "12    36495.161181\n",
       "8     36441.067719\n",
       "7     36288.057345\n",
       "10    36257.325051\n",
       "5     35849.441874\n",
       "4     35724.829656\n",
       "9     35416.804199\n",
       "2     35314.952705\n",
       "3     35143.327617\n",
       "Name: price, dtype: float64"
      ]
     },
     "execution_count": 108,
     "metadata": {},
     "output_type": "execute_result"
    }
   ],
   "source": [
    "train_df.groupby(\"floor\")[\"price\"].mean().sort_values(ascending = False)"
   ]
  },
  {
   "cell_type": "code",
   "execution_count": 113,
   "metadata": {
    "ExecuteTime": {
     "end_time": "2022-05-15T19:37:40.415591Z",
     "start_time": "2022-05-15T19:37:40.403837Z"
    }
   },
   "outputs": [
    {
     "data": {
      "text/plain": [
       "neighbourhood\n",
       "300     40586.465571\n",
       "400     39761.821670\n",
       "200     39431.493132\n",
       "2700    38979.805844\n",
       "2600    38954.004132\n",
       "100     38634.830775\n",
       "1200    38530.276088\n",
       "900     38196.287975\n",
       "1100    38181.391966\n",
       "800     37668.401239\n",
       "1400    37661.059877\n",
       "1600    37595.653294\n",
       "2500    37527.198385\n",
       "500     37502.316294\n",
       "3300    37491.350279\n",
       "600     37483.795802\n",
       "2300    37230.067928\n",
       "1300    37118.448941\n",
       "1500    37106.589969\n",
       "1000    37003.034431\n",
       "700     36927.778866\n",
       "0       36673.676409\n",
       "2200    36652.111111\n",
       "2100    36578.822920\n",
       "2000    36492.902111\n",
       "3100    36328.817971\n",
       "2800    36110.582283\n",
       "1700    35828.119366\n",
       "3200    35737.374751\n",
       "3400    35676.346914\n",
       "3000    35607.115222\n",
       "2900    35352.777139\n",
       "2400    35190.812905\n",
       "3600    34921.799071\n",
       "3500    34726.159437\n",
       "1800    34598.136719\n",
       "3700    34593.203883\n",
       "1900    34481.107421\n",
       "3900    34281.926920\n",
       "3800    34051.574348\n",
       "4000    33890.530704\n",
       "Name: price, dtype: float64"
      ]
     },
     "execution_count": 113,
     "metadata": {},
     "output_type": "execute_result"
    }
   ],
   "source": [
    "train_df.groupby(\"neighbourhood\")[\"price\"].mean().sort_values(ascending = False)"
   ]
  },
  {
   "cell_type": "code",
   "execution_count": 114,
   "metadata": {
    "ExecuteTime": {
     "end_time": "2022-05-15T19:38:26.819665Z",
     "start_time": "2022-05-15T19:38:26.801806Z"
    }
   },
   "outputs": [
    {
     "data": {
      "text/plain": [
       "geyser/solar\n",
       "1    37986.457211\n",
       "0    35670.848204\n",
       "Name: price, dtype: float64"
      ]
     },
     "execution_count": 114,
     "metadata": {},
     "output_type": "execute_result"
    }
   ],
   "source": [
    "train_df.groupby(\"geyser/solar\")[\"price\"].mean().sort_values(ascending = False)"
   ]
  },
  {
   "cell_type": "code",
   "execution_count": 99,
   "metadata": {
    "ExecuteTime": {
     "end_time": "2022-05-15T19:32:33.874486Z",
     "start_time": "2022-05-15T19:32:32.052249Z"
    }
   },
   "outputs": [
    {
     "data": {
      "text/plain": [
       "<seaborn.axisgrid.JointGrid at 0x7fe51eeed1f0>"
      ]
     },
     "execution_count": 99,
     "metadata": {},
     "output_type": "execute_result"
    },
    {
     "data": {
      "image/png": "[encoded data removed]",
      "text/plain": [
       "<Figure size 432x432 with 3 Axes>"
      ]
     },
     "metadata": {
      "needs_background": "light"
     },
     "output_type": "display_data"
    }
   ],
   "source": [
    "sns.jointplot(x = \"area\", y = \"price\", data = train_df)"
   ]
  },
  {
   "cell_type": "code",
   "execution_count": 158,
   "metadata": {
    "ExecuteTime": {
     "end_time": "2022-05-15T20:00:32.156076Z",
     "start_time": "2022-05-15T20:00:30.941589Z"
    }
   },
   "outputs": [
    {
     "data": {
      "text/plain": [
       "<seaborn.axisgrid.FacetGrid at 0x7fe51a0fa3a0>"
      ]
     },
     "execution_count": 158,
     "metadata": {},
     "output_type": "execute_result"
    },
    {
     "data": {
      "image/png": "[encoded data removed]",
      "text/plain": [
       "<Figure size 360x360 with 1 Axes>"
      ]
     },
     "metadata": {
      "needs_background": "light"
     },
     "output_type": "display_data"
    },
    {
     "data": {
      "image/png": "[encoded data removed]",
      "text/plain": [
       "<Figure size 360x360 with 1 Axes>"
      ]
     },
     "metadata": {
      "needs_background": "light"
     },
     "output_type": "display_data"
    }
   ],
   "source": [
    "# fig, (ax1, ax2) = plt.subplots(1, 2, figsize = (10, 8))\n",
    "sns.displot(train_df[\"area\"], log_scale=10)\n",
    "sns.displot(test_df[\"area\"], log_scale=10)"
   ]
  },
  {
   "cell_type": "code",
   "execution_count": 157,
   "metadata": {
    "ExecuteTime": {
     "end_time": "2022-05-15T20:00:10.144319Z",
     "start_time": "2022-05-15T20:00:09.850536Z"
    }
   },
   "outputs": [
    {
     "data": {
      "text/plain": [
       "<AxesSubplot:xlabel='floor', ylabel='count'>"
      ]
     },
     "execution_count": 157,
     "metadata": {},
     "output_type": "execute_result"
    },
    {
     "data": {
      "image/png": "[encoded data removed]",
      "text/plain": [
       "<Figure size 720x576 with 2 Axes>"
      ]
     },
     "metadata": {
      "needs_background": "light"
     },
     "output_type": "display_data"
    }
   ],
   "source": [
    "plt.figure(figsize=(10, 8))\n",
    "\n",
    "plt.subplot(2, 1, 1)\n",
    "sns.countplot(x=\"floor\", data=train_df)\n",
    "plt.subplot(2, 1, 2)\n",
    "sns.countplot(x=\"floor\", data=test_df)"
   ]
  },
  {
   "cell_type": "code",
   "execution_count": 213,
   "metadata": {
    "ExecuteTime": {
     "end_time": "2022-05-15T20:23:02.523740Z",
     "start_time": "2022-05-15T20:23:02.468561Z"
    }
   },
   "outputs": [],
   "source": [
    "train_df[\"layout_type\"] = LabelEncoder().fit_transform(train_df[\"layout_type\"])\n",
    "train_df[\"property_type\"] = LabelEncoder().fit_transform(train_df[\"property_type\"])\n",
    "train_df[\"locality\"] = LabelEncoder().fit_transform(train_df[\"locality\"])\n",
    "train_df[\"furnish_type\"] = LabelEncoder().fit_transform(train_df[\"furnish_type\"])\n",
    "train_df[\"city\"] = LabelEncoder().fit_transform(train_df[\"city\"])"
   ]
  },
  {
   "cell_type": "code",
   "execution_count": 214,
   "metadata": {
    "ExecuteTime": {
     "end_time": "2022-05-15T20:23:11.966518Z",
     "start_time": "2022-05-15T20:23:11.961059Z"
    }
   },
   "outputs": [
    {
     "data": {
      "text/plain": [
       "6    46910\n",
       "3    22826\n",
       "1    16092\n",
       "7    15713\n",
       "0    12976\n",
       "4     7334\n",
       "5     6795\n",
       "2     6037\n",
       "Name: city, dtype: int64"
      ]
     },
     "execution_count": 214,
     "metadata": {},
     "output_type": "execute_result"
    }
   ],
   "source": [
    "train_df[\"city\"].value_counts()"
   ]
  },
  {
   "cell_type": "code",
   "execution_count": 210,
   "metadata": {
    "ExecuteTime": {
     "end_time": "2022-05-15T20:22:52.105806Z",
     "start_time": "2022-05-15T20:22:52.079398Z"
    }
   },
   "outputs": [],
   "source": [
    "from sklearn.model_selection import train_test_split\n",
    "\n",
    "X_train, X_test, y_train, y_test = train_test_split(train_df.drop(\"price\", axis=1), train_df[\"price\"], test_size=0.25, shuffle=True, random_state=42)"
   ]
  },
  {
   "cell_type": "code",
   "execution_count": 211,
   "metadata": {
    "ExecuteTime": {
     "end_time": "2022-05-15T20:22:56.849603Z",
     "start_time": "2022-05-15T20:22:52.791608Z"
    }
   },
   "outputs": [
    {
     "data": {
      "text/plain": [
       "XGBRegressor(base_score=0.5, booster='gbtree', callbacks=None,\n",
       "             colsample_bylevel=1, colsample_bynode=1, colsample_bytree=1,\n",
       "             early_stopping_rounds=None, enable_categorical=False,\n",
       "             eval_metric=None, gamma=0, gpu_id=-1, grow_policy='depthwise',\n",
       "             importance_type=None, interaction_constraints='',\n",
       "             learning_rate=0.300000012, max_bin=256, max_cat_to_onehot=4,\n",
       "             max_delta_step=0, max_depth=6, max_leaves=0, min_child_weight=1,\n",
       "             missing=nan, monotone_constraints='()', n_estimators=100, n_jobs=0,\n",
       "             num_parallel_tree=1, predictor='auto', random_state=0, reg_alpha=0,\n",
       "             reg_lambda=1, ...)"
      ]
     },
     "execution_count": 211,
     "metadata": {},
     "output_type": "execute_result"
    }
   ],
   "source": [
    "from xgboost import XGBRegressor\n",
    "\n",
    "model_xgb = XGBRegressor()\n",
    "\n",
    "model_xgb.fit(X_train, y_train)"
   ]
  },
  {
   "cell_type": "code",
   "execution_count": 212,
   "metadata": {
    "ExecuteTime": {
     "end_time": "2022-05-15T20:22:57.473267Z",
     "start_time": "2022-05-15T20:22:57.452716Z"
    }
   },
   "outputs": [
    {
     "data": {
      "text/plain": [
       "28021.567844319088"
      ]
     },
     "execution_count": 212,
     "metadata": {},
     "output_type": "execute_result"
    }
   ],
   "source": [
    "mean_squared_error(y_test, model_xgb.predict(X_test), squared=False)"
   ]
  },
  {
   "cell_type": "code",
   "execution_count": null,
   "metadata": {},
   "outputs": [],
   "source": []
  }
 ],
 "metadata": {
  "kernelspec": {
   "display_name": "Python 3",
   "language": "python",
   "name": "python3"
  },
  "language_info": {
   "codemirror_mode": {
    "name": "ipython",
    "version": 3
   },
   "file_extension": ".py",
   "mimetype": "text/x-python",
   "name": "python",
   "nbconvert_exporter": "python",
   "pygments_lexer": "ipython3",
   "version": "3.8.8"
  },
  "toc": {
   "base_numbering": 1,
   "nav_menu": {},
   "number_sections": true,
   "sideBar": true,
   "skip_h1_title": false,
   "title_cell": "Table of Contents",
   "title_sidebar": "Contents",
   "toc_cell": false,
   "toc_position": {},
   "toc_section_display": true,
   "toc_window_display": false
  },
  "varInspector": {
   "cols": {
    "lenName": 16,
    "lenType": 16,
    "lenVar": 40
   },
   "kernels_config": {
    "python": {
     "delete_cmd_postfix": "",
     "delete_cmd_prefix": "del ",
     "library": "var_list.py",
     "varRefreshCmd": "print(var_dic_list())"
    },
    "r": {
     "delete_cmd_postfix": ") ",
     "delete_cmd_prefix": "rm(",
     "library": "var_list.r",
     "varRefreshCmd": "cat(var_dic_list()) "
    }
   },
   "types_to_exclude": [
    "module",
    "function",
    "builtin_function_or_method",
    "instance",
    "_Feature"
   ],
   "window_display": false
  }
 },
 "nbformat": 4,
 "nbformat_minor": 1
}
