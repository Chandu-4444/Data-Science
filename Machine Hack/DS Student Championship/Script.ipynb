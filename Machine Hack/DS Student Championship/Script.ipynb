{
 "cells": [
  {
   "cell_type": "code",
   "execution_count": 60,
   "metadata": {
    "ExecuteTime": {
     "end_time": "2022-05-13T18:32:03.205256Z",
     "start_time": "2022-05-13T18:32:03.150722Z"
    },
    "pycharm": {
     "name": "#%%\n"
    }
   },
   "outputs": [],
   "source": [
    "import pandas as pd\n",
    "import numpy as np\n",
    "import matplotlib.pyplot as plt\n",
    "import seaborn as sns\n",
    "\n",
    "import warnings\n",
    "import os\n",
    "import xgboost as xgb\n",
    "import catboost\n",
    "\n",
    "warnings.filterwarnings(action='ignore')"
   ]
  },
  {
   "cell_type": "code",
   "execution_count": 61,
   "metadata": {
    "ExecuteTime": {
     "end_time": "2022-05-13T18:32:03.493536Z",
     "start_time": "2022-05-13T18:32:03.206831Z"
    },
    "pycharm": {
     "name": "#%%\n"
    }
   },
   "outputs": [],
   "source": [
    "train_df = pd.read_csv('train.csv')\n",
    "test_df = pd.read_csv('test.csv')"
   ]
  },
  {
   "cell_type": "code",
   "execution_count": 62,
   "metadata": {
    "ExecuteTime": {
     "end_time": "2022-05-13T18:32:03.513409Z",
     "start_time": "2022-05-13T18:32:03.495053Z"
    },
    "pycharm": {
     "name": "#%%\n"
    }
   },
   "outputs": [
    {
     "data": {
      "text/html": [
       "<div>\n",
       "<style scoped>\n",
       "    .dataframe tbody tr th:only-of-type {\n",
       "        vertical-align: middle;\n",
       "    }\n",
       "\n",
       "    .dataframe tbody tr th {\n",
       "        vertical-align: top;\n",
       "    }\n",
       "\n",
       "    .dataframe thead th {\n",
       "        text-align: right;\n",
       "    }\n",
       "</style>\n",
       "<table border=\"1\" class=\"dataframe\">\n",
       "  <thead>\n",
       "    <tr style=\"text-align: right;\">\n",
       "      <th></th>\n",
       "      <th>Property_ID</th>\n",
       "      <th>room</th>\n",
       "      <th>layout_type</th>\n",
       "      <th>property_type</th>\n",
       "      <th>locality</th>\n",
       "      <th>price</th>\n",
       "      <th>area</th>\n",
       "      <th>furnish_type</th>\n",
       "      <th>bathroom</th>\n",
       "      <th>city</th>\n",
       "      <th>...</th>\n",
       "      <th>floor</th>\n",
       "      <th>pet_friendly</th>\n",
       "      <th>power_backup</th>\n",
       "      <th>washing_machine</th>\n",
       "      <th>air_conditioner</th>\n",
       "      <th>geyser/solar</th>\n",
       "      <th>security_deposit</th>\n",
       "      <th>CCTV/security</th>\n",
       "      <th>lift</th>\n",
       "      <th>neighbourhood</th>\n",
       "    </tr>\n",
       "  </thead>\n",
       "  <tbody>\n",
       "    <tr>\n",
       "      <th>0</th>\n",
       "      <td>42208</td>\n",
       "      <td>3</td>\n",
       "      <td>BHK</td>\n",
       "      <td>Independent House</td>\n",
       "      <td>Palavakkam</td>\n",
       "      <td>33624</td>\n",
       "      <td>1312</td>\n",
       "      <td>Furnished</td>\n",
       "      <td>2</td>\n",
       "      <td>Chennai</td>\n",
       "      <td>...</td>\n",
       "      <td>1</td>\n",
       "      <td>1</td>\n",
       "      <td>0</td>\n",
       "      <td>0</td>\n",
       "      <td>1</td>\n",
       "      <td>0</td>\n",
       "      <td>302616</td>\n",
       "      <td>0</td>\n",
       "      <td>0</td>\n",
       "      <td>300</td>\n",
       "    </tr>\n",
       "    <tr>\n",
       "      <th>1</th>\n",
       "      <td>90879</td>\n",
       "      <td>1</td>\n",
       "      <td>BHK</td>\n",
       "      <td>Apartment</td>\n",
       "      <td>Manikonda</td>\n",
       "      <td>9655</td>\n",
       "      <td>1474</td>\n",
       "      <td>Unfurnished</td>\n",
       "      <td>2</td>\n",
       "      <td>Hyderabad</td>\n",
       "      <td>...</td>\n",
       "      <td>17</td>\n",
       "      <td>0</td>\n",
       "      <td>1</td>\n",
       "      <td>0</td>\n",
       "      <td>0</td>\n",
       "      <td>1</td>\n",
       "      <td>19310</td>\n",
       "      <td>0</td>\n",
       "      <td>1</td>\n",
       "      <td>1600</td>\n",
       "    </tr>\n",
       "    <tr>\n",
       "      <th>2</th>\n",
       "      <td>99943</td>\n",
       "      <td>3</td>\n",
       "      <td>BHK</td>\n",
       "      <td>Apartment</td>\n",
       "      <td>Jodhpur Park</td>\n",
       "      <td>23699</td>\n",
       "      <td>1837</td>\n",
       "      <td>Semi-Furnished</td>\n",
       "      <td>2</td>\n",
       "      <td>Kolkata</td>\n",
       "      <td>...</td>\n",
       "      <td>10</td>\n",
       "      <td>1</td>\n",
       "      <td>1</td>\n",
       "      <td>1</td>\n",
       "      <td>1</td>\n",
       "      <td>0</td>\n",
       "      <td>118495</td>\n",
       "      <td>0</td>\n",
       "      <td>1</td>\n",
       "      <td>3100</td>\n",
       "    </tr>\n",
       "    <tr>\n",
       "      <th>3</th>\n",
       "      <td>113926</td>\n",
       "      <td>1</td>\n",
       "      <td>BHK</td>\n",
       "      <td>Apartment</td>\n",
       "      <td>Chembur</td>\n",
       "      <td>6306</td>\n",
       "      <td>606</td>\n",
       "      <td>Unfurnished</td>\n",
       "      <td>1</td>\n",
       "      <td>Mumbai</td>\n",
       "      <td>...</td>\n",
       "      <td>18</td>\n",
       "      <td>0</td>\n",
       "      <td>0</td>\n",
       "      <td>0</td>\n",
       "      <td>0</td>\n",
       "      <td>0</td>\n",
       "      <td>37836</td>\n",
       "      <td>0</td>\n",
       "      <td>1</td>\n",
       "      <td>300</td>\n",
       "    </tr>\n",
       "    <tr>\n",
       "      <th>4</th>\n",
       "      <td>185438</td>\n",
       "      <td>1</td>\n",
       "      <td>BHK</td>\n",
       "      <td>Studio Apartment</td>\n",
       "      <td>Kalewadi Pandhapur Road</td>\n",
       "      <td>12008</td>\n",
       "      <td>498</td>\n",
       "      <td>Semi-Furnished</td>\n",
       "      <td>3</td>\n",
       "      <td>Pune</td>\n",
       "      <td>...</td>\n",
       "      <td>14</td>\n",
       "      <td>0</td>\n",
       "      <td>0</td>\n",
       "      <td>1</td>\n",
       "      <td>1</td>\n",
       "      <td>0</td>\n",
       "      <td>72048</td>\n",
       "      <td>0</td>\n",
       "      <td>1</td>\n",
       "      <td>0</td>\n",
       "    </tr>\n",
       "  </tbody>\n",
       "</table>\n",
       "<p>5 rows × 21 columns</p>\n",
       "</div>"
      ],
      "text/plain": [
       "   Property_ID  room layout_type      property_type                 locality  \\\n",
       "0        42208     3         BHK  Independent House               Palavakkam   \n",
       "1        90879     1         BHK          Apartment                Manikonda   \n",
       "2        99943     3         BHK          Apartment             Jodhpur Park   \n",
       "3       113926     1         BHK          Apartment                  Chembur   \n",
       "4       185438     1         BHK   Studio Apartment  Kalewadi Pandhapur Road   \n",
       "\n",
       "   price  area    furnish_type  bathroom       city  ...  floor  pet_friendly  \\\n",
       "0  33624  1312       Furnished         2    Chennai  ...      1             1   \n",
       "1   9655  1474     Unfurnished         2  Hyderabad  ...     17             0   \n",
       "2  23699  1837  Semi-Furnished         2    Kolkata  ...     10             1   \n",
       "3   6306   606     Unfurnished         1     Mumbai  ...     18             0   \n",
       "4  12008   498  Semi-Furnished         3       Pune  ...     14             0   \n",
       "\n",
       "   power_backup  washing_machine  air_conditioner  geyser/solar  \\\n",
       "0             0                0                1             0   \n",
       "1             1                0                0             1   \n",
       "2             1                1                1             0   \n",
       "3             0                0                0             0   \n",
       "4             0                1                1             0   \n",
       "\n",
       "   security_deposit  CCTV/security  lift  neighbourhood  \n",
       "0            302616              0     0            300  \n",
       "1             19310              0     1           1600  \n",
       "2            118495              0     1           3100  \n",
       "3             37836              0     1            300  \n",
       "4             72048              0     1              0  \n",
       "\n",
       "[5 rows x 21 columns]"
      ]
     },
     "execution_count": 62,
     "metadata": {},
     "output_type": "execute_result"
    }
   ],
   "source": [
    "train_df.head()"
   ]
  },
  {
   "cell_type": "markdown",
   "metadata": {
    "pycharm": {
     "name": "#%% md\n"
    }
   },
   "source": [
    "We need to predict the price"
   ]
  },
  {
   "cell_type": "code",
   "execution_count": 63,
   "metadata": {
    "ExecuteTime": {
     "end_time": "2022-05-13T18:32:03.621826Z",
     "start_time": "2022-05-13T18:32:03.515555Z"
    },
    "pycharm": {
     "name": "#%%\n"
    }
   },
   "outputs": [
    {
     "data": {
      "text/html": [
       "<div>\n",
       "<style scoped>\n",
       "    .dataframe tbody tr th:only-of-type {\n",
       "        vertical-align: middle;\n",
       "    }\n",
       "\n",
       "    .dataframe tbody tr th {\n",
       "        vertical-align: top;\n",
       "    }\n",
       "\n",
       "    .dataframe thead th {\n",
       "        text-align: right;\n",
       "    }\n",
       "</style>\n",
       "<table border=\"1\" class=\"dataframe\">\n",
       "  <thead>\n",
       "    <tr style=\"text-align: right;\">\n",
       "      <th></th>\n",
       "      <th>count</th>\n",
       "      <th>mean</th>\n",
       "      <th>std</th>\n",
       "      <th>min</th>\n",
       "      <th>25%</th>\n",
       "      <th>50%</th>\n",
       "      <th>75%</th>\n",
       "      <th>max</th>\n",
       "    </tr>\n",
       "  </thead>\n",
       "  <tbody>\n",
       "    <tr>\n",
       "      <th>Property_ID</th>\n",
       "      <td>134683.0</td>\n",
       "      <td>96036.100777</td>\n",
       "      <td>55565.228125</td>\n",
       "      <td>2.0</td>\n",
       "      <td>47940.0</td>\n",
       "      <td>95950.0</td>\n",
       "      <td>144194.5</td>\n",
       "      <td>192405.0</td>\n",
       "    </tr>\n",
       "    <tr>\n",
       "      <th>room</th>\n",
       "      <td>134683.0</td>\n",
       "      <td>2.029677</td>\n",
       "      <td>0.937308</td>\n",
       "      <td>1.0</td>\n",
       "      <td>1.0</td>\n",
       "      <td>2.0</td>\n",
       "      <td>3.0</td>\n",
       "      <td>5.0</td>\n",
       "    </tr>\n",
       "    <tr>\n",
       "      <th>price</th>\n",
       "      <td>134683.0</td>\n",
       "      <td>36690.033894</td>\n",
       "      <td>62620.364025</td>\n",
       "      <td>1583.0</td>\n",
       "      <td>12035.5</td>\n",
       "      <td>20856.0</td>\n",
       "      <td>36014.0</td>\n",
       "      <td>799325.0</td>\n",
       "    </tr>\n",
       "    <tr>\n",
       "      <th>area</th>\n",
       "      <td>134683.0</td>\n",
       "      <td>1480.388490</td>\n",
       "      <td>1412.464718</td>\n",
       "      <td>81.0</td>\n",
       "      <td>759.0</td>\n",
       "      <td>1114.0</td>\n",
       "      <td>1580.0</td>\n",
       "      <td>13942.0</td>\n",
       "    </tr>\n",
       "    <tr>\n",
       "      <th>bathroom</th>\n",
       "      <td>134683.0</td>\n",
       "      <td>2.040488</td>\n",
       "      <td>0.867065</td>\n",
       "      <td>1.0</td>\n",
       "      <td>1.0</td>\n",
       "      <td>2.0</td>\n",
       "      <td>2.0</td>\n",
       "      <td>5.0</td>\n",
       "    </tr>\n",
       "    <tr>\n",
       "      <th>parking_spaces</th>\n",
       "      <td>134683.0</td>\n",
       "      <td>0.534388</td>\n",
       "      <td>0.498818</td>\n",
       "      <td>0.0</td>\n",
       "      <td>0.0</td>\n",
       "      <td>1.0</td>\n",
       "      <td>1.0</td>\n",
       "      <td>1.0</td>\n",
       "    </tr>\n",
       "    <tr>\n",
       "      <th>floor</th>\n",
       "      <td>134683.0</td>\n",
       "      <td>9.163087</td>\n",
       "      <td>5.957549</td>\n",
       "      <td>0.0</td>\n",
       "      <td>4.0</td>\n",
       "      <td>9.0</td>\n",
       "      <td>15.0</td>\n",
       "      <td>19.0</td>\n",
       "    </tr>\n",
       "    <tr>\n",
       "      <th>pet_friendly</th>\n",
       "      <td>134683.0</td>\n",
       "      <td>0.527602</td>\n",
       "      <td>0.499239</td>\n",
       "      <td>0.0</td>\n",
       "      <td>0.0</td>\n",
       "      <td>1.0</td>\n",
       "      <td>1.0</td>\n",
       "      <td>1.0</td>\n",
       "    </tr>\n",
       "    <tr>\n",
       "      <th>power_backup</th>\n",
       "      <td>134683.0</td>\n",
       "      <td>0.337051</td>\n",
       "      <td>0.472704</td>\n",
       "      <td>0.0</td>\n",
       "      <td>0.0</td>\n",
       "      <td>0.0</td>\n",
       "      <td>1.0</td>\n",
       "      <td>1.0</td>\n",
       "    </tr>\n",
       "    <tr>\n",
       "      <th>washing_machine</th>\n",
       "      <td>134683.0</td>\n",
       "      <td>0.472561</td>\n",
       "      <td>0.499248</td>\n",
       "      <td>0.0</td>\n",
       "      <td>0.0</td>\n",
       "      <td>0.0</td>\n",
       "      <td>1.0</td>\n",
       "      <td>1.0</td>\n",
       "    </tr>\n",
       "    <tr>\n",
       "      <th>air_conditioner</th>\n",
       "      <td>134683.0</td>\n",
       "      <td>0.692626</td>\n",
       "      <td>0.461407</td>\n",
       "      <td>0.0</td>\n",
       "      <td>0.0</td>\n",
       "      <td>1.0</td>\n",
       "      <td>1.0</td>\n",
       "      <td>1.0</td>\n",
       "    </tr>\n",
       "    <tr>\n",
       "      <th>geyser/solar</th>\n",
       "      <td>134683.0</td>\n",
       "      <td>0.440137</td>\n",
       "      <td>0.496405</td>\n",
       "      <td>0.0</td>\n",
       "      <td>0.0</td>\n",
       "      <td>0.0</td>\n",
       "      <td>1.0</td>\n",
       "      <td>1.0</td>\n",
       "    </tr>\n",
       "    <tr>\n",
       "      <th>security_deposit</th>\n",
       "      <td>134683.0</td>\n",
       "      <td>220248.014323</td>\n",
       "      <td>420450.288624</td>\n",
       "      <td>3180.0</td>\n",
       "      <td>55802.5</td>\n",
       "      <td>114264.0</td>\n",
       "      <td>220704.5</td>\n",
       "      <td>7940780.0</td>\n",
       "    </tr>\n",
       "    <tr>\n",
       "      <th>CCTV/security</th>\n",
       "      <td>134683.0</td>\n",
       "      <td>0.561838</td>\n",
       "      <td>0.496163</td>\n",
       "      <td>0.0</td>\n",
       "      <td>0.0</td>\n",
       "      <td>1.0</td>\n",
       "      <td>1.0</td>\n",
       "      <td>1.0</td>\n",
       "    </tr>\n",
       "    <tr>\n",
       "      <th>lift</th>\n",
       "      <td>134683.0</td>\n",
       "      <td>0.595851</td>\n",
       "      <td>0.490728</td>\n",
       "      <td>0.0</td>\n",
       "      <td>0.0</td>\n",
       "      <td>1.0</td>\n",
       "      <td>1.0</td>\n",
       "      <td>1.0</td>\n",
       "    </tr>\n",
       "    <tr>\n",
       "      <th>neighbourhood</th>\n",
       "      <td>134683.0</td>\n",
       "      <td>2033.024212</td>\n",
       "      <td>1159.635981</td>\n",
       "      <td>0.0</td>\n",
       "      <td>1100.0</td>\n",
       "      <td>2000.0</td>\n",
       "      <td>3000.0</td>\n",
       "      <td>4000.0</td>\n",
       "    </tr>\n",
       "  </tbody>\n",
       "</table>\n",
       "</div>"
      ],
      "text/plain": [
       "                     count           mean            std     min      25%  \\\n",
       "Property_ID       134683.0   96036.100777   55565.228125     2.0  47940.0   \n",
       "room              134683.0       2.029677       0.937308     1.0      1.0   \n",
       "price             134683.0   36690.033894   62620.364025  1583.0  12035.5   \n",
       "area              134683.0    1480.388490    1412.464718    81.0    759.0   \n",
       "bathroom          134683.0       2.040488       0.867065     1.0      1.0   \n",
       "parking_spaces    134683.0       0.534388       0.498818     0.0      0.0   \n",
       "floor             134683.0       9.163087       5.957549     0.0      4.0   \n",
       "pet_friendly      134683.0       0.527602       0.499239     0.0      0.0   \n",
       "power_backup      134683.0       0.337051       0.472704     0.0      0.0   \n",
       "washing_machine   134683.0       0.472561       0.499248     0.0      0.0   \n",
       "air_conditioner   134683.0       0.692626       0.461407     0.0      0.0   \n",
       "geyser/solar      134683.0       0.440137       0.496405     0.0      0.0   \n",
       "security_deposit  134683.0  220248.014323  420450.288624  3180.0  55802.5   \n",
       "CCTV/security     134683.0       0.561838       0.496163     0.0      0.0   \n",
       "lift              134683.0       0.595851       0.490728     0.0      0.0   \n",
       "neighbourhood     134683.0    2033.024212    1159.635981     0.0   1100.0   \n",
       "\n",
       "                       50%       75%        max  \n",
       "Property_ID        95950.0  144194.5   192405.0  \n",
       "room                   2.0       3.0        5.0  \n",
       "price              20856.0   36014.0   799325.0  \n",
       "area                1114.0    1580.0    13942.0  \n",
       "bathroom               2.0       2.0        5.0  \n",
       "parking_spaces         1.0       1.0        1.0  \n",
       "floor                  9.0      15.0       19.0  \n",
       "pet_friendly           1.0       1.0        1.0  \n",
       "power_backup           0.0       1.0        1.0  \n",
       "washing_machine        0.0       1.0        1.0  \n",
       "air_conditioner        1.0       1.0        1.0  \n",
       "geyser/solar           0.0       1.0        1.0  \n",
       "security_deposit  114264.0  220704.5  7940780.0  \n",
       "CCTV/security          1.0       1.0        1.0  \n",
       "lift                   1.0       1.0        1.0  \n",
       "neighbourhood       2000.0    3000.0     4000.0  "
      ]
     },
     "execution_count": 63,
     "metadata": {},
     "output_type": "execute_result"
    }
   ],
   "source": [
    "train_df.describe().T"
   ]
  },
  {
   "cell_type": "code",
   "execution_count": 64,
   "metadata": {
    "ExecuteTime": {
     "end_time": "2022-05-13T18:32:03.663214Z",
     "start_time": "2022-05-13T18:32:03.623246Z"
    }
   },
   "outputs": [
    {
     "name": "stdout",
     "output_type": "stream",
     "text": [
      "<class 'pandas.core.frame.DataFrame'>\n",
      "RangeIndex: 134683 entries, 0 to 134682\n",
      "Data columns (total 21 columns):\n",
      " #   Column            Non-Null Count   Dtype \n",
      "---  ------            --------------   ----- \n",
      " 0   Property_ID       134683 non-null  int64 \n",
      " 1   room              134683 non-null  int64 \n",
      " 2   layout_type       134683 non-null  object\n",
      " 3   property_type     134683 non-null  object\n",
      " 4   locality          134683 non-null  object\n",
      " 5   price             134683 non-null  int64 \n",
      " 6   area              134683 non-null  int64 \n",
      " 7   furnish_type      134683 non-null  object\n",
      " 8   bathroom          134683 non-null  int64 \n",
      " 9   city              134683 non-null  object\n",
      " 10  parking_spaces    134683 non-null  int64 \n",
      " 11  floor             134683 non-null  int64 \n",
      " 12  pet_friendly      134683 non-null  int64 \n",
      " 13  power_backup      134683 non-null  int64 \n",
      " 14  washing_machine   134683 non-null  int64 \n",
      " 15  air_conditioner   134683 non-null  int64 \n",
      " 16  geyser/solar      134683 non-null  int64 \n",
      " 17  security_deposit  134683 non-null  int64 \n",
      " 18  CCTV/security     134683 non-null  int64 \n",
      " 19  lift              134683 non-null  int64 \n",
      " 20  neighbourhood     134683 non-null  int64 \n",
      "dtypes: int64(16), object(5)\n",
      "memory usage: 21.6+ MB\n"
     ]
    }
   ],
   "source": [
    "train_df.info()"
   ]
  },
  {
   "cell_type": "markdown",
   "metadata": {},
   "source": [
    "The data have no null values, Uff... It eases our work somehow.."
   ]
  },
  {
   "cell_type": "markdown",
   "metadata": {},
   "source": [
    "##  EDA"
   ]
  },
  {
   "cell_type": "code",
   "execution_count": 65,
   "metadata": {
    "ExecuteTime": {
     "end_time": "2022-05-13T18:32:03.666718Z",
     "start_time": "2022-05-13T18:32:03.664822Z"
    }
   },
   "outputs": [],
   "source": [
    "# plt.rcParams['figure.figsize'] = [28, 10]\n",
    "# plt.rcParams['figure.dpi'] = 200\n",
    "# plt.rcParams['axes.labelsize'] = 20\n",
    "# plt.rcParams['xtick.labelsize'] = 20\n",
    "# plt.rcParams['ytick.labelsize'] = 20"
   ]
  },
  {
   "cell_type": "code",
   "execution_count": 66,
   "metadata": {
    "ExecuteTime": {
     "end_time": "2022-05-13T18:32:03.675423Z",
     "start_time": "2022-05-13T18:32:03.667896Z"
    }
   },
   "outputs": [],
   "source": [
    "# print(train_df[\"room\"].value_counts())\n",
    "# sns.boxenplot(x=train_df[\"room\"], y=train_df[\"price\"])\n",
    "# plt.show()"
   ]
  },
  {
   "cell_type": "markdown",
   "metadata": {},
   "source": [
    "The boxplots were soo conjusted that we can't deduce anything from them."
   ]
  },
  {
   "cell_type": "code",
   "execution_count": 67,
   "metadata": {
    "ExecuteTime": {
     "end_time": "2022-05-13T18:32:03.680799Z",
     "start_time": "2022-05-13T18:32:03.678460Z"
    }
   },
   "outputs": [],
   "source": [
    "# print(train_df[\"layout_type\"].value_counts())\n",
    "# sns.boxenplot(x=train_df[\"layout_type\"], y=train_df[\"price\"])\n",
    "# plt.show()"
   ]
  },
  {
   "cell_type": "markdown",
   "metadata": {},
   "source": [
    "Hmm... Even this isn't very informative. May be I'm not using a right method to plot. Let me try another method."
   ]
  },
  {
   "cell_type": "code",
   "execution_count": 68,
   "metadata": {
    "ExecuteTime": {
     "end_time": "2022-05-13T18:32:03.693708Z",
     "start_time": "2022-05-13T18:32:03.682552Z"
    }
   },
   "outputs": [],
   "source": [
    "X_train, y_train = train_df.drop(\"price\", axis=1), train_df[\"price\"]"
   ]
  },
  {
   "cell_type": "code",
   "execution_count": 69,
   "metadata": {
    "ExecuteTime": {
     "end_time": "2022-05-13T18:32:03.698599Z",
     "start_time": "2022-05-13T18:32:03.695104Z"
    }
   },
   "outputs": [],
   "source": [
    "from sklearn.preprocessing import LabelEncoder\n",
    "from sklearn.model_selection import train_test_split, cross_val_score\n",
    "from sklearn.metrics import make_scorer, mean_squared_error"
   ]
  },
  {
   "cell_type": "code",
   "execution_count": 70,
   "metadata": {
    "ExecuteTime": {
     "end_time": "2022-05-13T18:32:03.846607Z",
     "start_time": "2022-05-13T18:32:03.700382Z"
    }
   },
   "outputs": [],
   "source": [
    "X_train[\"layout_type\"] = LabelEncoder().fit_transform(X_train[\"layout_type\"])\n",
    "X_train[\"property_type\"] = LabelEncoder().fit_transform(X_train[\"property_type\"])\n",
    "X_train[\"locality\"] = LabelEncoder().fit_transform(X_train[\"locality\"])\n",
    "X_train[\"furnish_type\"] = LabelEncoder().fit_transform(X_train[\"furnish_type\"])\n",
    "X_train[\"city\"] = LabelEncoder().fit_transform(X_train[\"city\"])"
   ]
  },
  {
   "cell_type": "code",
   "execution_count": 71,
   "metadata": {
    "ExecuteTime": {
     "end_time": "2022-05-13T18:32:03.888563Z",
     "start_time": "2022-05-13T18:32:03.848107Z"
    }
   },
   "outputs": [],
   "source": [
    "X_train, X_test, y_train, y_test = train_test_split(\n",
    "    X_train, y_train, test_size=0.25)"
   ]
  },
  {
   "cell_type": "code",
   "execution_count": 72,
   "metadata": {
    "ExecuteTime": {
     "end_time": "2022-05-13T18:32:03.957690Z",
     "start_time": "2022-05-13T18:32:03.890279Z"
    }
   },
   "outputs": [],
   "source": [
    "test_df[\"layout_type\"] = LabelEncoder().fit_transform(test_df[\"layout_type\"])\n",
    "test_df[\"property_type\"] = LabelEncoder(\n",
    ").fit_transform(test_df[\"property_type\"])\n",
    "test_df[\"locality\"] = LabelEncoder().fit_transform(test_df[\"locality\"])\n",
    "test_df[\"furnish_type\"] = LabelEncoder().fit_transform(test_df[\"furnish_type\"])\n",
    "test_df[\"city\"] = LabelEncoder().fit_transform(test_df[\"city\"])"
   ]
  },
  {
   "cell_type": "code",
   "execution_count": 73,
   "metadata": {
    "ExecuteTime": {
     "end_time": "2022-05-13T18:32:03.967372Z",
     "start_time": "2022-05-13T18:32:03.958883Z"
    }
   },
   "outputs": [],
   "source": [
    "test = test_df.drop(\"price\", axis=1)"
   ]
  },
  {
   "cell_type": "code",
   "execution_count": null,
   "metadata": {
    "ExecuteTime": {
     "end_time": "2022-05-13T18:30:46.991125Z",
     "start_time": "2022-05-13T18:30:46.906335Z"
    }
   },
   "outputs": [],
   "source": []
  },
  {
   "cell_type": "code",
   "execution_count": 74,
   "metadata": {
    "ExecuteTime": {
     "end_time": "2022-05-13T18:32:03.970539Z",
     "start_time": "2022-05-13T18:32:03.968592Z"
    }
   },
   "outputs": [],
   "source": [
    "import optuna"
   ]
  },
  {
   "cell_type": "code",
   "execution_count": 75,
   "metadata": {
    "ExecuteTime": {
     "end_time": "2022-05-13T18:32:03.977195Z",
     "start_time": "2022-05-13T18:32:03.971650Z"
    }
   },
   "outputs": [],
   "source": [
    "# def objective(trial, X_train = X_train, y_train = y_train, X_test = X_test, y_test = y_test):\n",
    "    \n",
    "# #     train_x, test_x, train_y, test_y = train_test_split(data, target, test_size=0.15,random_state=42)\n",
    "#     param = {\n",
    "#         'tree_method':'gpu_hist',  # this parameter means using the GPU when training our model to speedup the training process\n",
    "#         'lambda': trial.suggest_loguniform('lambda', 1e-3, 10.0),\n",
    "#         'alpha': trial.suggest_loguniform('alpha', 1e-3, 10.0),\n",
    "#         'colsample_bytree': trial.suggest_categorical('colsample_bytree', [0.3,0.4,0.5,0.6,0.7,0.8,0.9, 1.0]),\n",
    "#         'subsample': trial.suggest_categorical('subsample', [0.4,0.5,0.6,0.7,0.8,1.0]),\n",
    "#         'learning_rate': trial.suggest_categorical('learning_rate', [0.008,0.01,0.012,0.014,0.016,0.018, 0.02]),\n",
    "#         'n_estimators': trial.suggest_int('n_estimators', 100, 1000),\n",
    "#         'max_depth': trial.suggest_categorical('max_depth', [5,7,9,11,13,15,17]),\n",
    "#         'random_state': trial.suggest_categorical('random_state', [2020]),\n",
    "#         'min_child_weight': trial.suggest_int('min_child_weight', 1, 300),\n",
    "#     }\n",
    "#     model = xgb.XGBRegressor(**param)  \n",
    "    \n",
    "#     model.fit(X_train,y_train,eval_set=[(X_test,y_test)],early_stopping_rounds=100,verbose=False)\n",
    "    \n",
    "#     preds = model.predict(X_test)\n",
    "    \n",
    "#     rmse = mean_squared_error(y_test, preds,squared=False)\n",
    "    \n",
    "#     return rmse"
   ]
  },
  {
   "cell_type": "code",
   "execution_count": 76,
   "metadata": {
    "ExecuteTime": {
     "end_time": "2022-05-13T18:32:03.980567Z",
     "start_time": "2022-05-13T18:32:03.978340Z"
    },
    "scrolled": false
   },
   "outputs": [],
   "source": [
    "# study = optuna.create_study(direction='minimize')\n",
    "# study.optimize(objective, n_trials=100)\n",
    "# print('Number of finished trials:', len(study.trials))\n",
    "# print('Best trial:', study.best_trial.params)"
   ]
  },
  {
   "cell_type": "code",
   "execution_count": 77,
   "metadata": {
    "ExecuteTime": {
     "end_time": "2022-05-13T18:32:03.985048Z",
     "start_time": "2022-05-13T18:32:03.981757Z"
    }
   },
   "outputs": [],
   "source": [
    "# best_params = study.best_trial.params\n",
    "best_params = {\n",
    "    'lambda': 0.0028529452269855336,\n",
    "    'alpha': 0.003297186319062336,\n",
    "    'colsample_bytree': 1.0,\n",
    "    'tree_method': 'gpu_hist',\n",
    "    'subsample': 0.8,\n",
    "    'learning_rate': 0.016,\n",
    "    'n_estimators': 9205,\n",
    "    'max_depth': 7,\n",
    "    'random_state': 2020,\n",
    "    'min_child_weight': 299\n",
    "}\n",
    "\n",
    "model_xgb = xgb.XGBRegressor(**best_params)"
   ]
  },
  {
   "cell_type": "code",
   "execution_count": 78,
   "metadata": {
    "ExecuteTime": {
     "end_time": "2022-05-13T18:32:04.753088Z",
     "start_time": "2022-05-13T18:32:03.986059Z"
    }
   },
   "outputs": [
    {
     "name": "stdout",
     "output_type": "stream",
     "text": [
      "Loading Model...\n"
     ]
    }
   ],
   "source": [
    "if not os.path.exists(\"xgb_finetuned.json\"):\n",
    "    model_xgb.fit(X_train, y_train)\n",
    "    model_xgb.save_model(\"xgb_finetuned.json\")\n",
    "else:\n",
    "    print(\"Loading Model...\")\n",
    "    model_xgb.load_model(\"xgb_finetuned.json\")\n"
   ]
  },
  {
   "cell_type": "code",
   "execution_count": 79,
   "metadata": {
    "ExecuteTime": {
     "end_time": "2022-05-13T18:32:06.169010Z",
     "start_time": "2022-05-13T18:32:04.754968Z"
    }
   },
   "outputs": [
    {
     "data": {
      "text/plain": [
       "24528.97746837569"
      ]
     },
     "execution_count": 79,
     "metadata": {},
     "output_type": "execute_result"
    }
   ],
   "source": [
    "mean_squared_error(y_test, model_xgb.predict(X_test), squared=False)"
   ]
  },
  {
   "cell_type": "code",
   "execution_count": 80,
   "metadata": {
    "ExecuteTime": {
     "end_time": "2022-05-13T18:32:06.254662Z",
     "start_time": "2022-05-13T18:32:06.181678Z"
    }
   },
   "outputs": [
    {
     "data": {
      "text/plain": [
       "LinearRegression()"
      ]
     },
     "execution_count": 80,
     "metadata": {},
     "output_type": "execute_result"
    }
   ],
   "source": [
    "from sklearn.linear_model import LinearRegression\n",
    "\n",
    "model_lr = LinearRegression()\n",
    "\n",
    "model_lr.fit(X_train, y_train)\n"
   ]
  },
  {
   "cell_type": "code",
   "execution_count": 81,
   "metadata": {
    "ExecuteTime": {
     "end_time": "2022-05-13T18:32:06.287517Z",
     "start_time": "2022-05-13T18:32:06.271168Z"
    }
   },
   "outputs": [
    {
     "data": {
      "text/plain": [
       "27475.096198152634"
      ]
     },
     "execution_count": 81,
     "metadata": {},
     "output_type": "execute_result"
    }
   ],
   "source": [
    "mean_squared_error(y_test, model_lr.predict(X_test), squared=False)"
   ]
  },
  {
   "cell_type": "code",
   "execution_count": 82,
   "metadata": {
    "ExecuteTime": {
     "end_time": "2022-05-13T18:32:06.295241Z",
     "start_time": "2022-05-13T18:32:06.292755Z"
    }
   },
   "outputs": [],
   "source": [
    "# from catboost import CatBoostRegressor\n",
    "\n",
    "# def catboost_objective(trial,X_train = X_train, y_train = y_train, X_test = X_test, y_test = y_test):\n",
    "    \n",
    "# #     train_x, test_x, train_y, test_y = train_test_split(data, target, test_size=0.15,random_state=42)\n",
    "#     param = {\n",
    "#         'loss_function': 'RMSE',\n",
    "#         'task_type': 'GPU',\n",
    "#         'l2_leaf_reg': trial.suggest_loguniform('l2_leaf_reg', 1e-3, 10.0),\n",
    "#         'max_bin': trial.suggest_int('max_bin', 200, 400),\n",
    "#         #'rsm': trial.suggest_uniform('rsm', 0.3, 1.0),\n",
    "# #         'subsample': trial.suggest_uniform('bagging_fraction', 0.4, 1.0),\n",
    "#         'learning_rate': trial.suggest_uniform('learning_rate', 0.006, 0.018),\n",
    "#         'n_estimators':  25000,\n",
    "#         'max_depth': trial.suggest_categorical('max_depth', [5,7,9,11,13,15]),\n",
    "#         'random_state': trial.suggest_categorical('random_state', [2020]),\n",
    "#         'min_data_in_leaf': trial.suggest_int('min_data_in_leaf', 1, 300),\n",
    "#     }\n",
    "#     model = CatBoostRegressor(**param)  \n",
    "    \n",
    "#     model.fit(X_train,y_train,eval_set=[(X_test, y_test)],early_stopping_rounds=200,verbose=False)\n",
    "    \n",
    "#     preds = model.predict(X_test)\n",
    "    \n",
    "#     rmse = mean_squared_error(y_test, preds,squared=False)\n",
    "    \n",
    "#     return rmse"
   ]
  },
  {
   "cell_type": "code",
   "execution_count": 83,
   "metadata": {
    "ExecuteTime": {
     "end_time": "2022-05-13T18:32:06.301618Z",
     "start_time": "2022-05-13T18:32:06.298163Z"
    },
    "scrolled": true
   },
   "outputs": [],
   "source": [
    "# study = optuna.create_study(direction='minimize')\n",
    "# study.optimize(catboost_objective, n_trials=30)\n",
    "# print('Number of finished trials:', len(study.trials))\n",
    "# print('Best trial:', study.best_trial.params)"
   ]
  },
  {
   "cell_type": "code",
   "execution_count": 84,
   "metadata": {
    "ExecuteTime": {
     "end_time": "2022-05-13T18:32:15.304774Z",
     "start_time": "2022-05-13T18:32:06.302938Z"
    },
    "collapsed": true
   },
   "outputs": [
    {
     "name": "stdout",
     "output_type": "stream",
     "text": [
      "0:\tlearn: 62252.8327499\ttotal: 56.1ms\tremaining: 56s\n",
      "1:\tlearn: 61684.3650312\ttotal: 63.9ms\tremaining: 31.9s\n",
      "2:\tlearn: 61118.2718948\ttotal: 73.5ms\tremaining: 24.4s\n",
      "3:\tlearn: 60559.0351294\ttotal: 84.2ms\tremaining: 21s\n",
      "4:\tlearn: 60005.7838941\ttotal: 93.2ms\tremaining: 18.6s\n",
      "5:\tlearn: 59463.2767051\ttotal: 101ms\tremaining: 16.7s\n",
      "6:\tlearn: 58916.9704848\ttotal: 107ms\tremaining: 15.2s\n",
      "7:\tlearn: 58390.1984980\ttotal: 114ms\tremaining: 14.1s\n",
      "8:\tlearn: 57861.0385271\ttotal: 122ms\tremaining: 13.5s\n",
      "9:\tlearn: 57346.7410570\ttotal: 128ms\tremaining: 12.7s\n",
      "10:\tlearn: 56845.4298437\ttotal: 135ms\tremaining: 12.1s\n",
      "11:\tlearn: 56336.5357581\ttotal: 142ms\tremaining: 11.7s\n",
      "12:\tlearn: 55844.6916478\ttotal: 149ms\tremaining: 11.3s\n",
      "13:\tlearn: 55379.7602294\ttotal: 157ms\tremaining: 11s\n",
      "14:\tlearn: 54908.3982363\ttotal: 165ms\tremaining: 10.8s\n",
      "15:\tlearn: 54445.5423737\ttotal: 171ms\tremaining: 10.5s\n",
      "16:\tlearn: 53979.6022248\ttotal: 177ms\tremaining: 10.2s\n",
      "17:\tlearn: 53522.9832271\ttotal: 184ms\tremaining: 10s\n",
      "18:\tlearn: 53077.5410846\ttotal: 192ms\tremaining: 9.93s\n",
      "19:\tlearn: 52629.7698688\ttotal: 201ms\tremaining: 9.86s\n",
      "20:\tlearn: 52180.3944978\ttotal: 209ms\tremaining: 9.74s\n",
      "21:\tlearn: 51757.2942478\ttotal: 218ms\tremaining: 9.69s\n",
      "22:\tlearn: 51322.9890441\ttotal: 225ms\tremaining: 9.54s\n",
      "23:\tlearn: 50910.2333621\ttotal: 234ms\tremaining: 9.52s\n",
      "24:\tlearn: 50492.5209641\ttotal: 243ms\tremaining: 9.47s\n",
      "25:\tlearn: 50090.0226964\ttotal: 251ms\tremaining: 9.41s\n",
      "26:\tlearn: 49687.1881125\ttotal: 262ms\tremaining: 9.44s\n",
      "27:\tlearn: 49287.5050617\ttotal: 270ms\tremaining: 9.36s\n",
      "28:\tlearn: 48903.3114695\ttotal: 279ms\tremaining: 9.35s\n",
      "29:\tlearn: 48519.9675474\ttotal: 287ms\tremaining: 9.29s\n",
      "30:\tlearn: 48137.6742112\ttotal: 295ms\tremaining: 9.21s\n",
      "31:\tlearn: 47768.5608876\ttotal: 303ms\tremaining: 9.16s\n",
      "32:\tlearn: 47400.3388169\ttotal: 311ms\tremaining: 9.12s\n",
      "33:\tlearn: 47034.8468654\ttotal: 319ms\tremaining: 9.05s\n",
      "34:\tlearn: 46671.1463208\ttotal: 324ms\tremaining: 8.94s\n",
      "35:\tlearn: 46319.1555418\ttotal: 331ms\tremaining: 8.86s\n",
      "36:\tlearn: 45965.9964328\ttotal: 337ms\tremaining: 8.76s\n",
      "37:\tlearn: 45623.7075890\ttotal: 342ms\tremaining: 8.67s\n",
      "38:\tlearn: 45286.3717985\ttotal: 349ms\tremaining: 8.59s\n",
      "39:\tlearn: 44960.7807114\ttotal: 354ms\tremaining: 8.51s\n",
      "40:\tlearn: 44647.5088121\ttotal: 361ms\tremaining: 8.44s\n",
      "41:\tlearn: 44331.5927299\ttotal: 367ms\tremaining: 8.37s\n",
      "42:\tlearn: 44018.7107421\ttotal: 373ms\tremaining: 8.3s\n",
      "43:\tlearn: 43711.5427842\ttotal: 381ms\tremaining: 8.28s\n",
      "44:\tlearn: 43402.8603771\ttotal: 387ms\tremaining: 8.21s\n",
      "45:\tlearn: 43098.9473635\ttotal: 393ms\tremaining: 8.14s\n",
      "46:\tlearn: 42808.8006394\ttotal: 398ms\tremaining: 8.07s\n",
      "47:\tlearn: 42514.4304711\ttotal: 404ms\tremaining: 8.01s\n",
      "48:\tlearn: 42220.1839748\ttotal: 410ms\tremaining: 7.95s\n",
      "49:\tlearn: 41940.7556136\ttotal: 416ms\tremaining: 7.91s\n",
      "50:\tlearn: 41667.7646731\ttotal: 422ms\tremaining: 7.85s\n",
      "51:\tlearn: 41392.4946986\ttotal: 428ms\tremaining: 7.81s\n",
      "52:\tlearn: 41121.6449506\ttotal: 434ms\tremaining: 7.76s\n",
      "53:\tlearn: 40862.4346889\ttotal: 441ms\tremaining: 7.72s\n",
      "54:\tlearn: 40602.9883332\ttotal: 448ms\tremaining: 7.7s\n",
      "55:\tlearn: 40344.8951397\ttotal: 454ms\tremaining: 7.66s\n",
      "56:\tlearn: 40091.5474852\ttotal: 461ms\tremaining: 7.63s\n",
      "57:\tlearn: 39842.2981519\ttotal: 468ms\tremaining: 7.6s\n",
      "58:\tlearn: 39598.8117036\ttotal: 474ms\tremaining: 7.56s\n",
      "59:\tlearn: 39369.5228674\ttotal: 480ms\tremaining: 7.52s\n",
      "60:\tlearn: 39142.2258624\ttotal: 487ms\tremaining: 7.49s\n",
      "61:\tlearn: 38916.7224094\ttotal: 496ms\tremaining: 7.5s\n",
      "62:\tlearn: 38696.4034525\ttotal: 502ms\tremaining: 7.47s\n",
      "63:\tlearn: 38469.9122434\ttotal: 509ms\tremaining: 7.44s\n",
      "64:\tlearn: 38248.3063611\ttotal: 515ms\tremaining: 7.4s\n",
      "65:\tlearn: 38037.5937544\ttotal: 520ms\tremaining: 7.36s\n",
      "66:\tlearn: 37828.4184601\ttotal: 526ms\tremaining: 7.33s\n",
      "67:\tlearn: 37620.6040592\ttotal: 532ms\tremaining: 7.3s\n",
      "68:\tlearn: 37415.0999706\ttotal: 538ms\tremaining: 7.26s\n",
      "69:\tlearn: 37211.3447740\ttotal: 544ms\tremaining: 7.22s\n",
      "70:\tlearn: 37015.4593960\ttotal: 550ms\tremaining: 7.19s\n",
      "71:\tlearn: 36821.4830746\ttotal: 558ms\tremaining: 7.19s\n",
      "72:\tlearn: 36626.6035160\ttotal: 564ms\tremaining: 7.16s\n",
      "73:\tlearn: 36434.3517430\ttotal: 572ms\tremaining: 7.16s\n",
      "74:\tlearn: 36250.1300003\ttotal: 580ms\tremaining: 7.15s\n",
      "75:\tlearn: 36065.2385152\ttotal: 586ms\tremaining: 7.12s\n",
      "76:\tlearn: 35885.5341890\ttotal: 592ms\tremaining: 7.09s\n",
      "77:\tlearn: 35706.3969465\ttotal: 598ms\tremaining: 7.07s\n",
      "78:\tlearn: 35531.6946339\ttotal: 604ms\tremaining: 7.04s\n",
      "79:\tlearn: 35364.3670747\ttotal: 610ms\tremaining: 7.01s\n",
      "80:\tlearn: 35203.9065561\ttotal: 615ms\tremaining: 6.98s\n",
      "81:\tlearn: 35037.2136669\ttotal: 621ms\tremaining: 6.96s\n",
      "82:\tlearn: 34872.5025479\ttotal: 627ms\tremaining: 6.92s\n",
      "83:\tlearn: 34712.2885982\ttotal: 632ms\tremaining: 6.9s\n",
      "84:\tlearn: 34555.2616985\ttotal: 638ms\tremaining: 6.87s\n",
      "85:\tlearn: 34400.6272947\ttotal: 644ms\tremaining: 6.85s\n",
      "86:\tlearn: 34252.2182740\ttotal: 650ms\tremaining: 6.82s\n",
      "87:\tlearn: 34104.8490833\ttotal: 656ms\tremaining: 6.8s\n",
      "88:\tlearn: 33959.9419101\ttotal: 663ms\tremaining: 6.78s\n",
      "89:\tlearn: 33818.1088398\ttotal: 669ms\tremaining: 6.76s\n",
      "90:\tlearn: 33688.1489963\ttotal: 675ms\tremaining: 6.74s\n",
      "91:\tlearn: 33551.3611186\ttotal: 682ms\tremaining: 6.73s\n",
      "92:\tlearn: 33418.8657715\ttotal: 689ms\tremaining: 6.72s\n",
      "93:\tlearn: 33284.4355495\ttotal: 696ms\tremaining: 6.71s\n",
      "94:\tlearn: 33152.7189272\ttotal: 702ms\tremaining: 6.69s\n",
      "95:\tlearn: 33027.0231804\ttotal: 708ms\tremaining: 6.67s\n",
      "96:\tlearn: 32903.1691374\ttotal: 714ms\tremaining: 6.64s\n",
      "97:\tlearn: 32778.6496153\ttotal: 719ms\tremaining: 6.62s\n",
      "98:\tlearn: 32659.3136903\ttotal: 725ms\tremaining: 6.6s\n",
      "99:\tlearn: 32541.2522696\ttotal: 731ms\tremaining: 6.58s\n",
      "100:\tlearn: 32425.8516845\ttotal: 736ms\tremaining: 6.55s\n",
      "101:\tlearn: 32311.9362357\ttotal: 742ms\tremaining: 6.54s\n",
      "102:\tlearn: 32200.5170051\ttotal: 748ms\tremaining: 6.51s\n",
      "103:\tlearn: 32092.8592056\ttotal: 754ms\tremaining: 6.5s\n",
      "104:\tlearn: 31986.2148802\ttotal: 760ms\tremaining: 6.48s\n",
      "105:\tlearn: 31880.8596718\ttotal: 765ms\tremaining: 6.45s\n",
      "106:\tlearn: 31780.0974470\ttotal: 771ms\tremaining: 6.43s\n",
      "107:\tlearn: 31677.7739295\ttotal: 777ms\tremaining: 6.41s\n",
      "108:\tlearn: 31580.0056122\ttotal: 783ms\tremaining: 6.4s\n",
      "109:\tlearn: 31479.7028880\ttotal: 788ms\tremaining: 6.38s\n",
      "110:\tlearn: 31387.5173200\ttotal: 794ms\tremaining: 6.36s\n",
      "111:\tlearn: 31293.6152659\ttotal: 800ms\tremaining: 6.34s\n",
      "112:\tlearn: 31198.3981494\ttotal: 806ms\tremaining: 6.32s\n",
      "113:\tlearn: 31107.8708059\ttotal: 811ms\tremaining: 6.31s\n",
      "114:\tlearn: 31019.5758845\ttotal: 817ms\tremaining: 6.29s\n",
      "115:\tlearn: 30931.0509511\ttotal: 823ms\tremaining: 6.27s\n",
      "116:\tlearn: 30842.3238542\ttotal: 829ms\tremaining: 6.25s\n",
      "117:\tlearn: 30757.5486280\ttotal: 834ms\tremaining: 6.24s\n",
      "118:\tlearn: 30675.3559672\ttotal: 840ms\tremaining: 6.22s\n",
      "119:\tlearn: 30592.6456481\ttotal: 846ms\tremaining: 6.21s\n",
      "120:\tlearn: 30513.9981920\ttotal: 852ms\tremaining: 6.19s\n",
      "121:\tlearn: 30435.7919109\ttotal: 858ms\tremaining: 6.17s\n",
      "122:\tlearn: 30359.3944757\ttotal: 865ms\tremaining: 6.17s\n",
      "123:\tlearn: 30283.1661088\ttotal: 872ms\tremaining: 6.16s\n",
      "124:\tlearn: 30209.6144104\ttotal: 878ms\tremaining: 6.14s\n",
      "125:\tlearn: 30140.0628761\ttotal: 884ms\tremaining: 6.13s\n",
      "126:\tlearn: 30070.7032319\ttotal: 891ms\tremaining: 6.13s\n",
      "127:\tlearn: 30000.8365258\ttotal: 900ms\tremaining: 6.13s\n",
      "128:\tlearn: 29934.0856613\ttotal: 908ms\tremaining: 6.13s\n",
      "129:\tlearn: 29869.3688190\ttotal: 914ms\tremaining: 6.12s\n",
      "130:\tlearn: 29807.2402689\ttotal: 921ms\tremaining: 6.11s\n",
      "131:\tlearn: 29744.2429891\ttotal: 929ms\tremaining: 6.11s\n",
      "132:\tlearn: 29680.9612895\ttotal: 936ms\tremaining: 6.1s\n",
      "133:\tlearn: 29620.7907219\ttotal: 943ms\tremaining: 6.09s\n",
      "134:\tlearn: 29559.8459244\ttotal: 951ms\tremaining: 6.09s\n",
      "135:\tlearn: 29499.6615509\ttotal: 958ms\tremaining: 6.09s\n",
      "136:\tlearn: 29439.6969685\ttotal: 966ms\tremaining: 6.08s\n",
      "137:\tlearn: 29382.3817930\ttotal: 973ms\tremaining: 6.08s\n",
      "138:\tlearn: 29328.1620134\ttotal: 980ms\tremaining: 6.07s\n",
      "139:\tlearn: 29276.1677327\ttotal: 986ms\tremaining: 6.06s\n",
      "140:\tlearn: 29222.5191048\ttotal: 992ms\tremaining: 6.04s\n",
      "141:\tlearn: 29171.4125588\ttotal: 998ms\tremaining: 6.03s\n",
      "142:\tlearn: 29122.2886934\ttotal: 1s\tremaining: 6.02s\n",
      "143:\tlearn: 29073.1404343\ttotal: 1.01s\tremaining: 6s\n",
      "144:\tlearn: 29023.0235538\ttotal: 1.01s\tremaining: 5.99s\n",
      "145:\tlearn: 28973.8349923\ttotal: 1.02s\tremaining: 5.97s\n",
      "146:\tlearn: 28926.4670234\ttotal: 1.03s\tremaining: 5.96s\n",
      "147:\tlearn: 28882.4536271\ttotal: 1.03s\tremaining: 5.95s\n",
      "148:\tlearn: 28837.2518328\ttotal: 1.04s\tremaining: 5.93s\n",
      "149:\tlearn: 28791.7743784\ttotal: 1.04s\tremaining: 5.92s\n",
      "150:\tlearn: 28749.6413814\ttotal: 1.05s\tremaining: 5.9s\n",
      "151:\tlearn: 28705.7023974\ttotal: 1.06s\tremaining: 5.89s\n",
      "152:\tlearn: 28664.5989708\ttotal: 1.06s\tremaining: 5.88s\n"
     ]
    },
    {
     "name": "stdout",
     "output_type": "stream",
     "text": [
      "153:\tlearn: 28626.8692473\ttotal: 1.07s\tremaining: 5.87s\n",
      "154:\tlearn: 28587.8962572\ttotal: 1.07s\tremaining: 5.86s\n",
      "155:\tlearn: 28550.0012104\ttotal: 1.08s\tremaining: 5.85s\n",
      "156:\tlearn: 28510.1955015\ttotal: 1.09s\tremaining: 5.85s\n",
      "157:\tlearn: 28471.9229808\ttotal: 1.09s\tremaining: 5.84s\n",
      "158:\tlearn: 28434.8903049\ttotal: 1.1s\tremaining: 5.83s\n",
      "159:\tlearn: 28399.3643304\ttotal: 1.11s\tremaining: 5.82s\n",
      "160:\tlearn: 28364.9274467\ttotal: 1.11s\tremaining: 5.81s\n",
      "161:\tlearn: 28330.3104453\ttotal: 1.12s\tremaining: 5.8s\n",
      "162:\tlearn: 28297.8013163\ttotal: 1.13s\tremaining: 5.79s\n",
      "163:\tlearn: 28264.5716427\ttotal: 1.13s\tremaining: 5.77s\n",
      "164:\tlearn: 28231.8526657\ttotal: 1.14s\tremaining: 5.76s\n",
      "165:\tlearn: 28199.1047480\ttotal: 1.14s\tremaining: 5.75s\n",
      "166:\tlearn: 28167.2437824\ttotal: 1.15s\tremaining: 5.74s\n",
      "167:\tlearn: 28135.0813993\ttotal: 1.16s\tremaining: 5.73s\n",
      "168:\tlearn: 28104.9217126\ttotal: 1.16s\tremaining: 5.72s\n",
      "169:\tlearn: 28075.1636416\ttotal: 1.17s\tremaining: 5.71s\n",
      "170:\tlearn: 28046.1100871\ttotal: 1.18s\tremaining: 5.7s\n",
      "171:\tlearn: 28016.5621199\ttotal: 1.18s\tremaining: 5.7s\n",
      "172:\tlearn: 27987.5081415\ttotal: 1.19s\tremaining: 5.68s\n",
      "173:\tlearn: 27961.3307003\ttotal: 1.2s\tremaining: 5.67s\n",
      "174:\tlearn: 27935.6735950\ttotal: 1.2s\tremaining: 5.66s\n",
      "175:\tlearn: 27908.7522954\ttotal: 1.21s\tremaining: 5.65s\n",
      "176:\tlearn: 27882.9808941\ttotal: 1.21s\tremaining: 5.64s\n",
      "177:\tlearn: 27856.9690508\ttotal: 1.22s\tremaining: 5.63s\n",
      "178:\tlearn: 27831.4648497\ttotal: 1.22s\tremaining: 5.62s\n",
      "179:\tlearn: 27807.6054301\ttotal: 1.23s\tremaining: 5.6s\n",
      "180:\tlearn: 27784.1348724\ttotal: 1.24s\tremaining: 5.59s\n",
      "181:\tlearn: 27761.5128997\ttotal: 1.24s\tremaining: 5.58s\n",
      "182:\tlearn: 27740.0096683\ttotal: 1.25s\tremaining: 5.57s\n",
      "183:\tlearn: 27718.0313889\ttotal: 1.25s\tremaining: 5.57s\n",
      "184:\tlearn: 27695.9818843\ttotal: 1.26s\tremaining: 5.56s\n",
      "185:\tlearn: 27675.6405479\ttotal: 1.27s\tremaining: 5.56s\n",
      "186:\tlearn: 27654.6661340\ttotal: 1.28s\tremaining: 5.56s\n",
      "187:\tlearn: 27634.1752597\ttotal: 1.28s\tremaining: 5.55s\n",
      "188:\tlearn: 27614.5256990\ttotal: 1.29s\tremaining: 5.55s\n",
      "189:\tlearn: 27595.0409684\ttotal: 1.3s\tremaining: 5.54s\n",
      "190:\tlearn: 27574.5197953\ttotal: 1.3s\tremaining: 5.53s\n",
      "191:\tlearn: 27554.9630968\ttotal: 1.31s\tremaining: 5.52s\n",
      "192:\tlearn: 27535.6372548\ttotal: 1.32s\tremaining: 5.51s\n",
      "193:\tlearn: 27516.7312786\ttotal: 1.32s\tremaining: 5.5s\n",
      "194:\tlearn: 27499.0702744\ttotal: 1.33s\tremaining: 5.49s\n",
      "195:\tlearn: 27481.1874622\ttotal: 1.33s\tremaining: 5.48s\n",
      "196:\tlearn: 27463.2391920\ttotal: 1.34s\tremaining: 5.46s\n",
      "197:\tlearn: 27445.6879744\ttotal: 1.35s\tremaining: 5.45s\n",
      "198:\tlearn: 27428.8121055\ttotal: 1.35s\tremaining: 5.44s\n",
      "199:\tlearn: 27412.3617885\ttotal: 1.36s\tremaining: 5.43s\n",
      "200:\tlearn: 27396.2960171\ttotal: 1.36s\tremaining: 5.42s\n",
      "201:\tlearn: 27381.1633504\ttotal: 1.37s\tremaining: 5.41s\n",
      "202:\tlearn: 27366.2149200\ttotal: 1.38s\tremaining: 5.4s\n",
      "203:\tlearn: 27350.8305489\ttotal: 1.38s\tremaining: 5.39s\n",
      "204:\tlearn: 27336.2067703\ttotal: 1.39s\tremaining: 5.38s\n",
      "205:\tlearn: 27321.9559881\ttotal: 1.39s\tremaining: 5.38s\n",
      "206:\tlearn: 27308.0584306\ttotal: 1.4s\tremaining: 5.37s\n",
      "207:\tlearn: 27293.4595336\ttotal: 1.41s\tremaining: 5.37s\n",
      "208:\tlearn: 27279.2196129\ttotal: 1.42s\tremaining: 5.36s\n",
      "209:\tlearn: 27265.6116977\ttotal: 1.42s\tremaining: 5.35s\n",
      "210:\tlearn: 27252.5480644\ttotal: 1.43s\tremaining: 5.35s\n",
      "211:\tlearn: 27239.6554522\ttotal: 1.44s\tremaining: 5.34s\n",
      "212:\tlearn: 27226.5772762\ttotal: 1.44s\tremaining: 5.33s\n",
      "213:\tlearn: 27214.3051418\ttotal: 1.45s\tremaining: 5.32s\n",
      "214:\tlearn: 27201.3681816\ttotal: 1.45s\tremaining: 5.31s\n",
      "215:\tlearn: 27188.6907458\ttotal: 1.46s\tremaining: 5.3s\n",
      "216:\tlearn: 27176.0051366\ttotal: 1.47s\tremaining: 5.29s\n",
      "217:\tlearn: 27164.3727750\ttotal: 1.47s\tremaining: 5.28s\n",
      "218:\tlearn: 27152.9278838\ttotal: 1.48s\tremaining: 5.28s\n",
      "219:\tlearn: 27141.6114047\ttotal: 1.49s\tremaining: 5.27s\n",
      "220:\tlearn: 27130.2135962\ttotal: 1.49s\tremaining: 5.26s\n",
      "221:\tlearn: 27119.4487031\ttotal: 1.5s\tremaining: 5.25s\n",
      "222:\tlearn: 27108.6181275\ttotal: 1.5s\tremaining: 5.25s\n",
      "223:\tlearn: 27099.1909547\ttotal: 1.51s\tremaining: 5.24s\n",
      "224:\tlearn: 27088.9808338\ttotal: 1.52s\tremaining: 5.23s\n",
      "225:\tlearn: 27079.1550693\ttotal: 1.52s\tremaining: 5.22s\n",
      "226:\tlearn: 27069.6876180\ttotal: 1.53s\tremaining: 5.21s\n",
      "227:\tlearn: 27059.9840990\ttotal: 1.53s\tremaining: 5.2s\n",
      "228:\tlearn: 27051.1449973\ttotal: 1.54s\tremaining: 5.19s\n",
      "229:\tlearn: 27041.3849271\ttotal: 1.55s\tremaining: 5.18s\n",
      "230:\tlearn: 27032.5455331\ttotal: 1.55s\tremaining: 5.17s\n",
      "231:\tlearn: 27023.5231268\ttotal: 1.56s\tremaining: 5.16s\n",
      "232:\tlearn: 27014.4757646\ttotal: 1.57s\tremaining: 5.16s\n",
      "233:\tlearn: 27005.8563282\ttotal: 1.57s\tremaining: 5.15s\n",
      "234:\tlearn: 26996.3870057\ttotal: 1.58s\tremaining: 5.15s\n",
      "235:\tlearn: 26987.7276257\ttotal: 1.59s\tremaining: 5.14s\n",
      "236:\tlearn: 26978.5205156\ttotal: 1.59s\tremaining: 5.14s\n",
      "237:\tlearn: 26970.0688685\ttotal: 1.6s\tremaining: 5.13s\n",
      "238:\tlearn: 26961.6332658\ttotal: 1.61s\tremaining: 5.12s\n",
      "239:\tlearn: 26954.2305129\ttotal: 1.61s\tremaining: 5.11s\n",
      "240:\tlearn: 26947.0604720\ttotal: 1.62s\tremaining: 5.1s\n",
      "241:\tlearn: 26939.1589700\ttotal: 1.63s\tremaining: 5.09s\n",
      "242:\tlearn: 26931.2736117\ttotal: 1.63s\tremaining: 5.08s\n",
      "243:\tlearn: 26923.4422971\ttotal: 1.64s\tremaining: 5.07s\n",
      "244:\tlearn: 26916.5997688\ttotal: 1.64s\tremaining: 5.06s\n",
      "245:\tlearn: 26909.8303048\ttotal: 1.65s\tremaining: 5.05s\n",
      "246:\tlearn: 26901.9559489\ttotal: 1.66s\tremaining: 5.05s\n",
      "247:\tlearn: 26895.7353367\ttotal: 1.66s\tremaining: 5.04s\n",
      "248:\tlearn: 26888.7035006\ttotal: 1.67s\tremaining: 5.03s\n",
      "249:\tlearn: 26882.0669494\ttotal: 1.67s\tremaining: 5.02s\n",
      "250:\tlearn: 26875.0982414\ttotal: 1.68s\tremaining: 5.01s\n",
      "251:\tlearn: 26867.9079677\ttotal: 1.69s\tremaining: 5.01s\n",
      "252:\tlearn: 26861.5520992\ttotal: 1.69s\tremaining: 5s\n",
      "253:\tlearn: 26854.5194929\ttotal: 1.7s\tremaining: 5s\n",
      "254:\tlearn: 26848.3813752\ttotal: 1.71s\tremaining: 4.99s\n",
      "255:\tlearn: 26842.4865698\ttotal: 1.72s\tremaining: 4.99s\n",
      "256:\tlearn: 26836.1531375\ttotal: 1.72s\tremaining: 4.98s\n",
      "257:\tlearn: 26830.3542437\ttotal: 1.73s\tremaining: 4.97s\n",
      "258:\tlearn: 26822.1230531\ttotal: 1.74s\tremaining: 4.97s\n",
      "259:\tlearn: 26814.6132228\ttotal: 1.74s\tremaining: 4.96s\n",
      "260:\tlearn: 26807.5236895\ttotal: 1.75s\tremaining: 4.96s\n",
      "261:\tlearn: 26802.1581095\ttotal: 1.76s\tremaining: 4.95s\n",
      "262:\tlearn: 26794.7490499\ttotal: 1.76s\tremaining: 4.94s\n",
      "263:\tlearn: 26789.5772432\ttotal: 1.77s\tremaining: 4.93s\n",
      "264:\tlearn: 26783.0831237\ttotal: 1.77s\tremaining: 4.92s\n",
      "265:\tlearn: 26777.0246277\ttotal: 1.78s\tremaining: 4.92s\n",
      "266:\tlearn: 26772.3121759\ttotal: 1.79s\tremaining: 4.91s\n",
      "267:\tlearn: 26767.0270747\ttotal: 1.79s\tremaining: 4.9s\n",
      "268:\tlearn: 26761.4790608\ttotal: 1.8s\tremaining: 4.9s\n",
      "269:\tlearn: 26756.5230974\ttotal: 1.81s\tremaining: 4.89s\n",
      "270:\tlearn: 26752.0708674\ttotal: 1.82s\tremaining: 4.88s\n",
      "271:\tlearn: 26747.0255406\ttotal: 1.82s\tremaining: 4.88s\n",
      "272:\tlearn: 26742.1212395\ttotal: 1.83s\tremaining: 4.88s\n",
      "273:\tlearn: 26736.5632234\ttotal: 1.84s\tremaining: 4.88s\n",
      "274:\tlearn: 26732.2594470\ttotal: 1.85s\tremaining: 4.87s\n",
      "275:\tlearn: 26727.6309445\ttotal: 1.86s\tremaining: 4.87s\n",
      "276:\tlearn: 26722.5939973\ttotal: 1.87s\tremaining: 4.87s\n",
      "277:\tlearn: 26717.0693845\ttotal: 1.88s\tremaining: 4.87s\n",
      "278:\tlearn: 26711.9697411\ttotal: 1.89s\tremaining: 4.88s\n",
      "279:\tlearn: 26707.4910938\ttotal: 1.9s\tremaining: 4.87s\n",
      "280:\tlearn: 26702.1190592\ttotal: 1.91s\tremaining: 4.88s\n",
      "281:\tlearn: 26697.5572287\ttotal: 1.92s\tremaining: 4.88s\n",
      "282:\tlearn: 26692.6490625\ttotal: 1.93s\tremaining: 4.88s\n",
      "283:\tlearn: 26688.5240937\ttotal: 1.94s\tremaining: 4.88s\n",
      "284:\tlearn: 26684.3293678\ttotal: 1.95s\tremaining: 4.88s\n",
      "285:\tlearn: 26679.1936056\ttotal: 1.96s\tremaining: 4.88s\n",
      "286:\tlearn: 26674.4974437\ttotal: 1.97s\tremaining: 4.88s\n",
      "287:\tlearn: 26671.0388280\ttotal: 1.97s\tremaining: 4.88s\n",
      "288:\tlearn: 26667.0511642\ttotal: 1.98s\tremaining: 4.88s\n",
      "289:\tlearn: 26663.1812368\ttotal: 1.99s\tremaining: 4.88s\n",
      "290:\tlearn: 26659.4854654\ttotal: 2s\tremaining: 4.88s\n",
      "291:\tlearn: 26654.5964730\ttotal: 2.01s\tremaining: 4.87s\n",
      "292:\tlearn: 26650.0590748\ttotal: 2.02s\tremaining: 4.88s\n",
      "293:\tlearn: 26645.2012847\ttotal: 2.03s\tremaining: 4.87s\n",
      "294:\tlearn: 26640.8555631\ttotal: 2.04s\tremaining: 4.87s\n",
      "295:\tlearn: 26637.1800922\ttotal: 2.05s\tremaining: 4.87s\n",
      "296:\tlearn: 26633.3630098\ttotal: 2.05s\tremaining: 4.86s\n",
      "297:\tlearn: 26629.2556397\ttotal: 2.06s\tremaining: 4.85s\n",
      "298:\tlearn: 26625.1425087\ttotal: 2.07s\tremaining: 4.84s\n",
      "299:\tlearn: 26621.1705169\ttotal: 2.07s\tremaining: 4.83s\n"
     ]
    },
    {
     "name": "stdout",
     "output_type": "stream",
     "text": [
      "300:\tlearn: 26616.9244529\ttotal: 2.08s\tremaining: 4.83s\n",
      "301:\tlearn: 26612.5571001\ttotal: 2.08s\tremaining: 4.82s\n",
      "302:\tlearn: 26608.6136785\ttotal: 2.09s\tremaining: 4.81s\n",
      "303:\tlearn: 26604.5027030\ttotal: 2.1s\tremaining: 4.81s\n",
      "304:\tlearn: 26601.2121292\ttotal: 2.11s\tremaining: 4.8s\n",
      "305:\tlearn: 26597.8376109\ttotal: 2.11s\tremaining: 4.79s\n",
      "306:\tlearn: 26594.1248582\ttotal: 2.12s\tremaining: 4.79s\n",
      "307:\tlearn: 26590.5776617\ttotal: 2.13s\tremaining: 4.78s\n",
      "308:\tlearn: 26587.1477370\ttotal: 2.13s\tremaining: 4.77s\n",
      "309:\tlearn: 26584.1383514\ttotal: 2.14s\tremaining: 4.76s\n",
      "310:\tlearn: 26580.9120061\ttotal: 2.15s\tremaining: 4.75s\n",
      "311:\tlearn: 26577.3030163\ttotal: 2.15s\tremaining: 4.74s\n",
      "312:\tlearn: 26574.3832095\ttotal: 2.16s\tremaining: 4.74s\n",
      "313:\tlearn: 26570.4330746\ttotal: 2.16s\tremaining: 4.73s\n",
      "314:\tlearn: 26567.5054548\ttotal: 2.17s\tremaining: 4.72s\n",
      "315:\tlearn: 26565.7983272\ttotal: 2.17s\tremaining: 4.7s\n",
      "316:\tlearn: 26562.5414492\ttotal: 2.18s\tremaining: 4.69s\n",
      "317:\tlearn: 26560.0369773\ttotal: 2.19s\tremaining: 4.69s\n",
      "318:\tlearn: 26556.7739413\ttotal: 2.19s\tremaining: 4.68s\n",
      "319:\tlearn: 26552.2769280\ttotal: 2.2s\tremaining: 4.67s\n",
      "320:\tlearn: 26548.5566906\ttotal: 2.2s\tremaining: 4.66s\n",
      "321:\tlearn: 26545.4658984\ttotal: 2.21s\tremaining: 4.65s\n",
      "322:\tlearn: 26542.7757466\ttotal: 2.21s\tremaining: 4.64s\n",
      "323:\tlearn: 26540.1349356\ttotal: 2.22s\tremaining: 4.63s\n",
      "324:\tlearn: 26537.3036596\ttotal: 2.23s\tremaining: 4.62s\n",
      "325:\tlearn: 26534.1346155\ttotal: 2.23s\tremaining: 4.62s\n",
      "326:\tlearn: 26530.2029050\ttotal: 2.24s\tremaining: 4.61s\n",
      "327:\tlearn: 26526.5593209\ttotal: 2.24s\tremaining: 4.6s\n",
      "328:\tlearn: 26523.9626060\ttotal: 2.25s\tremaining: 4.59s\n",
      "329:\tlearn: 26520.4484192\ttotal: 2.25s\tremaining: 4.58s\n",
      "330:\tlearn: 26516.3435273\ttotal: 2.26s\tremaining: 4.57s\n",
      "331:\tlearn: 26512.0156671\ttotal: 2.27s\tremaining: 4.56s\n",
      "332:\tlearn: 26507.4035217\ttotal: 2.27s\tremaining: 4.55s\n",
      "333:\tlearn: 26504.0303251\ttotal: 2.28s\tremaining: 4.55s\n",
      "334:\tlearn: 26501.1947586\ttotal: 2.29s\tremaining: 4.54s\n",
      "335:\tlearn: 26498.5458741\ttotal: 2.3s\tremaining: 4.54s\n",
      "336:\tlearn: 26495.4677864\ttotal: 2.3s\tremaining: 4.53s\n",
      "337:\tlearn: 26491.8050526\ttotal: 2.31s\tremaining: 4.53s\n",
      "338:\tlearn: 26488.6670535\ttotal: 2.32s\tremaining: 4.52s\n",
      "339:\tlearn: 26485.3516558\ttotal: 2.33s\tremaining: 4.52s\n",
      "340:\tlearn: 26482.8430631\ttotal: 2.34s\tremaining: 4.51s\n",
      "341:\tlearn: 26479.6315439\ttotal: 2.35s\tremaining: 4.51s\n",
      "342:\tlearn: 26476.2178626\ttotal: 2.36s\tremaining: 4.52s\n",
      "343:\tlearn: 26473.7581560\ttotal: 2.37s\tremaining: 4.52s\n",
      "344:\tlearn: 26469.8953137\ttotal: 2.38s\tremaining: 4.52s\n",
      "345:\tlearn: 26467.3884055\ttotal: 2.39s\tremaining: 4.53s\n",
      "346:\tlearn: 26462.9691063\ttotal: 2.41s\tremaining: 4.54s\n",
      "347:\tlearn: 26460.6312361\ttotal: 2.42s\tremaining: 4.53s\n",
      "348:\tlearn: 26456.4451282\ttotal: 2.43s\tremaining: 4.53s\n",
      "349:\tlearn: 26454.3985391\ttotal: 2.44s\tremaining: 4.54s\n",
      "350:\tlearn: 26450.8714336\ttotal: 2.45s\tremaining: 4.53s\n",
      "351:\tlearn: 26448.5066483\ttotal: 2.46s\tremaining: 4.53s\n",
      "352:\tlearn: 26445.4473549\ttotal: 2.47s\tremaining: 4.53s\n",
      "353:\tlearn: 26442.2037488\ttotal: 2.48s\tremaining: 4.52s\n",
      "354:\tlearn: 26439.8119385\ttotal: 2.49s\tremaining: 4.52s\n",
      "355:\tlearn: 26437.5441195\ttotal: 2.5s\tremaining: 4.51s\n",
      "356:\tlearn: 26432.7141348\ttotal: 2.5s\tremaining: 4.51s\n",
      "357:\tlearn: 26430.2321913\ttotal: 2.52s\tremaining: 4.51s\n",
      "358:\tlearn: 26428.3796693\ttotal: 2.52s\tremaining: 4.51s\n",
      "359:\tlearn: 26425.8250132\ttotal: 2.53s\tremaining: 4.5s\n",
      "360:\tlearn: 26423.4035109\ttotal: 2.54s\tremaining: 4.5s\n",
      "361:\tlearn: 26421.4130331\ttotal: 2.55s\tremaining: 4.5s\n",
      "362:\tlearn: 26419.0109956\ttotal: 2.56s\tremaining: 4.49s\n",
      "363:\tlearn: 26415.8649446\ttotal: 2.57s\tremaining: 4.49s\n",
      "364:\tlearn: 26413.8032560\ttotal: 2.58s\tremaining: 4.5s\n",
      "365:\tlearn: 26410.5182393\ttotal: 2.59s\tremaining: 4.49s\n",
      "366:\tlearn: 26408.1395837\ttotal: 2.6s\tremaining: 4.49s\n",
      "367:\tlearn: 26405.3918189\ttotal: 2.61s\tremaining: 4.48s\n",
      "368:\tlearn: 26402.8632551\ttotal: 2.62s\tremaining: 4.47s\n",
      "369:\tlearn: 26399.2610346\ttotal: 2.62s\tremaining: 4.46s\n",
      "370:\tlearn: 26396.1941182\ttotal: 2.63s\tremaining: 4.46s\n",
      "371:\tlearn: 26393.3750117\ttotal: 2.63s\tremaining: 4.45s\n",
      "372:\tlearn: 26391.6242787\ttotal: 2.64s\tremaining: 4.44s\n",
      "373:\tlearn: 26388.5806751\ttotal: 2.65s\tremaining: 4.43s\n",
      "374:\tlearn: 26386.4300721\ttotal: 2.66s\tremaining: 4.43s\n",
      "375:\tlearn: 26385.0634747\ttotal: 2.66s\tremaining: 4.42s\n",
      "376:\tlearn: 26381.9252995\ttotal: 2.67s\tremaining: 4.42s\n",
      "377:\tlearn: 26380.0526972\ttotal: 2.68s\tremaining: 4.41s\n",
      "378:\tlearn: 26376.5917709\ttotal: 2.69s\tremaining: 4.41s\n",
      "379:\tlearn: 26374.0421450\ttotal: 2.7s\tremaining: 4.41s\n",
      "380:\tlearn: 26372.0453156\ttotal: 2.71s\tremaining: 4.4s\n",
      "381:\tlearn: 26369.7605670\ttotal: 2.72s\tremaining: 4.39s\n",
      "382:\tlearn: 26368.2660163\ttotal: 2.73s\tremaining: 4.39s\n",
      "383:\tlearn: 26365.3169635\ttotal: 2.74s\tremaining: 4.39s\n",
      "384:\tlearn: 26360.4380627\ttotal: 2.75s\tremaining: 4.39s\n",
      "385:\tlearn: 26358.9214590\ttotal: 2.75s\tremaining: 4.38s\n",
      "386:\tlearn: 26356.4668675\ttotal: 2.77s\tremaining: 4.38s\n",
      "387:\tlearn: 26353.9509855\ttotal: 2.78s\tremaining: 4.38s\n",
      "388:\tlearn: 26352.2221112\ttotal: 2.79s\tremaining: 4.38s\n",
      "389:\tlearn: 26349.7266969\ttotal: 2.79s\tremaining: 4.37s\n",
      "390:\tlearn: 26346.4766697\ttotal: 2.81s\tremaining: 4.37s\n",
      "391:\tlearn: 26343.7344652\ttotal: 2.82s\tremaining: 4.37s\n",
      "392:\tlearn: 26341.3720189\ttotal: 2.83s\tremaining: 4.37s\n",
      "393:\tlearn: 26337.8489783\ttotal: 2.84s\tremaining: 4.36s\n",
      "394:\tlearn: 26336.0369769\ttotal: 2.85s\tremaining: 4.36s\n",
      "395:\tlearn: 26334.5594031\ttotal: 2.85s\tremaining: 4.36s\n",
      "396:\tlearn: 26332.7027946\ttotal: 2.87s\tremaining: 4.35s\n",
      "397:\tlearn: 26329.4435997\ttotal: 2.87s\tremaining: 4.35s\n",
      "398:\tlearn: 26326.3387983\ttotal: 2.88s\tremaining: 4.34s\n",
      "399:\tlearn: 26323.3769076\ttotal: 2.89s\tremaining: 4.34s\n",
      "400:\tlearn: 26320.3302215\ttotal: 2.9s\tremaining: 4.34s\n",
      "401:\tlearn: 26317.4755997\ttotal: 2.91s\tremaining: 4.33s\n",
      "402:\tlearn: 26314.8987565\ttotal: 2.92s\tremaining: 4.33s\n",
      "403:\tlearn: 26312.0699316\ttotal: 2.93s\tremaining: 4.32s\n",
      "404:\tlearn: 26310.2450508\ttotal: 2.93s\tremaining: 4.31s\n",
      "405:\tlearn: 26308.2839540\ttotal: 2.94s\tremaining: 4.3s\n",
      "406:\tlearn: 26305.6762627\ttotal: 2.95s\tremaining: 4.29s\n",
      "407:\tlearn: 26303.5920781\ttotal: 2.95s\tremaining: 4.28s\n",
      "408:\tlearn: 26302.0363296\ttotal: 2.96s\tremaining: 4.28s\n",
      "409:\tlearn: 26299.1781834\ttotal: 2.96s\tremaining: 4.27s\n",
      "410:\tlearn: 26296.4144936\ttotal: 2.97s\tremaining: 4.26s\n",
      "411:\tlearn: 26294.5166611\ttotal: 2.98s\tremaining: 4.25s\n",
      "412:\tlearn: 26292.9542269\ttotal: 2.98s\tremaining: 4.24s\n",
      "413:\tlearn: 26291.8950137\ttotal: 2.99s\tremaining: 4.23s\n",
      "414:\tlearn: 26289.4489483\ttotal: 2.99s\tremaining: 4.22s\n",
      "415:\tlearn: 26287.2829687\ttotal: 3s\tremaining: 4.21s\n",
      "416:\tlearn: 26286.2439900\ttotal: 3s\tremaining: 4.2s\n",
      "417:\tlearn: 26283.5992174\ttotal: 3.01s\tremaining: 4.19s\n",
      "418:\tlearn: 26281.7518463\ttotal: 3.02s\tremaining: 4.18s\n",
      "419:\tlearn: 26279.9716038\ttotal: 3.02s\tremaining: 4.17s\n",
      "420:\tlearn: 26277.8935530\ttotal: 3.03s\tremaining: 4.17s\n",
      "421:\tlearn: 26276.6777214\ttotal: 3.04s\tremaining: 4.16s\n",
      "422:\tlearn: 26275.2050573\ttotal: 3.04s\tremaining: 4.15s\n",
      "423:\tlearn: 26272.8935911\ttotal: 3.05s\tremaining: 4.14s\n",
      "424:\tlearn: 26269.8295764\ttotal: 3.05s\tremaining: 4.13s\n",
      "425:\tlearn: 26267.7169024\ttotal: 3.06s\tremaining: 4.12s\n",
      "426:\tlearn: 26265.1365044\ttotal: 3.06s\tremaining: 4.11s\n",
      "427:\tlearn: 26263.1782563\ttotal: 3.07s\tremaining: 4.1s\n",
      "428:\tlearn: 26261.0656159\ttotal: 3.08s\tremaining: 4.09s\n",
      "429:\tlearn: 26259.2524516\ttotal: 3.08s\tremaining: 4.09s\n",
      "430:\tlearn: 26257.9586792\ttotal: 3.09s\tremaining: 4.08s\n",
      "431:\tlearn: 26256.2245587\ttotal: 3.1s\tremaining: 4.07s\n",
      "432:\tlearn: 26254.2267030\ttotal: 3.1s\tremaining: 4.06s\n",
      "433:\tlearn: 26250.8553665\ttotal: 3.11s\tremaining: 4.06s\n",
      "434:\tlearn: 26249.3220722\ttotal: 3.12s\tremaining: 4.05s\n",
      "435:\tlearn: 26247.4212203\ttotal: 3.12s\tremaining: 4.04s\n",
      "436:\tlearn: 26245.5220722\ttotal: 3.13s\tremaining: 4.03s\n",
      "437:\tlearn: 26244.2388557\ttotal: 3.14s\tremaining: 4.03s\n",
      "438:\tlearn: 26241.0234920\ttotal: 3.15s\tremaining: 4.02s\n",
      "439:\tlearn: 26237.6857123\ttotal: 3.15s\tremaining: 4.01s\n",
      "440:\tlearn: 26235.7189657\ttotal: 3.16s\tremaining: 4s\n",
      "441:\tlearn: 26234.8129415\ttotal: 3.16s\tremaining: 3.99s\n",
      "442:\tlearn: 26232.1941909\ttotal: 3.17s\tremaining: 3.99s\n",
      "443:\tlearn: 26229.7031791\ttotal: 3.18s\tremaining: 3.98s\n",
      "444:\tlearn: 26227.3327082\ttotal: 3.19s\tremaining: 3.98s\n",
      "445:\tlearn: 26224.1483807\ttotal: 3.2s\tremaining: 3.97s\n",
      "446:\tlearn: 26222.3288082\ttotal: 3.21s\tremaining: 3.97s\n",
      "447:\tlearn: 26220.2083958\ttotal: 3.22s\tremaining: 3.96s\n",
      "448:\tlearn: 26217.6535820\ttotal: 3.23s\tremaining: 3.96s\n",
      "449:\tlearn: 26215.3389580\ttotal: 3.24s\tremaining: 3.96s\n",
      "450:\tlearn: 26211.8768585\ttotal: 3.25s\tremaining: 3.95s\n",
      "451:\tlearn: 26210.0570178\ttotal: 3.25s\tremaining: 3.94s\n",
      "452:\tlearn: 26208.3327308\ttotal: 3.26s\tremaining: 3.94s\n",
      "453:\tlearn: 26205.9572992\ttotal: 3.27s\tremaining: 3.94s\n",
      "454:\tlearn: 26204.6308825\ttotal: 3.29s\tremaining: 3.94s\n"
     ]
    },
    {
     "name": "stdout",
     "output_type": "stream",
     "text": [
      "455:\tlearn: 26200.7065094\ttotal: 3.3s\tremaining: 3.93s\n",
      "456:\tlearn: 26199.1121062\ttotal: 3.31s\tremaining: 3.93s\n",
      "457:\tlearn: 26196.9028800\ttotal: 3.32s\tremaining: 3.93s\n",
      "458:\tlearn: 26195.3628349\ttotal: 3.33s\tremaining: 3.92s\n",
      "459:\tlearn: 26192.6272024\ttotal: 3.34s\tremaining: 3.92s\n",
      "460:\tlearn: 26190.7080238\ttotal: 3.35s\tremaining: 3.92s\n",
      "461:\tlearn: 26189.2199418\ttotal: 3.36s\tremaining: 3.92s\n",
      "462:\tlearn: 26187.9086018\ttotal: 3.37s\tremaining: 3.91s\n",
      "463:\tlearn: 26184.9357446\ttotal: 3.38s\tremaining: 3.9s\n",
      "464:\tlearn: 26182.6656012\ttotal: 3.39s\tremaining: 3.9s\n",
      "465:\tlearn: 26181.1251123\ttotal: 3.4s\tremaining: 3.89s\n",
      "466:\tlearn: 26177.8289875\ttotal: 3.4s\tremaining: 3.88s\n",
      "467:\tlearn: 26176.3285719\ttotal: 3.41s\tremaining: 3.88s\n",
      "468:\tlearn: 26174.0068744\ttotal: 3.42s\tremaining: 3.87s\n",
      "469:\tlearn: 26172.5716368\ttotal: 3.42s\tremaining: 3.86s\n",
      "470:\tlearn: 26170.1637275\ttotal: 3.43s\tremaining: 3.85s\n",
      "471:\tlearn: 26167.0390066\ttotal: 3.44s\tremaining: 3.84s\n",
      "472:\tlearn: 26165.0316712\ttotal: 3.44s\tremaining: 3.83s\n",
      "473:\tlearn: 26163.3762768\ttotal: 3.45s\tremaining: 3.83s\n",
      "474:\tlearn: 26161.5784371\ttotal: 3.46s\tremaining: 3.82s\n",
      "475:\tlearn: 26159.9246629\ttotal: 3.46s\tremaining: 3.81s\n",
      "476:\tlearn: 26157.9348313\ttotal: 3.47s\tremaining: 3.81s\n",
      "477:\tlearn: 26156.7154709\ttotal: 3.48s\tremaining: 3.8s\n",
      "478:\tlearn: 26155.6002507\ttotal: 3.49s\tremaining: 3.8s\n",
      "479:\tlearn: 26154.0483582\ttotal: 3.5s\tremaining: 3.79s\n",
      "480:\tlearn: 26152.7089036\ttotal: 3.51s\tremaining: 3.78s\n",
      "481:\tlearn: 26151.5831283\ttotal: 3.52s\tremaining: 3.78s\n",
      "482:\tlearn: 26147.2938868\ttotal: 3.52s\tremaining: 3.77s\n",
      "483:\tlearn: 26145.1428500\ttotal: 3.53s\tremaining: 3.77s\n",
      "484:\tlearn: 26143.7707946\ttotal: 3.54s\tremaining: 3.76s\n",
      "485:\tlearn: 26141.6773455\ttotal: 3.55s\tremaining: 3.75s\n",
      "486:\tlearn: 26139.5616436\ttotal: 3.55s\tremaining: 3.74s\n",
      "487:\tlearn: 26138.0898925\ttotal: 3.56s\tremaining: 3.74s\n",
      "488:\tlearn: 26136.4122304\ttotal: 3.57s\tremaining: 3.73s\n",
      "489:\tlearn: 26134.4232317\ttotal: 3.57s\tremaining: 3.72s\n",
      "490:\tlearn: 26132.7334035\ttotal: 3.58s\tremaining: 3.71s\n",
      "491:\tlearn: 26130.4939161\ttotal: 3.58s\tremaining: 3.7s\n",
      "492:\tlearn: 26129.0138550\ttotal: 3.59s\tremaining: 3.69s\n",
      "493:\tlearn: 26126.8475800\ttotal: 3.6s\tremaining: 3.68s\n",
      "494:\tlearn: 26124.8505229\ttotal: 3.6s\tremaining: 3.68s\n",
      "495:\tlearn: 26123.1448071\ttotal: 3.61s\tremaining: 3.67s\n",
      "496:\tlearn: 26121.1872445\ttotal: 3.62s\tremaining: 3.66s\n",
      "497:\tlearn: 26119.4459281\ttotal: 3.62s\tremaining: 3.65s\n",
      "498:\tlearn: 26116.2451060\ttotal: 3.63s\tremaining: 3.64s\n",
      "499:\tlearn: 26114.9579015\ttotal: 3.63s\tremaining: 3.63s\n",
      "500:\tlearn: 26113.6959272\ttotal: 3.64s\tremaining: 3.62s\n",
      "501:\tlearn: 26112.4563939\ttotal: 3.64s\tremaining: 3.62s\n",
      "502:\tlearn: 26110.5457913\ttotal: 3.65s\tremaining: 3.61s\n",
      "503:\tlearn: 26109.3045333\ttotal: 3.66s\tremaining: 3.6s\n",
      "504:\tlearn: 26106.4573467\ttotal: 3.66s\tremaining: 3.59s\n",
      "505:\tlearn: 26105.2553457\ttotal: 3.67s\tremaining: 3.58s\n",
      "506:\tlearn: 26103.2397107\ttotal: 3.67s\tremaining: 3.57s\n",
      "507:\tlearn: 26101.8123394\ttotal: 3.68s\tremaining: 3.56s\n",
      "508:\tlearn: 26100.9070529\ttotal: 3.69s\tremaining: 3.56s\n",
      "509:\tlearn: 26100.7867248\ttotal: 3.69s\tremaining: 3.54s\n",
      "510:\tlearn: 26099.3611086\ttotal: 3.7s\tremaining: 3.54s\n",
      "511:\tlearn: 26096.6178731\ttotal: 3.7s\tremaining: 3.53s\n",
      "512:\tlearn: 26095.8688148\ttotal: 3.71s\tremaining: 3.52s\n",
      "513:\tlearn: 26093.6988399\ttotal: 3.72s\tremaining: 3.51s\n",
      "514:\tlearn: 26091.8604543\ttotal: 3.72s\tremaining: 3.51s\n",
      "515:\tlearn: 26090.7787466\ttotal: 3.73s\tremaining: 3.5s\n",
      "516:\tlearn: 26088.6645787\ttotal: 3.74s\tremaining: 3.49s\n",
      "517:\tlearn: 26085.7237401\ttotal: 3.74s\tremaining: 3.48s\n",
      "518:\tlearn: 26084.3511110\ttotal: 3.75s\tremaining: 3.47s\n",
      "519:\tlearn: 26082.5814319\ttotal: 3.75s\tremaining: 3.47s\n",
      "520:\tlearn: 26079.1054741\ttotal: 3.76s\tremaining: 3.46s\n",
      "521:\tlearn: 26075.8486258\ttotal: 3.77s\tremaining: 3.45s\n",
      "522:\tlearn: 26074.6004392\ttotal: 3.77s\tremaining: 3.44s\n",
      "523:\tlearn: 26073.0844649\ttotal: 3.78s\tremaining: 3.43s\n",
      "524:\tlearn: 26071.9740484\ttotal: 3.78s\tremaining: 3.42s\n",
      "525:\tlearn: 26070.3524790\ttotal: 3.79s\tremaining: 3.42s\n",
      "526:\tlearn: 26068.6670954\ttotal: 3.8s\tremaining: 3.41s\n",
      "527:\tlearn: 26067.5687463\ttotal: 3.8s\tremaining: 3.4s\n",
      "528:\tlearn: 26063.6579010\ttotal: 3.81s\tremaining: 3.39s\n",
      "529:\tlearn: 26061.9248320\ttotal: 3.82s\tremaining: 3.38s\n",
      "530:\tlearn: 26060.2045969\ttotal: 3.82s\tremaining: 3.38s\n",
      "531:\tlearn: 26058.5641746\ttotal: 3.83s\tremaining: 3.37s\n",
      "532:\tlearn: 26056.5104054\ttotal: 3.84s\tremaining: 3.36s\n",
      "533:\tlearn: 26054.5211550\ttotal: 3.85s\tremaining: 3.35s\n",
      "534:\tlearn: 26052.5748488\ttotal: 3.85s\tremaining: 3.35s\n",
      "535:\tlearn: 26049.3486200\ttotal: 3.86s\tremaining: 3.34s\n",
      "536:\tlearn: 26047.4848100\ttotal: 3.86s\tremaining: 3.33s\n",
      "537:\tlearn: 26045.2142983\ttotal: 3.87s\tremaining: 3.32s\n",
      "538:\tlearn: 26043.3150982\ttotal: 3.88s\tremaining: 3.31s\n",
      "539:\tlearn: 26041.9610340\ttotal: 3.88s\tremaining: 3.31s\n",
      "540:\tlearn: 26040.9734102\ttotal: 3.89s\tremaining: 3.3s\n",
      "541:\tlearn: 26038.9786349\ttotal: 3.9s\tremaining: 3.29s\n",
      "542:\tlearn: 26036.6940680\ttotal: 3.91s\tremaining: 3.29s\n",
      "543:\tlearn: 26034.2069339\ttotal: 3.91s\tremaining: 3.28s\n",
      "544:\tlearn: 26031.6724944\ttotal: 3.92s\tremaining: 3.27s\n",
      "545:\tlearn: 26029.1559807\ttotal: 3.93s\tremaining: 3.27s\n",
      "546:\tlearn: 26027.9917209\ttotal: 3.94s\tremaining: 3.26s\n",
      "547:\tlearn: 26027.4563142\ttotal: 3.94s\tremaining: 3.25s\n",
      "548:\tlearn: 26024.9315120\ttotal: 3.95s\tremaining: 3.24s\n",
      "549:\tlearn: 26023.2447334\ttotal: 3.95s\tremaining: 3.23s\n",
      "550:\tlearn: 26021.9072824\ttotal: 3.96s\tremaining: 3.23s\n",
      "551:\tlearn: 26018.5956637\ttotal: 3.97s\tremaining: 3.22s\n",
      "552:\tlearn: 26015.2304368\ttotal: 3.97s\tremaining: 3.21s\n",
      "553:\tlearn: 26012.6499977\ttotal: 3.98s\tremaining: 3.2s\n",
      "554:\tlearn: 26009.9881416\ttotal: 3.98s\tremaining: 3.19s\n",
      "555:\tlearn: 26009.1347444\ttotal: 3.99s\tremaining: 3.19s\n",
      "556:\tlearn: 26006.6188138\ttotal: 4s\tremaining: 3.18s\n",
      "557:\tlearn: 26005.2508084\ttotal: 4s\tremaining: 3.17s\n",
      "558:\tlearn: 26001.9076605\ttotal: 4.01s\tremaining: 3.16s\n",
      "559:\tlearn: 25997.8364856\ttotal: 4.02s\tremaining: 3.16s\n",
      "560:\tlearn: 25996.4843955\ttotal: 4.02s\tremaining: 3.15s\n",
      "561:\tlearn: 25994.4676117\ttotal: 4.03s\tremaining: 3.14s\n",
      "562:\tlearn: 25991.7789527\ttotal: 4.04s\tremaining: 3.13s\n",
      "563:\tlearn: 25990.2917048\ttotal: 4.04s\tremaining: 3.13s\n",
      "564:\tlearn: 25988.2940689\ttotal: 4.05s\tremaining: 3.12s\n",
      "565:\tlearn: 25986.3317500\ttotal: 4.05s\tremaining: 3.11s\n",
      "566:\tlearn: 25983.4001064\ttotal: 4.06s\tremaining: 3.1s\n",
      "567:\tlearn: 25981.6378071\ttotal: 4.07s\tremaining: 3.09s\n",
      "568:\tlearn: 25980.4066919\ttotal: 4.08s\tremaining: 3.09s\n",
      "569:\tlearn: 25979.1151935\ttotal: 4.08s\tremaining: 3.08s\n",
      "570:\tlearn: 25977.2770335\ttotal: 4.09s\tremaining: 3.07s\n",
      "571:\tlearn: 25974.2735372\ttotal: 4.09s\tremaining: 3.06s\n",
      "572:\tlearn: 25971.7766992\ttotal: 4.1s\tremaining: 3.06s\n",
      "573:\tlearn: 25969.2792476\ttotal: 4.11s\tremaining: 3.05s\n",
      "574:\tlearn: 25967.7188243\ttotal: 4.12s\tremaining: 3.04s\n",
      "575:\tlearn: 25967.0879287\ttotal: 4.13s\tremaining: 3.04s\n",
      "576:\tlearn: 25965.8932290\ttotal: 4.13s\tremaining: 3.03s\n",
      "577:\tlearn: 25962.6784955\ttotal: 4.14s\tremaining: 3.02s\n",
      "578:\tlearn: 25960.7044172\ttotal: 4.15s\tremaining: 3.02s\n",
      "579:\tlearn: 25958.6782032\ttotal: 4.16s\tremaining: 3.01s\n",
      "580:\tlearn: 25955.7226917\ttotal: 4.16s\tremaining: 3s\n",
      "581:\tlearn: 25953.7656100\ttotal: 4.17s\tremaining: 3s\n",
      "582:\tlearn: 25951.8381161\ttotal: 4.18s\tremaining: 2.99s\n",
      "583:\tlearn: 25950.3736645\ttotal: 4.19s\tremaining: 2.98s\n",
      "584:\tlearn: 25948.8441772\ttotal: 4.19s\tremaining: 2.97s\n",
      "585:\tlearn: 25946.7228666\ttotal: 4.2s\tremaining: 2.97s\n",
      "586:\tlearn: 25944.7049474\ttotal: 4.21s\tremaining: 2.96s\n",
      "587:\tlearn: 25943.7985817\ttotal: 4.21s\tremaining: 2.95s\n",
      "588:\tlearn: 25941.4998365\ttotal: 4.22s\tremaining: 2.95s\n",
      "589:\tlearn: 25939.2077144\ttotal: 4.23s\tremaining: 2.94s\n",
      "590:\tlearn: 25937.5028523\ttotal: 4.24s\tremaining: 2.93s\n",
      "591:\tlearn: 25935.5008655\ttotal: 4.24s\tremaining: 2.92s\n",
      "592:\tlearn: 25932.6066183\ttotal: 4.25s\tremaining: 2.92s\n",
      "593:\tlearn: 25930.2185817\ttotal: 4.26s\tremaining: 2.91s\n",
      "594:\tlearn: 25928.3601845\ttotal: 4.27s\tremaining: 2.9s\n",
      "595:\tlearn: 25926.4054704\ttotal: 4.27s\tremaining: 2.9s\n",
      "596:\tlearn: 25924.2875766\ttotal: 4.28s\tremaining: 2.89s\n",
      "597:\tlearn: 25922.1487614\ttotal: 4.29s\tremaining: 2.88s\n",
      "598:\tlearn: 25920.4699336\ttotal: 4.3s\tremaining: 2.88s\n",
      "599:\tlearn: 25917.0258434\ttotal: 4.3s\tremaining: 2.87s\n",
      "600:\tlearn: 25916.1682556\ttotal: 4.31s\tremaining: 2.86s\n",
      "601:\tlearn: 25915.4694025\ttotal: 4.32s\tremaining: 2.86s\n",
      "602:\tlearn: 25914.3571547\ttotal: 4.33s\tremaining: 2.85s\n",
      "603:\tlearn: 25912.4902435\ttotal: 4.34s\tremaining: 2.84s\n",
      "604:\tlearn: 25911.3025301\ttotal: 4.35s\tremaining: 2.84s\n",
      "605:\tlearn: 25909.6220242\ttotal: 4.36s\tremaining: 2.83s\n",
      "606:\tlearn: 25907.6026403\ttotal: 4.36s\tremaining: 2.83s\n",
      "607:\tlearn: 25903.8683978\ttotal: 4.37s\tremaining: 2.82s\n",
      "608:\tlearn: 25902.1655517\ttotal: 4.38s\tremaining: 2.81s\n",
      "609:\tlearn: 25900.5432683\ttotal: 4.39s\tremaining: 2.81s\n",
      "610:\tlearn: 25898.2744751\ttotal: 4.4s\tremaining: 2.8s\n",
      "611:\tlearn: 25896.9546874\ttotal: 4.41s\tremaining: 2.79s\n",
      "612:\tlearn: 25894.8357103\ttotal: 4.41s\tremaining: 2.79s\n",
      "613:\tlearn: 25892.8765618\ttotal: 4.42s\tremaining: 2.78s\n",
      "614:\tlearn: 25890.2826464\ttotal: 4.43s\tremaining: 2.77s\n",
      "615:\tlearn: 25885.4998292\ttotal: 4.44s\tremaining: 2.77s\n",
      "616:\tlearn: 25883.5179804\ttotal: 4.45s\tremaining: 2.76s\n",
      "617:\tlearn: 25882.4189167\ttotal: 4.45s\tremaining: 2.75s\n",
      "618:\tlearn: 25881.2050179\ttotal: 4.46s\tremaining: 2.75s\n",
      "619:\tlearn: 25878.8548282\ttotal: 4.47s\tremaining: 2.74s\n",
      "620:\tlearn: 25876.5603103\ttotal: 4.48s\tremaining: 2.73s\n",
      "621:\tlearn: 25873.7215849\ttotal: 4.49s\tremaining: 2.73s\n",
      "622:\tlearn: 25872.3342871\ttotal: 4.5s\tremaining: 2.72s\n"
     ]
    },
    {
     "name": "stdout",
     "output_type": "stream",
     "text": [
      "623:\tlearn: 25870.7570117\ttotal: 4.51s\tremaining: 2.71s\n",
      "624:\tlearn: 25868.9705597\ttotal: 4.52s\tremaining: 2.71s\n",
      "625:\tlearn: 25867.5847681\ttotal: 4.53s\tremaining: 2.7s\n",
      "626:\tlearn: 25866.1292977\ttotal: 4.54s\tremaining: 2.7s\n",
      "627:\tlearn: 25862.9749574\ttotal: 4.55s\tremaining: 2.69s\n",
      "628:\tlearn: 25860.8580290\ttotal: 4.56s\tremaining: 2.69s\n",
      "629:\tlearn: 25859.4112818\ttotal: 4.57s\tremaining: 2.68s\n",
      "630:\tlearn: 25856.1683888\ttotal: 4.58s\tremaining: 2.67s\n",
      "631:\tlearn: 25853.8951458\ttotal: 4.58s\tremaining: 2.67s\n",
      "632:\tlearn: 25851.0161243\ttotal: 4.59s\tremaining: 2.66s\n",
      "633:\tlearn: 25848.5958628\ttotal: 4.6s\tremaining: 2.66s\n",
      "634:\tlearn: 25846.8245279\ttotal: 4.61s\tremaining: 2.65s\n",
      "635:\tlearn: 25844.5937305\ttotal: 4.62s\tremaining: 2.64s\n",
      "636:\tlearn: 25842.2597560\ttotal: 4.63s\tremaining: 2.64s\n",
      "637:\tlearn: 25841.0324435\ttotal: 4.64s\tremaining: 2.63s\n",
      "638:\tlearn: 25838.7715233\ttotal: 4.65s\tremaining: 2.62s\n",
      "639:\tlearn: 25836.7645896\ttotal: 4.66s\tremaining: 2.62s\n",
      "640:\tlearn: 25835.8131580\ttotal: 4.66s\tremaining: 2.61s\n",
      "641:\tlearn: 25832.6131466\ttotal: 4.67s\tremaining: 2.61s\n",
      "642:\tlearn: 25829.4364132\ttotal: 4.68s\tremaining: 2.6s\n",
      "643:\tlearn: 25828.1122262\ttotal: 4.69s\tremaining: 2.59s\n",
      "644:\tlearn: 25826.1837790\ttotal: 4.7s\tremaining: 2.59s\n",
      "645:\tlearn: 25825.6152628\ttotal: 4.71s\tremaining: 2.58s\n",
      "646:\tlearn: 25823.7689006\ttotal: 4.72s\tremaining: 2.58s\n",
      "647:\tlearn: 25822.5947428\ttotal: 4.73s\tremaining: 2.57s\n",
      "648:\tlearn: 25820.6601350\ttotal: 4.74s\tremaining: 2.56s\n",
      "649:\tlearn: 25818.8568079\ttotal: 4.75s\tremaining: 2.56s\n",
      "650:\tlearn: 25816.8100697\ttotal: 4.76s\tremaining: 2.55s\n",
      "651:\tlearn: 25814.9749156\ttotal: 4.77s\tremaining: 2.55s\n",
      "652:\tlearn: 25813.3120391\ttotal: 4.78s\tremaining: 2.54s\n",
      "653:\tlearn: 25811.6705890\ttotal: 4.8s\tremaining: 2.54s\n",
      "654:\tlearn: 25810.5516740\ttotal: 4.81s\tremaining: 2.53s\n",
      "655:\tlearn: 25807.7197848\ttotal: 4.82s\tremaining: 2.53s\n",
      "656:\tlearn: 25805.9080495\ttotal: 4.83s\tremaining: 2.52s\n",
      "657:\tlearn: 25803.3389700\ttotal: 4.85s\tremaining: 2.52s\n",
      "658:\tlearn: 25802.3599822\ttotal: 4.86s\tremaining: 2.51s\n",
      "659:\tlearn: 25799.2993236\ttotal: 4.87s\tremaining: 2.51s\n",
      "660:\tlearn: 25797.5696617\ttotal: 4.88s\tremaining: 2.5s\n",
      "661:\tlearn: 25795.6455119\ttotal: 4.89s\tremaining: 2.5s\n",
      "662:\tlearn: 25794.3172066\ttotal: 4.9s\tremaining: 2.49s\n",
      "663:\tlearn: 25792.8785380\ttotal: 4.91s\tremaining: 2.48s\n",
      "664:\tlearn: 25791.2950687\ttotal: 4.92s\tremaining: 2.48s\n",
      "665:\tlearn: 25789.4713115\ttotal: 4.93s\tremaining: 2.47s\n",
      "666:\tlearn: 25786.5179018\ttotal: 4.94s\tremaining: 2.47s\n",
      "667:\tlearn: 25784.9415855\ttotal: 4.95s\tremaining: 2.46s\n",
      "668:\tlearn: 25783.7097215\ttotal: 4.96s\tremaining: 2.45s\n",
      "669:\tlearn: 25781.7658287\ttotal: 4.97s\tremaining: 2.45s\n",
      "670:\tlearn: 25778.2267372\ttotal: 4.98s\tremaining: 2.44s\n",
      "671:\tlearn: 25776.8949104\ttotal: 4.99s\tremaining: 2.43s\n",
      "672:\tlearn: 25774.5301116\ttotal: 5s\tremaining: 2.43s\n",
      "673:\tlearn: 25772.3695936\ttotal: 5s\tremaining: 2.42s\n",
      "674:\tlearn: 25770.1897208\ttotal: 5.02s\tremaining: 2.42s\n",
      "675:\tlearn: 25769.3223151\ttotal: 5.03s\tremaining: 2.41s\n",
      "676:\tlearn: 25768.3310535\ttotal: 5.04s\tremaining: 2.4s\n",
      "677:\tlearn: 25766.7331866\ttotal: 5.04s\tremaining: 2.4s\n",
      "678:\tlearn: 25765.7435825\ttotal: 5.05s\tremaining: 2.39s\n",
      "679:\tlearn: 25763.0636434\ttotal: 5.06s\tremaining: 2.38s\n",
      "680:\tlearn: 25760.5998166\ttotal: 5.07s\tremaining: 2.38s\n",
      "681:\tlearn: 25758.0380065\ttotal: 5.08s\tremaining: 2.37s\n",
      "682:\tlearn: 25757.0857012\ttotal: 5.09s\tremaining: 2.36s\n",
      "683:\tlearn: 25755.4138247\ttotal: 5.1s\tremaining: 2.35s\n",
      "684:\tlearn: 25754.4012660\ttotal: 5.11s\tremaining: 2.35s\n",
      "685:\tlearn: 25750.6047420\ttotal: 5.12s\tremaining: 2.34s\n",
      "686:\tlearn: 25748.3832519\ttotal: 5.13s\tremaining: 2.34s\n",
      "687:\tlearn: 25745.4162802\ttotal: 5.14s\tremaining: 2.33s\n",
      "688:\tlearn: 25743.0699362\ttotal: 5.15s\tremaining: 2.32s\n",
      "689:\tlearn: 25740.1048167\ttotal: 5.16s\tremaining: 2.32s\n",
      "690:\tlearn: 25739.1502202\ttotal: 5.17s\tremaining: 2.31s\n",
      "691:\tlearn: 25735.8139088\ttotal: 5.17s\tremaining: 2.3s\n",
      "692:\tlearn: 25734.0886481\ttotal: 5.18s\tremaining: 2.3s\n",
      "693:\tlearn: 25731.2192155\ttotal: 5.19s\tremaining: 2.29s\n",
      "694:\tlearn: 25730.4088219\ttotal: 5.2s\tremaining: 2.28s\n",
      "695:\tlearn: 25729.3131329\ttotal: 5.21s\tremaining: 2.27s\n",
      "696:\tlearn: 25725.2051741\ttotal: 5.22s\tremaining: 2.27s\n",
      "697:\tlearn: 25724.2585341\ttotal: 5.23s\tremaining: 2.26s\n",
      "698:\tlearn: 25723.0935676\ttotal: 5.24s\tremaining: 2.26s\n",
      "699:\tlearn: 25719.9351948\ttotal: 5.25s\tremaining: 2.25s\n",
      "700:\tlearn: 25717.9578582\ttotal: 5.26s\tremaining: 2.24s\n",
      "701:\tlearn: 25715.8822283\ttotal: 5.27s\tremaining: 2.24s\n",
      "702:\tlearn: 25714.8029089\ttotal: 5.28s\tremaining: 2.23s\n",
      "703:\tlearn: 25711.7585811\ttotal: 5.29s\tremaining: 2.23s\n",
      "704:\tlearn: 25710.1897101\ttotal: 5.31s\tremaining: 2.22s\n",
      "705:\tlearn: 25706.4037174\ttotal: 5.33s\tremaining: 2.22s\n",
      "706:\tlearn: 25704.5638108\ttotal: 5.34s\tremaining: 2.21s\n",
      "707:\tlearn: 25702.4803967\ttotal: 5.35s\tremaining: 2.21s\n",
      "708:\tlearn: 25700.1408354\ttotal: 5.37s\tremaining: 2.2s\n",
      "709:\tlearn: 25699.2494431\ttotal: 5.38s\tremaining: 2.2s\n",
      "710:\tlearn: 25695.9297698\ttotal: 5.4s\tremaining: 2.19s\n",
      "711:\tlearn: 25693.4223203\ttotal: 5.41s\tremaining: 2.19s\n",
      "712:\tlearn: 25691.4582802\ttotal: 5.43s\tremaining: 2.18s\n",
      "713:\tlearn: 25689.9285875\ttotal: 5.44s\tremaining: 2.18s\n",
      "714:\tlearn: 25687.0558332\ttotal: 5.46s\tremaining: 2.17s\n",
      "715:\tlearn: 25685.7334148\ttotal: 5.47s\tremaining: 2.17s\n",
      "716:\tlearn: 25683.4117879\ttotal: 5.49s\tremaining: 2.17s\n",
      "717:\tlearn: 25681.5835425\ttotal: 5.5s\tremaining: 2.16s\n",
      "718:\tlearn: 25678.9668303\ttotal: 5.51s\tremaining: 2.15s\n",
      "719:\tlearn: 25676.6620570\ttotal: 5.52s\tremaining: 2.15s\n",
      "720:\tlearn: 25674.6513096\ttotal: 5.54s\tremaining: 2.14s\n",
      "721:\tlearn: 25672.7824585\ttotal: 5.55s\tremaining: 2.14s\n",
      "722:\tlearn: 25671.6589150\ttotal: 5.57s\tremaining: 2.13s\n",
      "723:\tlearn: 25670.0157540\ttotal: 5.58s\tremaining: 2.13s\n",
      "724:\tlearn: 25666.7856991\ttotal: 5.6s\tremaining: 2.12s\n",
      "725:\tlearn: 25665.7136366\ttotal: 5.62s\tremaining: 2.12s\n",
      "726:\tlearn: 25663.1892135\ttotal: 5.63s\tremaining: 2.11s\n",
      "727:\tlearn: 25660.2451130\ttotal: 5.64s\tremaining: 2.11s\n",
      "728:\tlearn: 25657.7658257\ttotal: 5.66s\tremaining: 2.1s\n",
      "729:\tlearn: 25655.4055315\ttotal: 5.67s\tremaining: 2.1s\n",
      "730:\tlearn: 25652.9612336\ttotal: 5.68s\tremaining: 2.09s\n",
      "731:\tlearn: 25650.4524747\ttotal: 5.69s\tremaining: 2.08s\n",
      "732:\tlearn: 25648.9905481\ttotal: 5.71s\tremaining: 2.08s\n",
      "733:\tlearn: 25647.9837441\ttotal: 5.72s\tremaining: 2.07s\n",
      "734:\tlearn: 25646.2286066\ttotal: 5.74s\tremaining: 2.07s\n",
      "735:\tlearn: 25645.3116950\ttotal: 5.75s\tremaining: 2.06s\n",
      "736:\tlearn: 25641.7753799\ttotal: 5.76s\tremaining: 2.06s\n",
      "737:\tlearn: 25640.2941076\ttotal: 5.78s\tremaining: 2.05s\n",
      "738:\tlearn: 25638.7839002\ttotal: 5.79s\tremaining: 2.04s\n",
      "739:\tlearn: 25637.5727936\ttotal: 5.8s\tremaining: 2.04s\n",
      "740:\tlearn: 25636.7667466\ttotal: 5.82s\tremaining: 2.04s\n",
      "741:\tlearn: 25634.5196693\ttotal: 5.84s\tremaining: 2.03s\n",
      "742:\tlearn: 25631.0562972\ttotal: 5.85s\tremaining: 2.02s\n",
      "743:\tlearn: 25627.8798588\ttotal: 5.87s\tremaining: 2.02s\n",
      "744:\tlearn: 25625.6528267\ttotal: 5.89s\tremaining: 2.02s\n",
      "745:\tlearn: 25623.2502043\ttotal: 5.9s\tremaining: 2.01s\n",
      "746:\tlearn: 25621.5212945\ttotal: 5.92s\tremaining: 2s\n",
      "747:\tlearn: 25620.3327266\ttotal: 5.93s\tremaining: 2s\n",
      "748:\tlearn: 25618.8058528\ttotal: 5.95s\tremaining: 1.99s\n",
      "749:\tlearn: 25618.0033800\ttotal: 5.96s\tremaining: 1.99s\n",
      "750:\tlearn: 25615.5891039\ttotal: 5.98s\tremaining: 1.98s\n",
      "751:\tlearn: 25612.9047684\ttotal: 5.99s\tremaining: 1.98s\n",
      "752:\tlearn: 25609.9570065\ttotal: 6s\tremaining: 1.97s\n",
      "753:\tlearn: 25608.6766797\ttotal: 6.02s\tremaining: 1.96s\n",
      "754:\tlearn: 25608.0382275\ttotal: 6.03s\tremaining: 1.96s\n",
      "755:\tlearn: 25606.5304057\ttotal: 6.05s\tremaining: 1.95s\n",
      "756:\tlearn: 25603.5133674\ttotal: 6.06s\tremaining: 1.95s\n",
      "757:\tlearn: 25600.1909337\ttotal: 6.08s\tremaining: 1.94s\n",
      "758:\tlearn: 25598.5316274\ttotal: 6.1s\tremaining: 1.94s\n",
      "759:\tlearn: 25596.1192044\ttotal: 6.11s\tremaining: 1.93s\n",
      "760:\tlearn: 25594.6895006\ttotal: 6.13s\tremaining: 1.92s\n",
      "761:\tlearn: 25594.1049689\ttotal: 6.14s\tremaining: 1.92s\n",
      "762:\tlearn: 25592.2543628\ttotal: 6.16s\tremaining: 1.91s\n",
      "763:\tlearn: 25590.8335455\ttotal: 6.17s\tremaining: 1.91s\n",
      "764:\tlearn: 25589.5057359\ttotal: 6.19s\tremaining: 1.9s\n",
      "765:\tlearn: 25587.1291284\ttotal: 6.2s\tremaining: 1.89s\n",
      "766:\tlearn: 25584.8550949\ttotal: 6.21s\tremaining: 1.89s\n",
      "767:\tlearn: 25583.7423151\ttotal: 6.23s\tremaining: 1.88s\n",
      "768:\tlearn: 25580.9449606\ttotal: 6.24s\tremaining: 1.88s\n",
      "769:\tlearn: 25580.0833075\ttotal: 6.26s\tremaining: 1.87s\n",
      "770:\tlearn: 25577.9110915\ttotal: 6.27s\tremaining: 1.86s\n",
      "771:\tlearn: 25575.3238964\ttotal: 6.29s\tremaining: 1.86s\n",
      "772:\tlearn: 25572.9985298\ttotal: 6.3s\tremaining: 1.85s\n",
      "773:\tlearn: 25571.5244643\ttotal: 6.32s\tremaining: 1.84s\n",
      "774:\tlearn: 25569.3188893\ttotal: 6.33s\tremaining: 1.84s\n",
      "775:\tlearn: 25567.2958073\ttotal: 6.35s\tremaining: 1.83s\n",
      "776:\tlearn: 25565.3437767\ttotal: 6.36s\tremaining: 1.82s\n",
      "777:\tlearn: 25563.2883136\ttotal: 6.37s\tremaining: 1.82s\n"
     ]
    },
    {
     "name": "stdout",
     "output_type": "stream",
     "text": [
      "778:\tlearn: 25561.2125876\ttotal: 6.39s\tremaining: 1.81s\n",
      "779:\tlearn: 25558.9031692\ttotal: 6.4s\tremaining: 1.8s\n",
      "780:\tlearn: 25556.4004842\ttotal: 6.41s\tremaining: 1.8s\n",
      "781:\tlearn: 25552.8100327\ttotal: 6.42s\tremaining: 1.79s\n",
      "782:\tlearn: 25550.2769653\ttotal: 6.44s\tremaining: 1.78s\n",
      "783:\tlearn: 25548.1209076\ttotal: 6.45s\tremaining: 1.78s\n",
      "784:\tlearn: 25546.6648280\ttotal: 6.46s\tremaining: 1.77s\n",
      "785:\tlearn: 25545.1488838\ttotal: 6.47s\tremaining: 1.76s\n",
      "786:\tlearn: 25542.4931711\ttotal: 6.48s\tremaining: 1.75s\n",
      "787:\tlearn: 25540.7259322\ttotal: 6.5s\tremaining: 1.75s\n",
      "788:\tlearn: 25539.5962867\ttotal: 6.5s\tremaining: 1.74s\n",
      "789:\tlearn: 25538.3448623\ttotal: 6.51s\tremaining: 1.73s\n",
      "790:\tlearn: 25536.5986925\ttotal: 6.52s\tremaining: 1.72s\n",
      "791:\tlearn: 25534.8931676\ttotal: 6.54s\tremaining: 1.72s\n",
      "792:\tlearn: 25534.0812383\ttotal: 6.54s\tremaining: 1.71s\n",
      "793:\tlearn: 25531.5177648\ttotal: 6.55s\tremaining: 1.7s\n",
      "794:\tlearn: 25530.3157327\ttotal: 6.56s\tremaining: 1.69s\n",
      "795:\tlearn: 25528.4246034\ttotal: 6.57s\tremaining: 1.68s\n",
      "796:\tlearn: 25527.1829034\ttotal: 6.58s\tremaining: 1.68s\n",
      "797:\tlearn: 25525.2867280\ttotal: 6.59s\tremaining: 1.67s\n",
      "798:\tlearn: 25522.4679427\ttotal: 6.6s\tremaining: 1.66s\n",
      "799:\tlearn: 25521.0259068\ttotal: 6.61s\tremaining: 1.65s\n",
      "800:\tlearn: 25519.9207017\ttotal: 6.62s\tremaining: 1.65s\n",
      "801:\tlearn: 25518.8751195\ttotal: 6.63s\tremaining: 1.64s\n",
      "802:\tlearn: 25517.6917545\ttotal: 6.64s\tremaining: 1.63s\n",
      "803:\tlearn: 25516.4352246\ttotal: 6.65s\tremaining: 1.62s\n",
      "804:\tlearn: 25515.0929832\ttotal: 6.66s\tremaining: 1.61s\n",
      "805:\tlearn: 25512.9285371\ttotal: 6.67s\tremaining: 1.6s\n",
      "806:\tlearn: 25510.9407453\ttotal: 6.68s\tremaining: 1.6s\n",
      "807:\tlearn: 25509.8864718\ttotal: 6.69s\tremaining: 1.59s\n",
      "808:\tlearn: 25507.6846725\ttotal: 6.7s\tremaining: 1.58s\n",
      "809:\tlearn: 25505.3118419\ttotal: 6.71s\tremaining: 1.57s\n",
      "810:\tlearn: 25504.6153098\ttotal: 6.72s\tremaining: 1.56s\n",
      "811:\tlearn: 25503.0988596\ttotal: 6.73s\tremaining: 1.56s\n",
      "812:\tlearn: 25501.3582647\ttotal: 6.74s\tremaining: 1.55s\n",
      "813:\tlearn: 25499.4071945\ttotal: 6.75s\tremaining: 1.54s\n",
      "814:\tlearn: 25497.4527491\ttotal: 6.76s\tremaining: 1.53s\n",
      "815:\tlearn: 25494.8873846\ttotal: 6.77s\tremaining: 1.52s\n",
      "816:\tlearn: 25492.8800098\ttotal: 6.78s\tremaining: 1.52s\n",
      "817:\tlearn: 25489.3593640\ttotal: 6.79s\tremaining: 1.51s\n",
      "818:\tlearn: 25487.7902320\ttotal: 6.8s\tremaining: 1.5s\n",
      "819:\tlearn: 25485.0162340\ttotal: 6.81s\tremaining: 1.5s\n",
      "820:\tlearn: 25482.4764509\ttotal: 6.83s\tremaining: 1.49s\n",
      "821:\tlearn: 25480.6527665\ttotal: 6.84s\tremaining: 1.48s\n",
      "822:\tlearn: 25479.5467309\ttotal: 6.86s\tremaining: 1.47s\n",
      "823:\tlearn: 25478.2760932\ttotal: 6.87s\tremaining: 1.47s\n",
      "824:\tlearn: 25475.2851672\ttotal: 6.88s\tremaining: 1.46s\n",
      "825:\tlearn: 25474.5437358\ttotal: 6.9s\tremaining: 1.45s\n",
      "826:\tlearn: 25472.0375789\ttotal: 6.92s\tremaining: 1.45s\n",
      "827:\tlearn: 25469.1085563\ttotal: 6.93s\tremaining: 1.44s\n",
      "828:\tlearn: 25466.7923383\ttotal: 6.94s\tremaining: 1.43s\n",
      "829:\tlearn: 25464.1524827\ttotal: 6.96s\tremaining: 1.42s\n",
      "830:\tlearn: 25462.9331279\ttotal: 6.97s\tremaining: 1.42s\n",
      "831:\tlearn: 25461.5159168\ttotal: 6.98s\tremaining: 1.41s\n",
      "832:\tlearn: 25458.5909284\ttotal: 6.99s\tremaining: 1.4s\n",
      "833:\tlearn: 25456.9787942\ttotal: 7s\tremaining: 1.39s\n",
      "834:\tlearn: 25455.1992709\ttotal: 7.01s\tremaining: 1.39s\n",
      "835:\tlearn: 25452.6479034\ttotal: 7.02s\tremaining: 1.38s\n",
      "836:\tlearn: 25450.7376502\ttotal: 7.03s\tremaining: 1.37s\n",
      "837:\tlearn: 25447.6907207\ttotal: 7.05s\tremaining: 1.36s\n",
      "838:\tlearn: 25445.0177078\ttotal: 7.05s\tremaining: 1.35s\n",
      "839:\tlearn: 25443.4485685\ttotal: 7.07s\tremaining: 1.34s\n",
      "840:\tlearn: 25441.3845863\ttotal: 7.08s\tremaining: 1.34s\n",
      "841:\tlearn: 25438.5653157\ttotal: 7.08s\tremaining: 1.33s\n",
      "842:\tlearn: 25434.5858692\ttotal: 7.09s\tremaining: 1.32s\n",
      "843:\tlearn: 25432.9522474\ttotal: 7.1s\tremaining: 1.31s\n",
      "844:\tlearn: 25432.0586486\ttotal: 7.11s\tremaining: 1.3s\n",
      "845:\tlearn: 25430.8697322\ttotal: 7.12s\tremaining: 1.3s\n",
      "846:\tlearn: 25430.0487251\ttotal: 7.13s\tremaining: 1.29s\n",
      "847:\tlearn: 25428.6641908\ttotal: 7.14s\tremaining: 1.28s\n",
      "848:\tlearn: 25426.6312402\ttotal: 7.15s\tremaining: 1.27s\n",
      "849:\tlearn: 25425.5436662\ttotal: 7.16s\tremaining: 1.26s\n",
      "850:\tlearn: 25423.4734432\ttotal: 7.17s\tremaining: 1.25s\n",
      "851:\tlearn: 25422.1329745\ttotal: 7.18s\tremaining: 1.25s\n",
      "852:\tlearn: 25419.5490860\ttotal: 7.19s\tremaining: 1.24s\n",
      "853:\tlearn: 25417.9001839\ttotal: 7.2s\tremaining: 1.23s\n",
      "854:\tlearn: 25416.8345502\ttotal: 7.21s\tremaining: 1.22s\n",
      "855:\tlearn: 25412.5046164\ttotal: 7.23s\tremaining: 1.22s\n",
      "856:\tlearn: 25411.2533585\ttotal: 7.24s\tremaining: 1.21s\n",
      "857:\tlearn: 25408.0542771\ttotal: 7.25s\tremaining: 1.2s\n",
      "858:\tlearn: 25407.2908811\ttotal: 7.26s\tremaining: 1.19s\n",
      "859:\tlearn: 25404.9213591\ttotal: 7.27s\tremaining: 1.18s\n",
      "860:\tlearn: 25402.6139910\ttotal: 7.28s\tremaining: 1.18s\n",
      "861:\tlearn: 25400.3283763\ttotal: 7.29s\tremaining: 1.17s\n",
      "862:\tlearn: 25399.2434165\ttotal: 7.3s\tremaining: 1.16s\n",
      "863:\tlearn: 25397.5000097\ttotal: 7.31s\tremaining: 1.15s\n",
      "864:\tlearn: 25396.6198106\ttotal: 7.32s\tremaining: 1.14s\n",
      "865:\tlearn: 25394.4398567\ttotal: 7.33s\tremaining: 1.13s\n",
      "866:\tlearn: 25391.6597978\ttotal: 7.34s\tremaining: 1.13s\n",
      "867:\tlearn: 25388.3194791\ttotal: 7.34s\tremaining: 1.12s\n",
      "868:\tlearn: 25387.0637539\ttotal: 7.35s\tremaining: 1.11s\n",
      "869:\tlearn: 25384.4454551\ttotal: 7.36s\tremaining: 1.1s\n",
      "870:\tlearn: 25380.6438169\ttotal: 7.37s\tremaining: 1.09s\n",
      "871:\tlearn: 25379.3889661\ttotal: 7.38s\tremaining: 1.08s\n",
      "872:\tlearn: 25377.6903488\ttotal: 7.39s\tremaining: 1.07s\n",
      "873:\tlearn: 25376.0076861\ttotal: 7.4s\tremaining: 1.07s\n",
      "874:\tlearn: 25373.4296015\ttotal: 7.41s\tremaining: 1.06s\n",
      "875:\tlearn: 25370.0453568\ttotal: 7.42s\tremaining: 1.05s\n",
      "876:\tlearn: 25367.7689163\ttotal: 7.43s\tremaining: 1.04s\n",
      "877:\tlearn: 25365.6222914\ttotal: 7.44s\tremaining: 1.03s\n",
      "878:\tlearn: 25363.6211356\ttotal: 7.45s\tremaining: 1.02s\n",
      "879:\tlearn: 25361.8762886\ttotal: 7.46s\tremaining: 1.02s\n",
      "880:\tlearn: 25359.9599914\ttotal: 7.46s\tremaining: 1.01s\n",
      "881:\tlearn: 25358.7816518\ttotal: 7.47s\tremaining: 1s\n",
      "882:\tlearn: 25356.1511222\ttotal: 7.48s\tremaining: 992ms\n",
      "883:\tlearn: 25354.3432223\ttotal: 7.49s\tremaining: 983ms\n",
      "884:\tlearn: 25353.2233039\ttotal: 7.5s\tremaining: 975ms\n",
      "885:\tlearn: 25350.8279505\ttotal: 7.51s\tremaining: 967ms\n",
      "886:\tlearn: 25349.8583009\ttotal: 7.52s\tremaining: 958ms\n",
      "887:\tlearn: 25347.4814761\ttotal: 7.53s\tremaining: 950ms\n",
      "888:\tlearn: 25344.9576412\ttotal: 7.54s\tremaining: 941ms\n",
      "889:\tlearn: 25343.5300039\ttotal: 7.55s\tremaining: 933ms\n",
      "890:\tlearn: 25342.5302119\ttotal: 7.55s\tremaining: 924ms\n",
      "891:\tlearn: 25341.5026463\ttotal: 7.56s\tremaining: 916ms\n",
      "892:\tlearn: 25339.1141017\ttotal: 7.57s\tremaining: 907ms\n",
      "893:\tlearn: 25336.4332316\ttotal: 7.58s\tremaining: 899ms\n",
      "894:\tlearn: 25333.9659634\ttotal: 7.59s\tremaining: 890ms\n",
      "895:\tlearn: 25331.0715270\ttotal: 7.6s\tremaining: 882ms\n",
      "896:\tlearn: 25330.1410376\ttotal: 7.61s\tremaining: 874ms\n",
      "897:\tlearn: 25328.4866226\ttotal: 7.62s\tremaining: 865ms\n",
      "898:\tlearn: 25327.2387388\ttotal: 7.63s\tremaining: 857ms\n",
      "899:\tlearn: 25325.3658754\ttotal: 7.64s\tremaining: 849ms\n",
      "900:\tlearn: 25324.1025405\ttotal: 7.65s\tremaining: 841ms\n",
      "901:\tlearn: 25322.9066292\ttotal: 7.66s\tremaining: 832ms\n",
      "902:\tlearn: 25320.4356702\ttotal: 7.67s\tremaining: 824ms\n",
      "903:\tlearn: 25318.8434129\ttotal: 7.68s\tremaining: 816ms\n",
      "904:\tlearn: 25316.5191481\ttotal: 7.69s\tremaining: 807ms\n",
      "905:\tlearn: 25315.6080701\ttotal: 7.7s\tremaining: 799ms\n",
      "906:\tlearn: 25313.8560314\ttotal: 7.71s\tremaining: 790ms\n",
      "907:\tlearn: 25311.6262044\ttotal: 7.71s\tremaining: 782ms\n",
      "908:\tlearn: 25309.3968755\ttotal: 7.72s\tremaining: 773ms\n",
      "909:\tlearn: 25306.6399542\ttotal: 7.73s\tremaining: 765ms\n",
      "910:\tlearn: 25303.9588336\ttotal: 7.74s\tremaining: 756ms\n",
      "911:\tlearn: 25302.8753409\ttotal: 7.75s\tremaining: 748ms\n",
      "912:\tlearn: 25301.7806245\ttotal: 7.76s\tremaining: 739ms\n",
      "913:\tlearn: 25299.6054970\ttotal: 7.76s\tremaining: 731ms\n",
      "914:\tlearn: 25297.6247100\ttotal: 7.77s\tremaining: 722ms\n",
      "915:\tlearn: 25296.2511664\ttotal: 7.78s\tremaining: 714ms\n",
      "916:\tlearn: 25294.9575659\ttotal: 7.79s\tremaining: 705ms\n",
      "917:\tlearn: 25291.6045026\ttotal: 7.8s\tremaining: 697ms\n",
      "918:\tlearn: 25290.5802998\ttotal: 7.81s\tremaining: 689ms\n",
      "919:\tlearn: 25287.4446576\ttotal: 7.83s\tremaining: 681ms\n",
      "920:\tlearn: 25286.0474933\ttotal: 7.84s\tremaining: 672ms\n",
      "921:\tlearn: 25285.2346119\ttotal: 7.85s\tremaining: 664ms\n",
      "922:\tlearn: 25283.2375081\ttotal: 7.86s\tremaining: 656ms\n",
      "923:\tlearn: 25280.2627667\ttotal: 7.87s\tremaining: 648ms\n",
      "924:\tlearn: 25278.8546142\ttotal: 7.89s\tremaining: 640ms\n",
      "925:\tlearn: 25276.1823746\ttotal: 7.9s\tremaining: 632ms\n",
      "926:\tlearn: 25273.7540762\ttotal: 7.92s\tremaining: 624ms\n",
      "927:\tlearn: 25272.3861914\ttotal: 7.94s\tremaining: 616ms\n",
      "928:\tlearn: 25270.8433768\ttotal: 7.95s\tremaining: 608ms\n",
      "929:\tlearn: 25269.3286405\ttotal: 7.97s\tremaining: 600ms\n",
      "930:\tlearn: 25267.4274418\ttotal: 7.99s\tremaining: 592ms\n",
      "931:\tlearn: 25265.3431884\ttotal: 8s\tremaining: 584ms\n",
      "932:\tlearn: 25263.5320156\ttotal: 8.01s\tremaining: 575ms\n"
     ]
    },
    {
     "name": "stdout",
     "output_type": "stream",
     "text": [
      "933:\tlearn: 25261.7020084\ttotal: 8.03s\tremaining: 567ms\n",
      "934:\tlearn: 25259.8961299\ttotal: 8.06s\tremaining: 560ms\n",
      "935:\tlearn: 25257.9414495\ttotal: 8.07s\tremaining: 552ms\n",
      "936:\tlearn: 25256.0898832\ttotal: 8.08s\tremaining: 543ms\n",
      "937:\tlearn: 25254.5940663\ttotal: 8.09s\tremaining: 535ms\n",
      "938:\tlearn: 25252.0495511\ttotal: 8.1s\tremaining: 526ms\n",
      "939:\tlearn: 25249.8782835\ttotal: 8.11s\tremaining: 518ms\n",
      "940:\tlearn: 25248.5401389\ttotal: 8.12s\tremaining: 509ms\n",
      "941:\tlearn: 25246.9571677\ttotal: 8.13s\tremaining: 500ms\n",
      "942:\tlearn: 25245.9843086\ttotal: 8.14s\tremaining: 492ms\n",
      "943:\tlearn: 25244.9398035\ttotal: 8.14s\tremaining: 483ms\n",
      "944:\tlearn: 25244.1786143\ttotal: 8.15s\tremaining: 475ms\n",
      "945:\tlearn: 25242.6982779\ttotal: 8.16s\tremaining: 466ms\n",
      "946:\tlearn: 25241.6431557\ttotal: 8.17s\tremaining: 457ms\n",
      "947:\tlearn: 25239.9124258\ttotal: 8.18s\tremaining: 449ms\n",
      "948:\tlearn: 25237.1107153\ttotal: 8.19s\tremaining: 440ms\n",
      "949:\tlearn: 25235.6889846\ttotal: 8.2s\tremaining: 432ms\n",
      "950:\tlearn: 25233.7768476\ttotal: 8.21s\tremaining: 423ms\n",
      "951:\tlearn: 25231.9886056\ttotal: 8.22s\tremaining: 414ms\n",
      "952:\tlearn: 25230.7894900\ttotal: 8.23s\tremaining: 406ms\n",
      "953:\tlearn: 25228.8693384\ttotal: 8.24s\tremaining: 397ms\n",
      "954:\tlearn: 25227.8211437\ttotal: 8.25s\tremaining: 389ms\n",
      "955:\tlearn: 25225.6713389\ttotal: 8.26s\tremaining: 380ms\n",
      "956:\tlearn: 25224.0050973\ttotal: 8.27s\tremaining: 372ms\n",
      "957:\tlearn: 25223.1797789\ttotal: 8.28s\tremaining: 363ms\n",
      "958:\tlearn: 25221.7768110\ttotal: 8.29s\tremaining: 355ms\n",
      "959:\tlearn: 25220.4610851\ttotal: 8.3s\tremaining: 346ms\n",
      "960:\tlearn: 25218.4806957\ttotal: 8.31s\tremaining: 337ms\n",
      "961:\tlearn: 25216.0680242\ttotal: 8.32s\tremaining: 329ms\n",
      "962:\tlearn: 25213.9347957\ttotal: 8.34s\tremaining: 320ms\n",
      "963:\tlearn: 25211.4983830\ttotal: 8.35s\tremaining: 312ms\n",
      "964:\tlearn: 25210.5317657\ttotal: 8.36s\tremaining: 303ms\n",
      "965:\tlearn: 25209.3337881\ttotal: 8.37s\tremaining: 294ms\n",
      "966:\tlearn: 25207.6193186\ttotal: 8.38s\tremaining: 286ms\n",
      "967:\tlearn: 25206.3794531\ttotal: 8.39s\tremaining: 277ms\n",
      "968:\tlearn: 25203.2108245\ttotal: 8.4s\tremaining: 269ms\n",
      "969:\tlearn: 25201.3745205\ttotal: 8.4s\tremaining: 260ms\n",
      "970:\tlearn: 25200.3038726\ttotal: 8.41s\tremaining: 251ms\n",
      "971:\tlearn: 25199.7775390\ttotal: 8.42s\tremaining: 243ms\n",
      "972:\tlearn: 25198.6948567\ttotal: 8.44s\tremaining: 234ms\n",
      "973:\tlearn: 25196.6241832\ttotal: 8.45s\tremaining: 226ms\n",
      "974:\tlearn: 25195.0385019\ttotal: 8.46s\tremaining: 217ms\n",
      "975:\tlearn: 25193.7434216\ttotal: 8.47s\tremaining: 208ms\n",
      "976:\tlearn: 25192.7465341\ttotal: 8.48s\tremaining: 200ms\n",
      "977:\tlearn: 25191.0188853\ttotal: 8.49s\tremaining: 191ms\n",
      "978:\tlearn: 25190.1027994\ttotal: 8.5s\tremaining: 182ms\n",
      "979:\tlearn: 25188.6687951\ttotal: 8.51s\tremaining: 174ms\n",
      "980:\tlearn: 25186.7907538\ttotal: 8.52s\tremaining: 165ms\n",
      "981:\tlearn: 25184.7769664\ttotal: 8.53s\tremaining: 156ms\n",
      "982:\tlearn: 25183.5213040\ttotal: 8.54s\tremaining: 148ms\n",
      "983:\tlearn: 25182.4165125\ttotal: 8.55s\tremaining: 139ms\n",
      "984:\tlearn: 25181.5050268\ttotal: 8.56s\tremaining: 130ms\n",
      "985:\tlearn: 25179.8059962\ttotal: 8.56s\tremaining: 122ms\n",
      "986:\tlearn: 25178.7350805\ttotal: 8.57s\tremaining: 113ms\n",
      "987:\tlearn: 25175.6341139\ttotal: 8.58s\tremaining: 104ms\n",
      "988:\tlearn: 25174.5024095\ttotal: 8.59s\tremaining: 95.6ms\n",
      "989:\tlearn: 25173.4308923\ttotal: 8.6s\tremaining: 86.9ms\n",
      "990:\tlearn: 25171.4763886\ttotal: 8.61s\tremaining: 78.2ms\n",
      "991:\tlearn: 25169.6853279\ttotal: 8.62s\tremaining: 69.5ms\n",
      "992:\tlearn: 25167.3313030\ttotal: 8.63s\tremaining: 60.9ms\n",
      "993:\tlearn: 25165.4759215\ttotal: 8.65s\tremaining: 52.2ms\n",
      "994:\tlearn: 25163.1941434\ttotal: 8.66s\tremaining: 43.5ms\n",
      "995:\tlearn: 25161.4531245\ttotal: 8.67s\tremaining: 34.8ms\n",
      "996:\tlearn: 25160.0709578\ttotal: 8.68s\tremaining: 26.1ms\n",
      "997:\tlearn: 25158.2045541\ttotal: 8.69s\tremaining: 17.4ms\n",
      "998:\tlearn: 25156.4077288\ttotal: 8.7s\tremaining: 8.71ms\n",
      "999:\tlearn: 25154.9437109\ttotal: 8.72s\tremaining: 0us\n"
     ]
    },
    {
     "data": {
      "text/plain": [
       "<catboost.core.CatBoostRegressor at 0x7faa756f5f70>"
      ]
     },
     "execution_count": 84,
     "metadata": {},
     "output_type": "execute_result"
    }
   ],
   "source": [
    "# best_params = study.best_trial.params\n",
    "best_params = {\n",
    "    'l2_leaf_reg': 2.6330844914053784,\n",
    "    'max_bin': 366,\n",
    "    'learning_rate': 0.011929381903465954,\n",
    "    'max_depth': 7,\n",
    "    'random_state': 2020,\n",
    "    'min_data_in_leaf': 185\n",
    "}\n",
    "\n",
    "model_catboost = catboost.CatBoostRegressor(**best_params)\n",
    "\n",
    "model_catboost.fit(X_train, y_train)\n"
   ]
  },
  {
   "cell_type": "code",
   "execution_count": 85,
   "metadata": {
    "ExecuteTime": {
     "end_time": "2022-05-13T18:32:15.344276Z",
     "start_time": "2022-05-13T18:32:15.306810Z"
    }
   },
   "outputs": [
    {
     "data": {
      "text/plain": [
       "26877.45991637415"
      ]
     },
     "execution_count": 85,
     "metadata": {},
     "output_type": "execute_result"
    }
   ],
   "source": [
    "mean_squared_error(y_test, model_catboost.predict(X_test), squared=False)"
   ]
  },
  {
   "cell_type": "code",
   "execution_count": 86,
   "metadata": {
    "ExecuteTime": {
     "end_time": "2022-05-13T18:32:16.013177Z",
     "start_time": "2022-05-13T18:32:15.346637Z"
    }
   },
   "outputs": [
    {
     "data": {
      "text/plain": [
       "27475.09474180301"
      ]
     },
     "execution_count": 86,
     "metadata": {},
     "output_type": "execute_result"
    }
   ],
   "source": [
    "from sklearn.linear_model import Lasso\n",
    "\n",
    "model_lasso = Lasso()\n",
    "\n",
    "model_lasso.fit(X_train, y_train)\n",
    "\n",
    "mean_squared_error(y_test, model_lasso.predict(X_test), squared=False)"
   ]
  },
  {
   "cell_type": "code",
   "execution_count": 87,
   "metadata": {
    "ExecuteTime": {
     "end_time": "2022-05-13T18:32:22.564588Z",
     "start_time": "2022-05-13T18:32:16.015240Z"
    }
   },
   "outputs": [
    {
     "data": {
      "text/plain": [
       "26934.649281506532"
      ]
     },
     "execution_count": 87,
     "metadata": {},
     "output_type": "execute_result"
    }
   ],
   "source": [
    "model_base_xgb = xgb.XGBRFRegressor()\n",
    "model_base_xgb.fit(X_train, y_train)\n",
    "mean_squared_error(y_test, model_base_xgb.predict(X_test), squared=False)"
   ]
  },
  {
   "cell_type": "code",
   "execution_count": 88,
   "metadata": {
    "ExecuteTime": {
     "end_time": "2022-05-13T18:32:25.182246Z",
     "start_time": "2022-05-13T18:32:22.570721Z"
    }
   },
   "outputs": [
    {
     "data": {
      "text/plain": [
       "26097.105917775294"
      ]
     },
     "execution_count": 88,
     "metadata": {},
     "output_type": "execute_result"
    }
   ],
   "source": [
    "mean_squared_error(\n",
    "    y_test,\n",
    "    (model_xgb.predict(X_test) + model_lr.predict(X_test) +\n",
    "     model_catboost.predict(X_test) + model_lasso.predict(X_test) +\n",
    "     model_base_xgb.predict(X_test)) / 5,\n",
    "    squared=False)"
   ]
  },
  {
   "cell_type": "code",
   "execution_count": 89,
   "metadata": {
    "ExecuteTime": {
     "end_time": "2022-05-13T18:32:27.635083Z",
     "start_time": "2022-05-13T18:32:25.189510Z"
    }
   },
   "outputs": [
    {
     "data": {
      "text/plain": [
       "25979.736093324504"
      ]
     },
     "execution_count": 89,
     "metadata": {},
     "output_type": "execute_result"
    }
   ],
   "source": [
    "mean_squared_error(y_test,\n",
    "                   (model_xgb.predict(X_test) + model_lr.predict(X_test) +\n",
    "                    model_catboost.predict(X_test) + model_lasso.predict(X_test)) / 4,\n",
    "                   squared=False)"
   ]
  },
  {
   "cell_type": "code",
   "execution_count": 90,
   "metadata": {
    "ExecuteTime": {
     "end_time": "2022-05-13T18:32:30.375426Z",
     "start_time": "2022-05-13T18:32:27.642325Z"
    }
   },
   "outputs": [
    {
     "data": {
      "text/plain": [
       "25677.141221355763"
      ]
     },
     "execution_count": 90,
     "metadata": {},
     "output_type": "execute_result"
    }
   ],
   "source": [
    "mean_squared_error(y_test,\n",
    "                   (model_xgb.predict(X_test) + model_lr.predict(X_test) +\n",
    "                    model_catboost.predict(X_test)) / 3,\n",
    "                   squared=False)"
   ]
  },
  {
   "cell_type": "code",
   "execution_count": 91,
   "metadata": {
    "ExecuteTime": {
     "end_time": "2022-05-13T18:32:30.399797Z",
     "start_time": "2022-05-13T18:32:30.377620Z"
    }
   },
   "outputs": [
    {
     "data": {
      "text/plain": [
       "27475.09474180301"
      ]
     },
     "execution_count": 91,
     "metadata": {},
     "output_type": "execute_result"
    }
   ],
   "source": [
    "mean_squared_error(y_test, model_lasso.predict(X_test), squared=False)"
   ]
  },
  {
   "cell_type": "code",
   "execution_count": 92,
   "metadata": {
    "ExecuteTime": {
     "end_time": "2022-05-13T18:32:32.988407Z",
     "start_time": "2022-05-13T18:32:30.402684Z"
    }
   },
   "outputs": [
    {
     "data": {
      "text/plain": [
       "25835.563384103905"
      ]
     },
     "execution_count": 92,
     "metadata": {},
     "output_type": "execute_result"
    }
   ],
   "source": [
    "mean_squared_error(y_test,\n",
    "                    0.30 * model_xgb.predict(X_test) + \n",
    "                    0.10 * model_lr.predict(X_test) +\n",
    "                    0.60 * model_catboost.predict(X_test),\n",
    "                   squared=False)"
   ]
  },
  {
   "cell_type": "code",
   "execution_count": 93,
   "metadata": {
    "ExecuteTime": {
     "end_time": "2022-05-13T18:32:35.333442Z",
     "start_time": "2022-05-13T18:32:32.997596Z"
    }
   },
   "outputs": [
    {
     "data": {
      "text/plain": [
       "25788.165487938964"
      ]
     },
     "execution_count": 93,
     "metadata": {},
     "output_type": "execute_result"
    }
   ],
   "source": [
    "mean_squared_error(y_test,\n",
    "                    0.30 * model_xgb.predict(X_test) + \n",
    "                    0.20 * model_lr.predict(X_test) +\n",
    "                    0.50 * model_catboost.predict(X_test),\n",
    "                   squared=False)"
   ]
  },
  {
   "cell_type": "code",
   "execution_count": 109,
   "metadata": {
    "ExecuteTime": {
     "end_time": "2022-05-13T18:38:25.504212Z",
     "start_time": "2022-05-13T18:38:23.933263Z"
    }
   },
   "outputs": [
    {
     "data": {
      "text/plain": [
       "25923.426141719854"
      ]
     },
     "execution_count": 109,
     "metadata": {},
     "output_type": "execute_result"
    }
   ],
   "source": [
    "mean_squared_error(y_test,\n",
    "                    0.25 * model_xgb.predict(X_test) + \n",
    "                    0.35 * model_lr.predict(X_test) +\n",
    "                    0.40 * model_catboost.predict(X_test),\n",
    "                   squared=False)"
   ]
  },
  {
   "cell_type": "code",
   "execution_count": 104,
   "metadata": {
    "ExecuteTime": {
     "end_time": "2022-05-13T18:35:34.845680Z",
     "start_time": "2022-05-13T18:35:33.271738Z"
    }
   },
   "outputs": [
    {
     "data": {
      "text/plain": [
       "26436.94219214358"
      ]
     },
     "execution_count": 104,
     "metadata": {},
     "output_type": "execute_result"
    }
   ],
   "source": [
    "mean_squared_error(y_test,\n",
    "                   0.10 * model_xgb.predict(X_test) + \n",
    "                   0.15 * model_lr.predict(X_test) +\n",
    "                   0.10 * model_catboost.predict(X_test) +\n",
    "                   0.15 * model_lasso.predict(X_test) +\n",
    "                   0.50 * model_base_xgb.predict(X_test),\n",
    "                   squared=False)"
   ]
  },
  {
   "cell_type": "code",
   "execution_count": 96,
   "metadata": {
    "ExecuteTime": {
     "end_time": "2022-05-13T18:32:40.496361Z",
     "start_time": "2022-05-13T18:32:40.390873Z"
    }
   },
   "outputs": [
    {
     "data": {
      "text/plain": [
       "26762.666508742586"
      ]
     },
     "execution_count": 96,
     "metadata": {},
     "output_type": "execute_result"
    }
   ],
   "source": [
    "mean_squared_error(\n",
    "    y_test,\n",
    "    (\n",
    "     model_catboost.predict(X_test) + model_lasso.predict(X_test) +\n",
    "     model_base_xgb.predict(X_test)) / 3,\n",
    "    squared=False)"
   ]
  },
  {
   "cell_type": "code",
   "execution_count": 97,
   "metadata": {
    "ExecuteTime": {
     "end_time": "2022-05-13T18:32:40.507252Z",
     "start_time": "2022-05-13T18:32:40.502263Z"
    }
   },
   "outputs": [],
   "source": [
    "# import torch\n",
    "\n",
    "# class CustomDataset(torch.utils.data.Dataset):\n",
    "#     def __init__(self, X, y):\n",
    "#         self.X = np.array(X)\n",
    "#         self.y = np.array(y).reshape(-1, 1)\n",
    "        \n",
    "#     def __len__(self):\n",
    "#         return len(self.X)\n",
    "    \n",
    "#     def __getitem__(self, idx):\n",
    "#         X = self.X[idx, :]\n",
    "#         y = self.y[idx, :]\n",
    "        \n",
    "#         return (X, y)\n",
    "        "
   ]
  },
  {
   "cell_type": "code",
   "execution_count": 98,
   "metadata": {
    "ExecuteTime": {
     "end_time": "2022-05-13T18:32:40.517340Z",
     "start_time": "2022-05-13T18:32:40.513599Z"
    }
   },
   "outputs": [],
   "source": [
    "# train_dataset = CustomDataset(X_train, y_train)\n",
    "# training_loader = torch.utils.data.DataLoader(train_dataset, batch_size=128, shuffle=True)"
   ]
  },
  {
   "cell_type": "code",
   "execution_count": null,
   "metadata": {
    "ExecuteTime": {
     "end_time": "2022-05-13T18:27:40.040828Z",
     "start_time": "2022-05-13T18:27:40.024915Z"
    }
   },
   "outputs": [],
   "source": []
  },
  {
   "cell_type": "code",
   "execution_count": 99,
   "metadata": {
    "ExecuteTime": {
     "end_time": "2022-05-13T18:32:40.534497Z",
     "start_time": "2022-05-13T18:32:40.529907Z"
    }
   },
   "outputs": [],
   "source": [
    "# import tqdm\n",
    "# class LinearRegression(torch.nn.Module):\n",
    "#     def __init__(self, in_features):\n",
    "#         super().__init__()\n",
    "#         self.linear = torch.nn.Linear(in_features, 1)\n",
    "        \n",
    "#     def forward(self, x):\n",
    "#         return self.linear(x)\n",
    "        \n",
    "# model = LinearRegression(X_train.shape[1]) # Initialize the model\n",
    "\n",
    "# loss_fn = torch.nn.MSELoss()\n",
    "# # loss_fn = torch.sqrt(criterion(x, y))\n",
    "# optimizer = torch.optim.SGD(model.parameters(), lr=0.01) # Define the optimizer"
   ]
  },
  {
   "cell_type": "code",
   "execution_count": 100,
   "metadata": {
    "ExecuteTime": {
     "end_time": "2022-05-13T18:32:40.546104Z",
     "start_time": "2022-05-13T18:32:40.542048Z"
    }
   },
   "outputs": [],
   "source": [
    "# prev_loss = 0\n",
    "# for epoch in range(10000):\n",
    "#     model.train() # Set the model to training mode\n",
    "    \n",
    "#     for (X_train, y_train) in training_loader\n",
    "#     y_pred = model(X_train) # Evaluate the model on the training data\n",
    "#     loss = loss_fn(y_pred, y_train) # Calculate the loss\n",
    "\n",
    "\n",
    "#     optimizer.zero_grad() # Reset the gradients for optimizer\n",
    "#     loss.backward() # Calculate the gradients for loss_fn wrt model parameters\n",
    "#     optimizer.step() # Update the model parameters\n",
    "\n",
    "#     model.eval() # Set the model to evaluation mode\n",
    "#     y_pred_test = model(X_test) # Evaluate the model on the test data\n",
    "#     loss_test = torch.sqrt(loss_fn(y_pred_test, y_test)) # Calculate the loss\n",
    "\n",
    "\n",
    "    \n",
    "#     prev_loss = loss.item()\n",
    "#     if epoch % 100 == 0:\n",
    "#         print(f\"Epoch: {epoch}, loss: {loss.item()}, loss_test: {loss_test.item()}\")"
   ]
  },
  {
   "cell_type": "code",
   "execution_count": 101,
   "metadata": {
    "ExecuteTime": {
     "end_time": "2022-05-13T18:32:40.557576Z",
     "start_time": "2022-05-13T18:32:40.552766Z"
    }
   },
   "outputs": [],
   "source": [
    "# prev_loss = 0\n",
    "# for epoch in range(2):\n",
    "#     model.train() # Set the model to training mode\n",
    "\n",
    "#     with tqdm.tqdm(training_loader) as bar:\n",
    "#         for batch_x, batch_y in bar:\n",
    "#             batch_x = batch_x.to(\"cuda\")\n",
    "#             batch_y = batch_y.to(\"cuda\")\n",
    "#             y_pred = model(batch_x.float()) # Evaluate the model on the training data\n",
    "#             loss = loss_fn(y_pred.float(), batch_y.float()) # Calculate the loss\n",
    "\n",
    "#             # Early stopping\n",
    "#             # if (abs(loss.item() - prev_loss)) < 1e-6:\n",
    "#             #     print(f\"Converged after {epoch} epochs\")\n",
    "#             #     break\n",
    "#             # print(\"Model params: \", model.state_dict())\n",
    "#             optimizer.zero_grad() # Reset the gradients for optimizer\n",
    "#             loss.backward() # Calculate the gradients for loss_fn wrt model parameters\n",
    "#             optimizer.step() # Update the model parameters\n",
    "\n",
    "#             # non_linear_model.eval() # Set the model to evaluation mode\n",
    "#             # y_pred_test = non_linear_model(X_test) # Evaluate the model on the test data\n",
    "#             # loss_test = loss_fn(y_pred_test, y_test) # Calculate the loss\n",
    "\n",
    "#     prev_loss = loss.item()\n",
    "#     # print(f\"Epoch: {epoch}, loss: {loss.item()}, loss_test: {loss_test.item()}\")\n",
    "#     print(f\"Epoch: {epoch}, loss: {loss.item()}\")\n",
    "\n",
    "        "
   ]
  },
  {
   "cell_type": "code",
   "execution_count": 110,
   "metadata": {
    "ExecuteTime": {
     "end_time": "2022-05-13T18:38:48.656747Z",
     "start_time": "2022-05-13T18:38:46.020981Z"
    }
   },
   "outputs": [],
   "source": [
    "submission = pd.read_csv(\"submission.csv\")\n",
    "submission['price'] = (0.25 * model_xgb.predict(test) + \n",
    "                    0.35 * model_lr.predict(test) +\n",
    "                    0.40 * model_catboost.predict(test))\n",
    "submission.to_csv(\"final_submission.csv\", index=False)"
   ]
  },
  {
   "cell_type": "code",
   "execution_count": null,
   "metadata": {},
   "outputs": [],
   "source": []
  }
 ],
 "metadata": {
  "kernelspec": {
   "display_name": "Python 3",
   "language": "python",
   "name": "python3"
  },
  "language_info": {
   "codemirror_mode": {
    "name": "ipython",
    "version": 3
   },
   "file_extension": ".py",
   "mimetype": "text/x-python",
   "name": "python",
   "nbconvert_exporter": "python",
   "pygments_lexer": "ipython3",
   "version": "3.8.8"
  },
  "toc": {
   "base_numbering": 1,
   "nav_menu": {},
   "number_sections": true,
   "sideBar": true,
   "skip_h1_title": false,
   "title_cell": "Table of Contents",
   "title_sidebar": "Contents",
   "toc_cell": false,
   "toc_position": {},
   "toc_section_display": true,
   "toc_window_display": false
  },
  "varInspector": {
   "cols": {
    "lenName": 16,
    "lenType": 16,
    "lenVar": 40
   },
   "kernels_config": {
    "python": {
     "delete_cmd_postfix": "",
     "delete_cmd_prefix": "del ",
     "library": "var_list.py",
     "varRefreshCmd": "print(var_dic_list())"
    },
    "r": {
     "delete_cmd_postfix": ") ",
     "delete_cmd_prefix": "rm(",
     "library": "var_list.r",
     "varRefreshCmd": "cat(var_dic_list()) "
    }
   },
   "types_to_exclude": [
    "module",
    "function",
    "builtin_function_or_method",
    "instance",
    "_Feature"
   ],
   "window_display": false
  }
 },
 "nbformat": 4,
 "nbformat_minor": 1
}
