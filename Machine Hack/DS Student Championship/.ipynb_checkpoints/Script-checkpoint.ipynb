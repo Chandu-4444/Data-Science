{
 "cells": [
  {
   "cell_type": "code",
   "execution_count": 1,
   "metadata": {
    "ExecuteTime": {
     "end_time": "2022-05-13T18:30:46.022904Z",
     "start_time": "2022-05-13T18:30:45.191445Z"
    },
    "pycharm": {
     "name": "#%%\n"
    }
   },
   "outputs": [],
   "source": [
    "import pandas as pd\n",
    "import numpy as np\n",
    "import matplotlib.pyplot as plt\n",
    "import seaborn as sns\n",
    "\n",
    "import warnings\n",
    "import os\n",
    "\n",
    "warnings.filterwarnings(action='ignore')"
   ]
  },
  {
   "cell_type": "code",
   "execution_count": 2,
   "metadata": {
    "ExecuteTime": {
     "end_time": "2022-05-13T18:30:46.322439Z",
     "start_time": "2022-05-13T18:30:46.024095Z"
    },
    "pycharm": {
     "name": "#%%\n"
    }
   },
   "outputs": [],
   "source": [
    "train_df = pd.read_csv('train.csv')\n",
    "test_df = pd.read_csv('test.csv')"
   ]
  },
  {
   "cell_type": "code",
   "execution_count": 3,
   "metadata": {
    "ExecuteTime": {
     "end_time": "2022-05-13T18:30:46.347431Z",
     "start_time": "2022-05-13T18:30:46.323816Z"
    },
    "pycharm": {
     "name": "#%%\n"
    }
   },
   "outputs": [
    {
     "data": {
      "text/html": [
       "<div>\n",
       "<style scoped>\n",
       "    .dataframe tbody tr th:only-of-type {\n",
       "        vertical-align: middle;\n",
       "    }\n",
       "\n",
       "    .dataframe tbody tr th {\n",
       "        vertical-align: top;\n",
       "    }\n",
       "\n",
       "    .dataframe thead th {\n",
       "        text-align: right;\n",
       "    }\n",
       "</style>\n",
       "<table border=\"1\" class=\"dataframe\">\n",
       "  <thead>\n",
       "    <tr style=\"text-align: right;\">\n",
       "      <th></th>\n",
       "      <th>Property_ID</th>\n",
       "      <th>room</th>\n",
       "      <th>layout_type</th>\n",
       "      <th>property_type</th>\n",
       "      <th>locality</th>\n",
       "      <th>price</th>\n",
       "      <th>area</th>\n",
       "      <th>furnish_type</th>\n",
       "      <th>bathroom</th>\n",
       "      <th>city</th>\n",
       "      <th>...</th>\n",
       "      <th>floor</th>\n",
       "      <th>pet_friendly</th>\n",
       "      <th>power_backup</th>\n",
       "      <th>washing_machine</th>\n",
       "      <th>air_conditioner</th>\n",
       "      <th>geyser/solar</th>\n",
       "      <th>security_deposit</th>\n",
       "      <th>CCTV/security</th>\n",
       "      <th>lift</th>\n",
       "      <th>neighbourhood</th>\n",
       "    </tr>\n",
       "  </thead>\n",
       "  <tbody>\n",
       "    <tr>\n",
       "      <th>0</th>\n",
       "      <td>42208</td>\n",
       "      <td>3</td>\n",
       "      <td>BHK</td>\n",
       "      <td>Independent House</td>\n",
       "      <td>Palavakkam</td>\n",
       "      <td>33624</td>\n",
       "      <td>1312</td>\n",
       "      <td>Furnished</td>\n",
       "      <td>2</td>\n",
       "      <td>Chennai</td>\n",
       "      <td>...</td>\n",
       "      <td>1</td>\n",
       "      <td>1</td>\n",
       "      <td>0</td>\n",
       "      <td>0</td>\n",
       "      <td>1</td>\n",
       "      <td>0</td>\n",
       "      <td>302616</td>\n",
       "      <td>0</td>\n",
       "      <td>0</td>\n",
       "      <td>300</td>\n",
       "    </tr>\n",
       "    <tr>\n",
       "      <th>1</th>\n",
       "      <td>90879</td>\n",
       "      <td>1</td>\n",
       "      <td>BHK</td>\n",
       "      <td>Apartment</td>\n",
       "      <td>Manikonda</td>\n",
       "      <td>9655</td>\n",
       "      <td>1474</td>\n",
       "      <td>Unfurnished</td>\n",
       "      <td>2</td>\n",
       "      <td>Hyderabad</td>\n",
       "      <td>...</td>\n",
       "      <td>17</td>\n",
       "      <td>0</td>\n",
       "      <td>1</td>\n",
       "      <td>0</td>\n",
       "      <td>0</td>\n",
       "      <td>1</td>\n",
       "      <td>19310</td>\n",
       "      <td>0</td>\n",
       "      <td>1</td>\n",
       "      <td>1600</td>\n",
       "    </tr>\n",
       "    <tr>\n",
       "      <th>2</th>\n",
       "      <td>99943</td>\n",
       "      <td>3</td>\n",
       "      <td>BHK</td>\n",
       "      <td>Apartment</td>\n",
       "      <td>Jodhpur Park</td>\n",
       "      <td>23699</td>\n",
       "      <td>1837</td>\n",
       "      <td>Semi-Furnished</td>\n",
       "      <td>2</td>\n",
       "      <td>Kolkata</td>\n",
       "      <td>...</td>\n",
       "      <td>10</td>\n",
       "      <td>1</td>\n",
       "      <td>1</td>\n",
       "      <td>1</td>\n",
       "      <td>1</td>\n",
       "      <td>0</td>\n",
       "      <td>118495</td>\n",
       "      <td>0</td>\n",
       "      <td>1</td>\n",
       "      <td>3100</td>\n",
       "    </tr>\n",
       "    <tr>\n",
       "      <th>3</th>\n",
       "      <td>113926</td>\n",
       "      <td>1</td>\n",
       "      <td>BHK</td>\n",
       "      <td>Apartment</td>\n",
       "      <td>Chembur</td>\n",
       "      <td>6306</td>\n",
       "      <td>606</td>\n",
       "      <td>Unfurnished</td>\n",
       "      <td>1</td>\n",
       "      <td>Mumbai</td>\n",
       "      <td>...</td>\n",
       "      <td>18</td>\n",
       "      <td>0</td>\n",
       "      <td>0</td>\n",
       "      <td>0</td>\n",
       "      <td>0</td>\n",
       "      <td>0</td>\n",
       "      <td>37836</td>\n",
       "      <td>0</td>\n",
       "      <td>1</td>\n",
       "      <td>300</td>\n",
       "    </tr>\n",
       "    <tr>\n",
       "      <th>4</th>\n",
       "      <td>185438</td>\n",
       "      <td>1</td>\n",
       "      <td>BHK</td>\n",
       "      <td>Studio Apartment</td>\n",
       "      <td>Kalewadi Pandhapur Road</td>\n",
       "      <td>12008</td>\n",
       "      <td>498</td>\n",
       "      <td>Semi-Furnished</td>\n",
       "      <td>3</td>\n",
       "      <td>Pune</td>\n",
       "      <td>...</td>\n",
       "      <td>14</td>\n",
       "      <td>0</td>\n",
       "      <td>0</td>\n",
       "      <td>1</td>\n",
       "      <td>1</td>\n",
       "      <td>0</td>\n",
       "      <td>72048</td>\n",
       "      <td>0</td>\n",
       "      <td>1</td>\n",
       "      <td>0</td>\n",
       "    </tr>\n",
       "  </tbody>\n",
       "</table>\n",
       "<p>5 rows × 21 columns</p>\n",
       "</div>"
      ],
      "text/plain": [
       "   Property_ID  room layout_type      property_type                 locality  \\\n",
       "0        42208     3         BHK  Independent House               Palavakkam   \n",
       "1        90879     1         BHK          Apartment                Manikonda   \n",
       "2        99943     3         BHK          Apartment             Jodhpur Park   \n",
       "3       113926     1         BHK          Apartment                  Chembur   \n",
       "4       185438     1         BHK   Studio Apartment  Kalewadi Pandhapur Road   \n",
       "\n",
       "   price  area    furnish_type  bathroom       city  ...  floor  pet_friendly  \\\n",
       "0  33624  1312       Furnished         2    Chennai  ...      1             1   \n",
       "1   9655  1474     Unfurnished         2  Hyderabad  ...     17             0   \n",
       "2  23699  1837  Semi-Furnished         2    Kolkata  ...     10             1   \n",
       "3   6306   606     Unfurnished         1     Mumbai  ...     18             0   \n",
       "4  12008   498  Semi-Furnished         3       Pune  ...     14             0   \n",
       "\n",
       "   power_backup  washing_machine  air_conditioner  geyser/solar  \\\n",
       "0             0                0                1             0   \n",
       "1             1                0                0             1   \n",
       "2             1                1                1             0   \n",
       "3             0                0                0             0   \n",
       "4             0                1                1             0   \n",
       "\n",
       "   security_deposit  CCTV/security  lift  neighbourhood  \n",
       "0            302616              0     0            300  \n",
       "1             19310              0     1           1600  \n",
       "2            118495              0     1           3100  \n",
       "3             37836              0     1            300  \n",
       "4             72048              0     1              0  \n",
       "\n",
       "[5 rows x 21 columns]"
      ]
     },
     "execution_count": 3,
     "metadata": {},
     "output_type": "execute_result"
    }
   ],
   "source": [
    "train_df.head()"
   ]
  },
  {
   "cell_type": "markdown",
   "metadata": {
    "pycharm": {
     "name": "#%% md\n"
    }
   },
   "source": [
    "We need to predict the price"
   ]
  },
  {
   "cell_type": "code",
   "execution_count": 4,
   "metadata": {
    "ExecuteTime": {
     "end_time": "2022-05-13T18:30:46.455693Z",
     "start_time": "2022-05-13T18:30:46.349820Z"
    },
    "pycharm": {
     "name": "#%%\n"
    }
   },
   "outputs": [
    {
     "data": {
      "text/html": [
       "<div>\n",
       "<style scoped>\n",
       "    .dataframe tbody tr th:only-of-type {\n",
       "        vertical-align: middle;\n",
       "    }\n",
       "\n",
       "    .dataframe tbody tr th {\n",
       "        vertical-align: top;\n",
       "    }\n",
       "\n",
       "    .dataframe thead th {\n",
       "        text-align: right;\n",
       "    }\n",
       "</style>\n",
       "<table border=\"1\" class=\"dataframe\">\n",
       "  <thead>\n",
       "    <tr style=\"text-align: right;\">\n",
       "      <th></th>\n",
       "      <th>count</th>\n",
       "      <th>mean</th>\n",
       "      <th>std</th>\n",
       "      <th>min</th>\n",
       "      <th>25%</th>\n",
       "      <th>50%</th>\n",
       "      <th>75%</th>\n",
       "      <th>max</th>\n",
       "    </tr>\n",
       "  </thead>\n",
       "  <tbody>\n",
       "    <tr>\n",
       "      <th>Property_ID</th>\n",
       "      <td>134683.0</td>\n",
       "      <td>96036.100777</td>\n",
       "      <td>55565.228125</td>\n",
       "      <td>2.0</td>\n",
       "      <td>47940.0</td>\n",
       "      <td>95950.0</td>\n",
       "      <td>144194.5</td>\n",
       "      <td>192405.0</td>\n",
       "    </tr>\n",
       "    <tr>\n",
       "      <th>room</th>\n",
       "      <td>134683.0</td>\n",
       "      <td>2.029677</td>\n",
       "      <td>0.937308</td>\n",
       "      <td>1.0</td>\n",
       "      <td>1.0</td>\n",
       "      <td>2.0</td>\n",
       "      <td>3.0</td>\n",
       "      <td>5.0</td>\n",
       "    </tr>\n",
       "    <tr>\n",
       "      <th>price</th>\n",
       "      <td>134683.0</td>\n",
       "      <td>36690.033894</td>\n",
       "      <td>62620.364025</td>\n",
       "      <td>1583.0</td>\n",
       "      <td>12035.5</td>\n",
       "      <td>20856.0</td>\n",
       "      <td>36014.0</td>\n",
       "      <td>799325.0</td>\n",
       "    </tr>\n",
       "    <tr>\n",
       "      <th>area</th>\n",
       "      <td>134683.0</td>\n",
       "      <td>1480.388490</td>\n",
       "      <td>1412.464718</td>\n",
       "      <td>81.0</td>\n",
       "      <td>759.0</td>\n",
       "      <td>1114.0</td>\n",
       "      <td>1580.0</td>\n",
       "      <td>13942.0</td>\n",
       "    </tr>\n",
       "    <tr>\n",
       "      <th>bathroom</th>\n",
       "      <td>134683.0</td>\n",
       "      <td>2.040488</td>\n",
       "      <td>0.867065</td>\n",
       "      <td>1.0</td>\n",
       "      <td>1.0</td>\n",
       "      <td>2.0</td>\n",
       "      <td>2.0</td>\n",
       "      <td>5.0</td>\n",
       "    </tr>\n",
       "    <tr>\n",
       "      <th>parking_spaces</th>\n",
       "      <td>134683.0</td>\n",
       "      <td>0.534388</td>\n",
       "      <td>0.498818</td>\n",
       "      <td>0.0</td>\n",
       "      <td>0.0</td>\n",
       "      <td>1.0</td>\n",
       "      <td>1.0</td>\n",
       "      <td>1.0</td>\n",
       "    </tr>\n",
       "    <tr>\n",
       "      <th>floor</th>\n",
       "      <td>134683.0</td>\n",
       "      <td>9.163087</td>\n",
       "      <td>5.957549</td>\n",
       "      <td>0.0</td>\n",
       "      <td>4.0</td>\n",
       "      <td>9.0</td>\n",
       "      <td>15.0</td>\n",
       "      <td>19.0</td>\n",
       "    </tr>\n",
       "    <tr>\n",
       "      <th>pet_friendly</th>\n",
       "      <td>134683.0</td>\n",
       "      <td>0.527602</td>\n",
       "      <td>0.499239</td>\n",
       "      <td>0.0</td>\n",
       "      <td>0.0</td>\n",
       "      <td>1.0</td>\n",
       "      <td>1.0</td>\n",
       "      <td>1.0</td>\n",
       "    </tr>\n",
       "    <tr>\n",
       "      <th>power_backup</th>\n",
       "      <td>134683.0</td>\n",
       "      <td>0.337051</td>\n",
       "      <td>0.472704</td>\n",
       "      <td>0.0</td>\n",
       "      <td>0.0</td>\n",
       "      <td>0.0</td>\n",
       "      <td>1.0</td>\n",
       "      <td>1.0</td>\n",
       "    </tr>\n",
       "    <tr>\n",
       "      <th>washing_machine</th>\n",
       "      <td>134683.0</td>\n",
       "      <td>0.472561</td>\n",
       "      <td>0.499248</td>\n",
       "      <td>0.0</td>\n",
       "      <td>0.0</td>\n",
       "      <td>0.0</td>\n",
       "      <td>1.0</td>\n",
       "      <td>1.0</td>\n",
       "    </tr>\n",
       "    <tr>\n",
       "      <th>air_conditioner</th>\n",
       "      <td>134683.0</td>\n",
       "      <td>0.692626</td>\n",
       "      <td>0.461407</td>\n",
       "      <td>0.0</td>\n",
       "      <td>0.0</td>\n",
       "      <td>1.0</td>\n",
       "      <td>1.0</td>\n",
       "      <td>1.0</td>\n",
       "    </tr>\n",
       "    <tr>\n",
       "      <th>geyser/solar</th>\n",
       "      <td>134683.0</td>\n",
       "      <td>0.440137</td>\n",
       "      <td>0.496405</td>\n",
       "      <td>0.0</td>\n",
       "      <td>0.0</td>\n",
       "      <td>0.0</td>\n",
       "      <td>1.0</td>\n",
       "      <td>1.0</td>\n",
       "    </tr>\n",
       "    <tr>\n",
       "      <th>security_deposit</th>\n",
       "      <td>134683.0</td>\n",
       "      <td>220248.014323</td>\n",
       "      <td>420450.288624</td>\n",
       "      <td>3180.0</td>\n",
       "      <td>55802.5</td>\n",
       "      <td>114264.0</td>\n",
       "      <td>220704.5</td>\n",
       "      <td>7940780.0</td>\n",
       "    </tr>\n",
       "    <tr>\n",
       "      <th>CCTV/security</th>\n",
       "      <td>134683.0</td>\n",
       "      <td>0.561838</td>\n",
       "      <td>0.496163</td>\n",
       "      <td>0.0</td>\n",
       "      <td>0.0</td>\n",
       "      <td>1.0</td>\n",
       "      <td>1.0</td>\n",
       "      <td>1.0</td>\n",
       "    </tr>\n",
       "    <tr>\n",
       "      <th>lift</th>\n",
       "      <td>134683.0</td>\n",
       "      <td>0.595851</td>\n",
       "      <td>0.490728</td>\n",
       "      <td>0.0</td>\n",
       "      <td>0.0</td>\n",
       "      <td>1.0</td>\n",
       "      <td>1.0</td>\n",
       "      <td>1.0</td>\n",
       "    </tr>\n",
       "    <tr>\n",
       "      <th>neighbourhood</th>\n",
       "      <td>134683.0</td>\n",
       "      <td>2033.024212</td>\n",
       "      <td>1159.635981</td>\n",
       "      <td>0.0</td>\n",
       "      <td>1100.0</td>\n",
       "      <td>2000.0</td>\n",
       "      <td>3000.0</td>\n",
       "      <td>4000.0</td>\n",
       "    </tr>\n",
       "  </tbody>\n",
       "</table>\n",
       "</div>"
      ],
      "text/plain": [
       "                     count           mean            std     min      25%  \\\n",
       "Property_ID       134683.0   96036.100777   55565.228125     2.0  47940.0   \n",
       "room              134683.0       2.029677       0.937308     1.0      1.0   \n",
       "price             134683.0   36690.033894   62620.364025  1583.0  12035.5   \n",
       "area              134683.0    1480.388490    1412.464718    81.0    759.0   \n",
       "bathroom          134683.0       2.040488       0.867065     1.0      1.0   \n",
       "parking_spaces    134683.0       0.534388       0.498818     0.0      0.0   \n",
       "floor             134683.0       9.163087       5.957549     0.0      4.0   \n",
       "pet_friendly      134683.0       0.527602       0.499239     0.0      0.0   \n",
       "power_backup      134683.0       0.337051       0.472704     0.0      0.0   \n",
       "washing_machine   134683.0       0.472561       0.499248     0.0      0.0   \n",
       "air_conditioner   134683.0       0.692626       0.461407     0.0      0.0   \n",
       "geyser/solar      134683.0       0.440137       0.496405     0.0      0.0   \n",
       "security_deposit  134683.0  220248.014323  420450.288624  3180.0  55802.5   \n",
       "CCTV/security     134683.0       0.561838       0.496163     0.0      0.0   \n",
       "lift              134683.0       0.595851       0.490728     0.0      0.0   \n",
       "neighbourhood     134683.0    2033.024212    1159.635981     0.0   1100.0   \n",
       "\n",
       "                       50%       75%        max  \n",
       "Property_ID        95950.0  144194.5   192405.0  \n",
       "room                   2.0       3.0        5.0  \n",
       "price              20856.0   36014.0   799325.0  \n",
       "area                1114.0    1580.0    13942.0  \n",
       "bathroom               2.0       2.0        5.0  \n",
       "parking_spaces         1.0       1.0        1.0  \n",
       "floor                  9.0      15.0       19.0  \n",
       "pet_friendly           1.0       1.0        1.0  \n",
       "power_backup           0.0       1.0        1.0  \n",
       "washing_machine        0.0       1.0        1.0  \n",
       "air_conditioner        1.0       1.0        1.0  \n",
       "geyser/solar           0.0       1.0        1.0  \n",
       "security_deposit  114264.0  220704.5  7940780.0  \n",
       "CCTV/security          1.0       1.0        1.0  \n",
       "lift                   1.0       1.0        1.0  \n",
       "neighbourhood       2000.0    3000.0     4000.0  "
      ]
     },
     "execution_count": 4,
     "metadata": {},
     "output_type": "execute_result"
    }
   ],
   "source": [
    "train_df.describe().T"
   ]
  },
  {
   "cell_type": "code",
   "execution_count": 5,
   "metadata": {
    "ExecuteTime": {
     "end_time": "2022-05-13T18:30:46.495819Z",
     "start_time": "2022-05-13T18:30:46.456730Z"
    }
   },
   "outputs": [
    {
     "name": "stdout",
     "output_type": "stream",
     "text": [
      "<class 'pandas.core.frame.DataFrame'>\n",
      "RangeIndex: 134683 entries, 0 to 134682\n",
      "Data columns (total 21 columns):\n",
      " #   Column            Non-Null Count   Dtype \n",
      "---  ------            --------------   ----- \n",
      " 0   Property_ID       134683 non-null  int64 \n",
      " 1   room              134683 non-null  int64 \n",
      " 2   layout_type       134683 non-null  object\n",
      " 3   property_type     134683 non-null  object\n",
      " 4   locality          134683 non-null  object\n",
      " 5   price             134683 non-null  int64 \n",
      " 6   area              134683 non-null  int64 \n",
      " 7   furnish_type      134683 non-null  object\n",
      " 8   bathroom          134683 non-null  int64 \n",
      " 9   city              134683 non-null  object\n",
      " 10  parking_spaces    134683 non-null  int64 \n",
      " 11  floor             134683 non-null  int64 \n",
      " 12  pet_friendly      134683 non-null  int64 \n",
      " 13  power_backup      134683 non-null  int64 \n",
      " 14  washing_machine   134683 non-null  int64 \n",
      " 15  air_conditioner   134683 non-null  int64 \n",
      " 16  geyser/solar      134683 non-null  int64 \n",
      " 17  security_deposit  134683 non-null  int64 \n",
      " 18  CCTV/security     134683 non-null  int64 \n",
      " 19  lift              134683 non-null  int64 \n",
      " 20  neighbourhood     134683 non-null  int64 \n",
      "dtypes: int64(16), object(5)\n",
      "memory usage: 21.6+ MB\n"
     ]
    }
   ],
   "source": [
    "train_df.info()"
   ]
  },
  {
   "cell_type": "markdown",
   "metadata": {},
   "source": [
    "The data have no null values, Uff... It eases our work somehow.."
   ]
  },
  {
   "cell_type": "markdown",
   "metadata": {},
   "source": [
    "##  EDA"
   ]
  },
  {
   "cell_type": "code",
   "execution_count": 6,
   "metadata": {
    "ExecuteTime": {
     "end_time": "2022-05-13T18:30:46.499416Z",
     "start_time": "2022-05-13T18:30:46.497477Z"
    }
   },
   "outputs": [],
   "source": [
    "# plt.rcParams['figure.figsize'] = [28, 10]\n",
    "# plt.rcParams['figure.dpi'] = 200\n",
    "# plt.rcParams['axes.labelsize'] = 20\n",
    "# plt.rcParams['xtick.labelsize'] = 20\n",
    "# plt.rcParams['ytick.labelsize'] = 20"
   ]
  },
  {
   "cell_type": "code",
   "execution_count": 7,
   "metadata": {
    "ExecuteTime": {
     "end_time": "2022-05-13T18:30:46.503082Z",
     "start_time": "2022-05-13T18:30:46.500835Z"
    }
   },
   "outputs": [],
   "source": [
    "# print(train_df[\"room\"].value_counts())\n",
    "# sns.boxenplot(x=train_df[\"room\"], y=train_df[\"price\"])\n",
    "# plt.show()"
   ]
  },
  {
   "cell_type": "markdown",
   "metadata": {},
   "source": [
    "The boxplots were soo conjusted that we can't deduce anything from them."
   ]
  },
  {
   "cell_type": "code",
   "execution_count": 8,
   "metadata": {
    "ExecuteTime": {
     "end_time": "2022-05-13T18:30:46.519997Z",
     "start_time": "2022-05-13T18:30:46.518225Z"
    }
   },
   "outputs": [],
   "source": [
    "# print(train_df[\"layout_type\"].value_counts())\n",
    "# sns.boxenplot(x=train_df[\"layout_type\"], y=train_df[\"price\"])\n",
    "# plt.show()"
   ]
  },
  {
   "cell_type": "markdown",
   "metadata": {},
   "source": [
    "Hmm... Even this isn't very informative. May be I'm not using a right method to plot. Let me try another method."
   ]
  },
  {
   "cell_type": "code",
   "execution_count": 9,
   "metadata": {
    "ExecuteTime": {
     "end_time": "2022-05-13T18:30:46.535436Z",
     "start_time": "2022-05-13T18:30:46.522246Z"
    }
   },
   "outputs": [],
   "source": [
    "X_train, y_train = train_df.drop(\"price\", axis=1), train_df[\"price\"]"
   ]
  },
  {
   "cell_type": "code",
   "execution_count": 10,
   "metadata": {
    "ExecuteTime": {
     "end_time": "2022-05-13T18:30:46.630265Z",
     "start_time": "2022-05-13T18:30:46.537204Z"
    }
   },
   "outputs": [],
   "source": [
    "from sklearn.preprocessing import LabelEncoder\n",
    "from sklearn.model_selection import train_test_split, cross_val_score\n",
    "from sklearn.metrics import make_scorer, mean_squared_error"
   ]
  },
  {
   "cell_type": "code",
   "execution_count": 11,
   "metadata": {
    "ExecuteTime": {
     "end_time": "2022-05-13T18:30:46.779057Z",
     "start_time": "2022-05-13T18:30:46.631526Z"
    }
   },
   "outputs": [],
   "source": [
    "X_train[\"layout_type\"] = LabelEncoder().fit_transform(X_train[\"layout_type\"])\n",
    "X_train[\"property_type\"] = LabelEncoder().fit_transform(X_train[\"property_type\"])\n",
    "X_train[\"locality\"] = LabelEncoder().fit_transform(X_train[\"locality\"])\n",
    "X_train[\"furnish_type\"] = LabelEncoder().fit_transform(X_train[\"furnish_type\"])\n",
    "X_train[\"city\"] = LabelEncoder().fit_transform(X_train[\"city\"])"
   ]
  },
  {
   "cell_type": "code",
   "execution_count": 12,
   "metadata": {
    "ExecuteTime": {
     "end_time": "2022-05-13T18:30:46.822828Z",
     "start_time": "2022-05-13T18:30:46.780470Z"
    }
   },
   "outputs": [],
   "source": [
    "X_train, X_test, y_train, y_test = train_test_split(\n",
    "    X_train, y_train, test_size=0.25)"
   ]
  },
  {
   "cell_type": "code",
   "execution_count": 13,
   "metadata": {
    "ExecuteTime": {
     "end_time": "2022-05-13T18:30:46.891137Z",
     "start_time": "2022-05-13T18:30:46.824211Z"
    }
   },
   "outputs": [],
   "source": [
    "test_df[\"layout_type\"] = LabelEncoder().fit_transform(test_df[\"layout_type\"])\n",
    "test_df[\"property_type\"] = LabelEncoder(\n",
    ").fit_transform(test_df[\"property_type\"])\n",
    "test_df[\"locality\"] = LabelEncoder().fit_transform(test_df[\"locality\"])\n",
    "test_df[\"furnish_type\"] = LabelEncoder().fit_transform(test_df[\"furnish_type\"])\n",
    "test_df[\"city\"] = LabelEncoder().fit_transform(test_df[\"city\"])"
   ]
  },
  {
   "cell_type": "code",
   "execution_count": 14,
   "metadata": {
    "ExecuteTime": {
     "end_time": "2022-05-13T18:30:46.904765Z",
     "start_time": "2022-05-13T18:30:46.892502Z"
    }
   },
   "outputs": [],
   "source": [
    "test = test_df.drop(\"price\", axis=1)"
   ]
  },
  {
   "cell_type": "code",
   "execution_count": 15,
   "metadata": {
    "ExecuteTime": {
     "end_time": "2022-05-13T18:30:46.991125Z",
     "start_time": "2022-05-13T18:30:46.906335Z"
    }
   },
   "outputs": [
    {
     "ename": "NameError",
     "evalue": "name 'model' is not defined",
     "output_type": "error",
     "traceback": [
      "\u001b[0;31m---------------------------------------------------------------------------\u001b[0m",
      "\u001b[0;31mNameError\u001b[0m                                 Traceback (most recent call last)",
      "\u001b[0;32m<ipython-input-15-77bce3e7aaac>\u001b[0m in \u001b[0;36m<module>\u001b[0;34m\u001b[0m\n\u001b[0;32m----> 1\u001b[0;31m \u001b[0mmean_squared_error\u001b[0m\u001b[0;34m(\u001b[0m\u001b[0my_test\u001b[0m\u001b[0;34m,\u001b[0m \u001b[0mmodel\u001b[0m\u001b[0;34m.\u001b[0m\u001b[0mpredict\u001b[0m\u001b[0;34m(\u001b[0m\u001b[0mX_test\u001b[0m\u001b[0;34m)\u001b[0m\u001b[0;34m,\u001b[0m \u001b[0msquared\u001b[0m\u001b[0;34m=\u001b[0m\u001b[0;32mFalse\u001b[0m\u001b[0;34m)\u001b[0m\u001b[0;34m\u001b[0m\u001b[0;34m\u001b[0m\u001b[0m\n\u001b[0m",
      "\u001b[0;31mNameError\u001b[0m: name 'model' is not defined"
     ]
    }
   ],
   "source": []
  },
  {
   "cell_type": "code",
   "execution_count": null,
   "metadata": {
    "ExecuteTime": {
     "end_time": "2022-05-13T18:30:46.995585Z",
     "start_time": "2022-05-13T18:30:45.225Z"
    }
   },
   "outputs": [],
   "source": [
    "import optuna"
   ]
  },
  {
   "cell_type": "code",
   "execution_count": null,
   "metadata": {
    "ExecuteTime": {
     "end_time": "2022-05-13T18:30:46.996452Z",
     "start_time": "2022-05-13T18:30:45.228Z"
    }
   },
   "outputs": [],
   "source": [
    "# def objective(trial, X_train = X_train, y_train = y_train, X_test = X_test, y_test = y_test):\n",
    "    \n",
    "# #     train_x, test_x, train_y, test_y = train_test_split(data, target, test_size=0.15,random_state=42)\n",
    "#     param = {\n",
    "#         'tree_method':'gpu_hist',  # this parameter means using the GPU when training our model to speedup the training process\n",
    "#         'lambda': trial.suggest_loguniform('lambda', 1e-3, 10.0),\n",
    "#         'alpha': trial.suggest_loguniform('alpha', 1e-3, 10.0),\n",
    "#         'colsample_bytree': trial.suggest_categorical('colsample_bytree', [0.3,0.4,0.5,0.6,0.7,0.8,0.9, 1.0]),\n",
    "#         'subsample': trial.suggest_categorical('subsample', [0.4,0.5,0.6,0.7,0.8,1.0]),\n",
    "#         'learning_rate': trial.suggest_categorical('learning_rate', [0.008,0.01,0.012,0.014,0.016,0.018, 0.02]),\n",
    "#         'n_estimators': trial.suggest_int('n_estimators', 100, 1000),\n",
    "#         'max_depth': trial.suggest_categorical('max_depth', [5,7,9,11,13,15,17]),\n",
    "#         'random_state': trial.suggest_categorical('random_state', [2020]),\n",
    "#         'min_child_weight': trial.suggest_int('min_child_weight', 1, 300),\n",
    "#     }\n",
    "#     model = xgb.XGBRegressor(**param)  \n",
    "    \n",
    "#     model.fit(X_train,y_train,eval_set=[(X_test,y_test)],early_stopping_rounds=100,verbose=False)\n",
    "    \n",
    "#     preds = model.predict(X_test)\n",
    "    \n",
    "#     rmse = mean_squared_error(y_test, preds,squared=False)\n",
    "    \n",
    "#     return rmse"
   ]
  },
  {
   "cell_type": "code",
   "execution_count": null,
   "metadata": {
    "ExecuteTime": {
     "end_time": "2022-05-13T18:30:46.997148Z",
     "start_time": "2022-05-13T18:30:45.230Z"
    },
    "scrolled": false
   },
   "outputs": [],
   "source": [
    "# study = optuna.create_study(direction='minimize')\n",
    "# study.optimize(objective, n_trials=100)\n",
    "# print('Number of finished trials:', len(study.trials))\n",
    "# print('Best trial:', study.best_trial.params)"
   ]
  },
  {
   "cell_type": "code",
   "execution_count": null,
   "metadata": {
    "ExecuteTime": {
     "end_time": "2022-05-13T18:30:46.997976Z",
     "start_time": "2022-05-13T18:30:45.233Z"
    }
   },
   "outputs": [],
   "source": [
    "# best_params = study.best_trial.params\n",
    "best_params = {\n",
    "    'lambda': 0.0028529452269855336,\n",
    "    'alpha': 0.003297186319062336,\n",
    "    'colsample_bytree': 1.0,\n",
    "    'tree_method': 'gpu_hist',\n",
    "    'subsample': 0.8,\n",
    "    'learning_rate': 0.016,\n",
    "    'n_estimators': 9205,\n",
    "    'max_depth': 7,\n",
    "    'random_state': 2020,\n",
    "    'min_child_weight': 299\n",
    "}\n",
    "\n",
    "model_xgb = xgb.XGBRegressor(**best_params)"
   ]
  },
  {
   "cell_type": "code",
   "execution_count": null,
   "metadata": {
    "ExecuteTime": {
     "end_time": "2022-05-13T18:30:46.998747Z",
     "start_time": "2022-05-13T18:30:45.234Z"
    }
   },
   "outputs": [],
   "source": [
    "if not os.path.exists(\"xgb_finetuned.json\"):\n",
    "    model_xgb.fit(X_train, y_train)\n",
    "    model_xgb.save_model(\"xgb_finetuned.json\")\n",
    "else:\n",
    "    print(\"Loading Model...\")\n",
    "    model_xgb.load_model(\"xgb_finetuned.json\")\n"
   ]
  },
  {
   "cell_type": "code",
   "execution_count": null,
   "metadata": {
    "ExecuteTime": {
     "end_time": "2022-05-13T18:30:46.999417Z",
     "start_time": "2022-05-13T18:30:45.236Z"
    }
   },
   "outputs": [],
   "source": [
    "mean_squared_error(y_test, model.predict(X_test), squared=False)"
   ]
  },
  {
   "cell_type": "code",
   "execution_count": null,
   "metadata": {
    "ExecuteTime": {
     "end_time": "2022-05-13T18:30:47.000163Z",
     "start_time": "2022-05-13T18:30:45.238Z"
    }
   },
   "outputs": [],
   "source": [
    "from sklearn.linear_model import LinearRegression\n",
    "\n",
    "model_lr = LinearRegression()\n",
    "\n",
    "model_lr.fit(X_train, y_train)\n"
   ]
  },
  {
   "cell_type": "code",
   "execution_count": null,
   "metadata": {
    "ExecuteTime": {
     "end_time": "2022-05-13T18:30:47.001079Z",
     "start_time": "2022-05-13T18:30:45.240Z"
    }
   },
   "outputs": [],
   "source": [
    "mean_squared_error(y_test, model_lr.predict(X_test), squared=False)"
   ]
  },
  {
   "cell_type": "code",
   "execution_count": null,
   "metadata": {
    "ExecuteTime": {
     "end_time": "2022-05-13T18:30:47.001857Z",
     "start_time": "2022-05-13T18:30:45.242Z"
    }
   },
   "outputs": [],
   "source": [
    "# from catboost import CatBoostRegressor\n",
    "\n",
    "# def catboost_objective(trial,X_train = X_train, y_train = y_train, X_test = X_test, y_test = y_test):\n",
    "    \n",
    "# #     train_x, test_x, train_y, test_y = train_test_split(data, target, test_size=0.15,random_state=42)\n",
    "#     param = {\n",
    "#         'loss_function': 'RMSE',\n",
    "#         'task_type': 'GPU',\n",
    "#         'l2_leaf_reg': trial.suggest_loguniform('l2_leaf_reg', 1e-3, 10.0),\n",
    "#         'max_bin': trial.suggest_int('max_bin', 200, 400),\n",
    "#         #'rsm': trial.suggest_uniform('rsm', 0.3, 1.0),\n",
    "# #         'subsample': trial.suggest_uniform('bagging_fraction', 0.4, 1.0),\n",
    "#         'learning_rate': trial.suggest_uniform('learning_rate', 0.006, 0.018),\n",
    "#         'n_estimators':  25000,\n",
    "#         'max_depth': trial.suggest_categorical('max_depth', [5,7,9,11,13,15]),\n",
    "#         'random_state': trial.suggest_categorical('random_state', [2020]),\n",
    "#         'min_data_in_leaf': trial.suggest_int('min_data_in_leaf', 1, 300),\n",
    "#     }\n",
    "#     model = CatBoostRegressor(**param)  \n",
    "    \n",
    "#     model.fit(X_train,y_train,eval_set=[(X_test, y_test)],early_stopping_rounds=200,verbose=False)\n",
    "    \n",
    "#     preds = model.predict(X_test)\n",
    "    \n",
    "#     rmse = mean_squared_error(y_test, preds,squared=False)\n",
    "    \n",
    "#     return rmse"
   ]
  },
  {
   "cell_type": "code",
   "execution_count": null,
   "metadata": {
    "ExecuteTime": {
     "end_time": "2022-05-13T18:30:47.003074Z",
     "start_time": "2022-05-13T18:30:45.244Z"
    },
    "scrolled": true
   },
   "outputs": [],
   "source": [
    "# study = optuna.create_study(direction='minimize')\n",
    "# study.optimize(catboost_objective, n_trials=30)\n",
    "# print('Number of finished trials:', len(study.trials))\n",
    "# print('Best trial:', study.best_trial.params)"
   ]
  },
  {
   "cell_type": "code",
   "execution_count": null,
   "metadata": {
    "ExecuteTime": {
     "end_time": "2022-05-13T18:30:47.003668Z",
     "start_time": "2022-05-13T18:30:45.256Z"
    }
   },
   "outputs": [],
   "source": [
    "# best_params = study.best_trial.params\n",
    "best_params = {\n",
    "    'l2_leaf_reg': 2.6330844914053784,\n",
    "    'max_bin': 366,\n",
    "    'learning_rate': 0.011929381903465954,\n",
    "    'max_depth': 7,\n",
    "    'random_state': 2020,\n",
    "    'min_data_in_leaf': 185\n",
    "}\n",
    "\n",
    "model_catboost = catboost.CatBoostRegressor(**best_params)\n",
    "\n",
    "model_catboost.fit(X_train, y_train)\n"
   ]
  },
  {
   "cell_type": "code",
   "execution_count": null,
   "metadata": {
    "ExecuteTime": {
     "end_time": "2022-05-13T18:30:47.004235Z",
     "start_time": "2022-05-13T18:30:45.258Z"
    }
   },
   "outputs": [],
   "source": [
    "mean_squared_error(y_test, model_catboost.predict(X_test), squared=False)"
   ]
  },
  {
   "cell_type": "code",
   "execution_count": null,
   "metadata": {
    "ExecuteTime": {
     "end_time": "2022-05-13T18:30:47.004818Z",
     "start_time": "2022-05-13T18:30:45.260Z"
    }
   },
   "outputs": [],
   "source": [
    "from sklearn.linear_model import Lasso\n",
    "\n",
    "model_lasso = Lasso()\n",
    "\n",
    "model_lasso.fit(X_train, y_train)\n",
    "\n",
    "mean_squared_error(y_test, model_lasso.predict(X_test), squared=False)"
   ]
  },
  {
   "cell_type": "code",
   "execution_count": null,
   "metadata": {
    "ExecuteTime": {
     "end_time": "2022-05-13T18:30:47.005377Z",
     "start_time": "2022-05-13T18:30:45.262Z"
    }
   },
   "outputs": [],
   "source": [
    "model_base_xgb = xgb.XGBRFRegressor()\n",
    "model_base_xgb.fit(X_train, y_train)\n",
    "mean_squared_error(y_test, model_base_xgb.predict(X_test), squared=False)"
   ]
  },
  {
   "cell_type": "code",
   "execution_count": null,
   "metadata": {
    "ExecuteTime": {
     "end_time": "2022-05-13T18:30:47.005979Z",
     "start_time": "2022-05-13T18:30:45.263Z"
    }
   },
   "outputs": [],
   "source": [
    "mean_squared_error(\n",
    "    y_test,\n",
    "    (model_xgb.predict(X_test) + model_lr.predict(X_test) +\n",
    "     model_catboost.predict(X_test) + model_lasso.predict(X_test) +\n",
    "     model_base_xgb.predict(X_test)) / 5,\n",
    "    squared=False)"
   ]
  },
  {
   "cell_type": "code",
   "execution_count": null,
   "metadata": {
    "ExecuteTime": {
     "end_time": "2022-05-13T18:30:47.006567Z",
     "start_time": "2022-05-13T18:30:45.266Z"
    }
   },
   "outputs": [],
   "source": [
    "mean_squared_error(y_test,\n",
    "                   (model_xgb.predict(X_test) + model_lr.predict(X_test) +\n",
    "                    model_catboost.predict(X_test) + model_lasso.predict(X_test)) / 4,\n",
    "                   squared=False)"
   ]
  },
  {
   "cell_type": "code",
   "execution_count": null,
   "metadata": {
    "ExecuteTime": {
     "end_time": "2022-05-13T18:30:47.007147Z",
     "start_time": "2022-05-13T18:30:45.268Z"
    }
   },
   "outputs": [],
   "source": [
    "mean_squared_error(y_test,\n",
    "                   (model_xgb.predict(X_test) + model_lr.predict(X_test) +\n",
    "                    model_catboost.predict(X_test)) / 3,\n",
    "                   squared=False)"
   ]
  },
  {
   "cell_type": "code",
   "execution_count": null,
   "metadata": {
    "ExecuteTime": {
     "end_time": "2022-05-13T18:30:47.007792Z",
     "start_time": "2022-05-13T18:30:45.270Z"
    }
   },
   "outputs": [],
   "source": [
    "mean_squared_error(y_test, model_lasso.predict(X_test), squared=False)"
   ]
  },
  {
   "cell_type": "code",
   "execution_count": null,
   "metadata": {
    "ExecuteTime": {
     "end_time": "2022-05-13T18:30:47.008415Z",
     "start_time": "2022-05-13T18:30:45.271Z"
    }
   },
   "outputs": [],
   "source": [
    "mean_squared_error(y_test,\n",
    "                    0.30 * model_xgb.predict(X_test) + \n",
    "                    0.10 * model_lr.predict(X_test) +\n",
    "                    0.60 * model_catboost.predict(X_test),\n",
    "                   squared=False)"
   ]
  },
  {
   "cell_type": "code",
   "execution_count": null,
   "metadata": {
    "ExecuteTime": {
     "end_time": "2022-05-13T18:30:47.009064Z",
     "start_time": "2022-05-13T18:30:45.273Z"
    }
   },
   "outputs": [],
   "source": [
    "mean_squared_error(y_test,\n",
    "                    0.30 * model_xgb.predict(X_test) + \n",
    "                    0.20 * model_lr.predict(X_test) +\n",
    "                    0.50 * model_catboost.predict(X_test),\n",
    "                   squared=False)"
   ]
  },
  {
   "cell_type": "code",
   "execution_count": null,
   "metadata": {
    "ExecuteTime": {
     "end_time": "2022-05-13T18:30:47.009596Z",
     "start_time": "2022-05-13T18:30:45.275Z"
    }
   },
   "outputs": [],
   "source": [
    "mean_squared_error(y_test,\n",
    "                    0.25 * model_xgb.predict(X_test) + \n",
    "                    0.35 * model_lr.predict(X_test) +\n",
    "                    0.40 * model_catboost.predict(X_test),\n",
    "                   squared=False)"
   ]
  },
  {
   "cell_type": "code",
   "execution_count": null,
   "metadata": {
    "ExecuteTime": {
     "end_time": "2022-05-13T18:30:47.010100Z",
     "start_time": "2022-05-13T18:30:45.278Z"
    }
   },
   "outputs": [],
   "source": [
    "mean_squared_error(y_test,\n",
    "                   0.10 * model_xgb.predict(X_test) + \n",
    "                   0.15 * model_lr.predict(X_test) +\n",
    "                   0.10 * model_catboost.predict(X_test) +\n",
    "                   0.15 * model_lasso.predict(X_test) +\n",
    "                   0.50 * model_base_xgb.predict(X_test),\n",
    "                   squared=False)"
   ]
  },
  {
   "cell_type": "code",
   "execution_count": null,
   "metadata": {
    "ExecuteTime": {
     "end_time": "2022-05-13T18:30:47.010680Z",
     "start_time": "2022-05-13T18:30:45.280Z"
    }
   },
   "outputs": [],
   "source": [
    "mean_squared_error(\n",
    "    y_test,\n",
    "    (\n",
    "     model_catboost.predict(X_test) + model_lasso.predict(X_test) +\n",
    "     model_base_xgb.predict(X_test)) / 3,\n",
    "    squared=False)"
   ]
  },
  {
   "cell_type": "code",
   "execution_count": null,
   "metadata": {
    "ExecuteTime": {
     "end_time": "2022-05-13T18:30:47.011219Z",
     "start_time": "2022-05-13T18:30:45.283Z"
    }
   },
   "outputs": [],
   "source": [
    "# import torch\n",
    "\n",
    "# class CustomDataset(torch.utils.data.Dataset):\n",
    "#     def __init__(self, X, y):\n",
    "#         self.X = np.array(X)\n",
    "#         self.y = np.array(y).reshape(-1, 1)\n",
    "        \n",
    "#     def __len__(self):\n",
    "#         return len(self.X)\n",
    "    \n",
    "#     def __getitem__(self, idx):\n",
    "#         X = self.X[idx, :]\n",
    "#         y = self.y[idx, :]\n",
    "        \n",
    "#         return (X, y)\n",
    "        "
   ]
  },
  {
   "cell_type": "code",
   "execution_count": null,
   "metadata": {
    "ExecuteTime": {
     "end_time": "2022-05-13T18:30:47.011787Z",
     "start_time": "2022-05-13T18:30:45.285Z"
    }
   },
   "outputs": [],
   "source": [
    "# train_dataset = CustomDataset(X_train, y_train)\n",
    "# training_loader = torch.utils.data.DataLoader(train_dataset, batch_size=128, shuffle=True)"
   ]
  },
  {
   "cell_type": "code",
   "execution_count": null,
   "metadata": {
    "ExecuteTime": {
     "end_time": "2022-05-13T18:27:40.040828Z",
     "start_time": "2022-05-13T18:27:40.024915Z"
    }
   },
   "outputs": [],
   "source": []
  },
  {
   "cell_type": "code",
   "execution_count": null,
   "metadata": {
    "ExecuteTime": {
     "end_time": "2022-05-13T18:30:47.012445Z",
     "start_time": "2022-05-13T18:30:45.289Z"
    }
   },
   "outputs": [],
   "source": [
    "# import tqdm\n",
    "# class LinearRegression(torch.nn.Module):\n",
    "#     def __init__(self, in_features):\n",
    "#         super().__init__()\n",
    "#         self.linear = torch.nn.Linear(in_features, 1)\n",
    "        \n",
    "#     def forward(self, x):\n",
    "#         return self.linear(x)\n",
    "        \n",
    "# model = LinearRegression(X_train.shape[1]) # Initialize the model\n",
    "\n",
    "# loss_fn = torch.nn.MSELoss()\n",
    "# # loss_fn = torch.sqrt(criterion(x, y))\n",
    "# optimizer = torch.optim.SGD(model.parameters(), lr=0.01) # Define the optimizer"
   ]
  },
  {
   "cell_type": "code",
   "execution_count": null,
   "metadata": {
    "ExecuteTime": {
     "end_time": "2022-05-13T18:30:47.013107Z",
     "start_time": "2022-05-13T18:30:45.292Z"
    }
   },
   "outputs": [],
   "source": [
    "# prev_loss = 0\n",
    "# for epoch in range(10000):\n",
    "#     model.train() # Set the model to training mode\n",
    "    \n",
    "#     for (X_train, y_train) in training_loader\n",
    "#     y_pred = model(X_train) # Evaluate the model on the training data\n",
    "#     loss = loss_fn(y_pred, y_train) # Calculate the loss\n",
    "\n",
    "\n",
    "#     optimizer.zero_grad() # Reset the gradients for optimizer\n",
    "#     loss.backward() # Calculate the gradients for loss_fn wrt model parameters\n",
    "#     optimizer.step() # Update the model parameters\n",
    "\n",
    "#     model.eval() # Set the model to evaluation mode\n",
    "#     y_pred_test = model(X_test) # Evaluate the model on the test data\n",
    "#     loss_test = torch.sqrt(loss_fn(y_pred_test, y_test)) # Calculate the loss\n",
    "\n",
    "\n",
    "    \n",
    "#     prev_loss = loss.item()\n",
    "#     if epoch % 100 == 0:\n",
    "#         print(f\"Epoch: {epoch}, loss: {loss.item()}, loss_test: {loss_test.item()}\")"
   ]
  },
  {
   "cell_type": "code",
   "execution_count": null,
   "metadata": {
    "ExecuteTime": {
     "end_time": "2022-05-13T18:30:47.013794Z",
     "start_time": "2022-05-13T18:30:45.295Z"
    }
   },
   "outputs": [],
   "source": [
    "# prev_loss = 0\n",
    "# for epoch in range(2):\n",
    "#     model.train() # Set the model to training mode\n",
    "\n",
    "#     with tqdm.tqdm(training_loader) as bar:\n",
    "#         for batch_x, batch_y in bar:\n",
    "#             batch_x = batch_x.to(\"cuda\")\n",
    "#             batch_y = batch_y.to(\"cuda\")\n",
    "#             y_pred = model(batch_x.float()) # Evaluate the model on the training data\n",
    "#             loss = loss_fn(y_pred.float(), batch_y.float()) # Calculate the loss\n",
    "\n",
    "#             # Early stopping\n",
    "#             # if (abs(loss.item() - prev_loss)) < 1e-6:\n",
    "#             #     print(f\"Converged after {epoch} epochs\")\n",
    "#             #     break\n",
    "#             # print(\"Model params: \", model.state_dict())\n",
    "#             optimizer.zero_grad() # Reset the gradients for optimizer\n",
    "#             loss.backward() # Calculate the gradients for loss_fn wrt model parameters\n",
    "#             optimizer.step() # Update the model parameters\n",
    "\n",
    "#             # non_linear_model.eval() # Set the model to evaluation mode\n",
    "#             # y_pred_test = non_linear_model(X_test) # Evaluate the model on the test data\n",
    "#             # loss_test = loss_fn(y_pred_test, y_test) # Calculate the loss\n",
    "\n",
    "#     prev_loss = loss.item()\n",
    "#     # print(f\"Epoch: {epoch}, loss: {loss.item()}, loss_test: {loss_test.item()}\")\n",
    "#     print(f\"Epoch: {epoch}, loss: {loss.item()}\")\n",
    "\n",
    "        "
   ]
  },
  {
   "cell_type": "code",
   "execution_count": null,
   "metadata": {
    "ExecuteTime": {
     "end_time": "2022-05-13T18:30:47.014502Z",
     "start_time": "2022-05-13T18:30:45.298Z"
    }
   },
   "outputs": [],
   "source": [
    "submission = pd.read_csv(\"submission.csv\")\n",
    "submission['price'] = model_base_xgb.predict(test)\n",
    "submission.to_csv(\"final_submission.csv\", index=False)"
   ]
  },
  {
   "cell_type": "code",
   "execution_count": null,
   "metadata": {},
   "outputs": [],
   "source": []
  }
 ],
 "metadata": {
  "kernelspec": {
   "display_name": "Python 3",
   "language": "python",
   "name": "python3"
  },
  "language_info": {
   "codemirror_mode": {
    "name": "ipython",
    "version": 3
   },
   "file_extension": ".py",
   "mimetype": "text/x-python",
   "name": "python",
   "nbconvert_exporter": "python",
   "pygments_lexer": "ipython3",
   "version": "3.8.8"
  },
  "toc": {
   "base_numbering": 1,
   "nav_menu": {},
   "number_sections": true,
   "sideBar": true,
   "skip_h1_title": false,
   "title_cell": "Table of Contents",
   "title_sidebar": "Contents",
   "toc_cell": false,
   "toc_position": {},
   "toc_section_display": true,
   "toc_window_display": false
  },
  "varInspector": {
   "cols": {
    "lenName": 16,
    "lenType": 16,
    "lenVar": 40
   },
   "kernels_config": {
    "python": {
     "delete_cmd_postfix": "",
     "delete_cmd_prefix": "del ",
     "library": "var_list.py",
     "varRefreshCmd": "print(var_dic_list())"
    },
    "r": {
     "delete_cmd_postfix": ") ",
     "delete_cmd_prefix": "rm(",
     "library": "var_list.r",
     "varRefreshCmd": "cat(var_dic_list()) "
    }
   },
   "types_to_exclude": [
    "module",
    "function",
    "builtin_function_or_method",
    "instance",
    "_Feature"
   ],
   "window_display": false
  }
 },
 "nbformat": 4,
 "nbformat_minor": 1
}
