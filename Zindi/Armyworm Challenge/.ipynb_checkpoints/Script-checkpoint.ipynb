{
 "cells": [
  {
   "cell_type": "code",
   "execution_count": 78,
   "metadata": {
    "ExecuteTime": {
     "end_time": "2022-05-18T17:17:46.217530Z",
     "start_time": "2022-05-18T17:17:46.205858Z"
    },
    "init_cell": true
   },
   "outputs": [],
   "source": [
    "import numpy as np\n",
    "import pandas as pd\n",
    "import matplotlib.pyplot as plt\n",
    "import seaborn as sns\n",
    "from sklearn.model_selection import train_test_split\n",
    "\n",
    "import os\n",
    "import shutil\n",
    "import time\n",
    "import copy\n",
    "\n",
    "import tqdm\n"
   ]
  },
  {
   "cell_type": "code",
   "execution_count": 2,
   "metadata": {
    "ExecuteTime": {
     "end_time": "2022-05-18T16:24:51.479913Z",
     "start_time": "2022-05-18T16:24:51.470851Z"
    },
    "init_cell": true,
    "pycharm": {
     "name": ""
    }
   },
   "outputs": [],
   "source": [
    "train_df = pd.read_csv(\"Train.csv\")\n",
    "test_df = pd.read_csv(\"Test.csv\")"
   ]
  },
  {
   "cell_type": "code",
   "execution_count": 79,
   "metadata": {
    "ExecuteTime": {
     "end_time": "2022-05-18T17:18:31.986461Z",
     "start_time": "2022-05-18T17:18:31.976990Z"
    }
   },
   "outputs": [
    {
     "data": {
      "text/html": [
       "<div>\n",
       "<style scoped>\n",
       "    .dataframe tbody tr th:only-of-type {\n",
       "        vertical-align: middle;\n",
       "    }\n",
       "\n",
       "    .dataframe tbody tr th {\n",
       "        vertical-align: top;\n",
       "    }\n",
       "\n",
       "    .dataframe thead th {\n",
       "        text-align: right;\n",
       "    }\n",
       "</style>\n",
       "<table border=\"1\" class=\"dataframe\">\n",
       "  <thead>\n",
       "    <tr style=\"text-align: right;\">\n",
       "      <th></th>\n",
       "      <th>Image_id</th>\n",
       "      <th>Label</th>\n",
       "    </tr>\n",
       "  </thead>\n",
       "  <tbody>\n",
       "    <tr>\n",
       "      <th>0</th>\n",
       "      <td>id_02amazy34fgh2.jpg</td>\n",
       "      <td>1</td>\n",
       "    </tr>\n",
       "    <tr>\n",
       "      <th>1</th>\n",
       "      <td>id_02mh3w48pmyc9.jpg</td>\n",
       "      <td>0</td>\n",
       "    </tr>\n",
       "    <tr>\n",
       "      <th>2</th>\n",
       "      <td>id_02rpb463h9d3w.jpg</td>\n",
       "      <td>0</td>\n",
       "    </tr>\n",
       "    <tr>\n",
       "      <th>3</th>\n",
       "      <td>id_02wc3jeeao8ol.jpg</td>\n",
       "      <td>1</td>\n",
       "    </tr>\n",
       "    <tr>\n",
       "      <th>4</th>\n",
       "      <td>id_03t2hapb8wz8p.jpg</td>\n",
       "      <td>1</td>\n",
       "    </tr>\n",
       "  </tbody>\n",
       "</table>\n",
       "</div>"
      ],
      "text/plain": [
       "               Image_id  Label\n",
       "0  id_02amazy34fgh2.jpg      1\n",
       "1  id_02mh3w48pmyc9.jpg      0\n",
       "2  id_02rpb463h9d3w.jpg      0\n",
       "3  id_02wc3jeeao8ol.jpg      1\n",
       "4  id_03t2hapb8wz8p.jpg      1"
      ]
     },
     "execution_count": 79,
     "metadata": {},
     "output_type": "execute_result"
    }
   ],
   "source": [
    "train_df.head()"
   ]
  },
  {
   "cell_type": "code",
   "execution_count": 76,
   "metadata": {
    "ExecuteTime": {
     "end_time": "2022-05-18T17:17:25.580242Z",
     "start_time": "2022-05-18T17:17:25.409359Z"
    }
   },
   "outputs": [],
   "source": [
    "# !mkdir train_images"
   ]
  },
  {
   "cell_type": "code",
   "execution_count": 77,
   "metadata": {
    "ExecuteTime": {
     "end_time": "2022-05-18T17:17:26.502651Z",
     "start_time": "2022-05-18T17:17:26.115780Z"
    }
   },
   "outputs": [],
   "source": [
    "# !mkdir train_images/0\n",
    "# !mkdir train_images/1"
   ]
  },
  {
   "cell_type": "code",
   "execution_count": 88,
   "metadata": {
    "ExecuteTime": {
     "end_time": "2022-05-18T17:21:44.270699Z",
     "start_time": "2022-05-18T17:21:43.791859Z"
    }
   },
   "outputs": [],
   "source": [
    "# !mkdir val_images\n",
    "# !mkdir val_images/0\n",
    "# !mkdir val_images/1"
   ]
  },
  {
   "cell_type": "code",
   "execution_count": 83,
   "metadata": {
    "ExecuteTime": {
     "end_time": "2022-05-18T17:19:54.886375Z",
     "start_time": "2022-05-18T17:19:54.868586Z"
    }
   },
   "outputs": [],
   "source": [
    "# X_train, X_val, y_train, y_val = train_test_split(np.array(train_df.drop(\"Label\", axis=1)), np.array(train_df[\"Label\"]), test_size=0.3, shuffle=True)"
   ]
  },
  {
   "cell_type": "code",
   "execution_count": 90,
   "metadata": {
    "ExecuteTime": {
     "end_time": "2022-05-18T17:22:10.690943Z",
     "start_time": "2022-05-18T17:22:10.209502Z"
    }
   },
   "outputs": [],
   "source": [
    "# for img, label in zip(X_train, y_train):\n",
    "#     source_path = \"images/\" + img.item()\n",
    "#     dest_path = \"train_images/\" + str(label)\n",
    "#     shutil.copy(source_path, dest_path)"
   ]
  },
  {
   "cell_type": "code",
   "execution_count": 91,
   "metadata": {
    "ExecuteTime": {
     "end_time": "2022-05-18T17:22:11.422522Z",
     "start_time": "2022-05-18T17:22:11.105612Z"
    }
   },
   "outputs": [],
   "source": [
    "# for img, label in zip(X_val, y_val):\n",
    "#     source_path = \"images/\" + img.item()\n",
    "#     dest_path = \"val_images/\" + str(label)\n",
    "#     shutil.copy(source_path, dest_path)"
   ]
  },
  {
   "cell_type": "code",
   "execution_count": 92,
   "metadata": {
    "ExecuteTime": {
     "end_time": "2022-05-18T17:22:26.122640Z",
     "start_time": "2022-05-18T17:22:26.115160Z"
    }
   },
   "outputs": [],
   "source": [
    "import torch\n",
    "import torchvision"
   ]
  },
  {
   "cell_type": "code",
   "execution_count": 94,
   "metadata": {
    "ExecuteTime": {
     "end_time": "2022-05-18T17:23:11.272515Z",
     "start_time": "2022-05-18T17:23:11.256588Z"
    }
   },
   "outputs": [],
   "source": [
    "train_transforms = torchvision.transforms.Compose([\n",
    "    torchvision.transforms.Resize(255),\n",
    "    torchvision.transforms.CenterCrop(224),\n",
    "    torchvision.transforms.RandomHorizontalFlip(),\n",
    "    torchvision.transforms.RandomVerticalFlip(),\n",
    "    torchvision.transforms.RandomGrayscale(p=0.5),\n",
    "    torchvision.transforms.ToTensor(),\n",
    "    torchvision.transforms.Normalize([0.485, 0.456, 0.406], [0.229, 0.224, 0.225])\n",
    "])\n",
    "\n",
    "\n",
    "val_transforms = torchvision.transforms.Compose([\n",
    "    torchvision.transforms.Resize(255),\n",
    "    torchvision.transforms.CenterCrop(224),\n",
    "    torchvision.transforms.ToTensor(),\n",
    "    torchvision.transforms.Normalize([0.485, 0.456, 0.406], [0.229, 0.224, 0.225])\n",
    "])"
   ]
  },
  {
   "cell_type": "code",
   "execution_count": 96,
   "metadata": {
    "ExecuteTime": {
     "end_time": "2022-05-18T17:24:22.542548Z",
     "start_time": "2022-05-18T17:24:22.534430Z"
    }
   },
   "outputs": [],
   "source": [
    "train_dataset = torchvision.datasets.ImageFolder(\"train_images/\", train_transforms)\n",
    "train_dataloader = torch.utils.data.DataLoader(train_dataset, batch_size=16, shuffle=True)\n",
    "\n",
    "val_dataset = torchvision.datasets.ImageFolder(\"val_images/\", val_transforms)\n",
    "val_dataloader = torch.utils.data.DataLoader(val_dataset, batch_size=16, shuffle=True)"
   ]
  },
  {
   "cell_type": "raw",
   "metadata": {
    "ExecuteTime": {
     "end_time": "2022-05-18T16:58:36.504370Z",
     "start_time": "2022-05-18T16:58:35.811308Z"
    }
   },
   "source": [
    "def show_batch(img, title=None):\n",
    "    plt.figure(figsize=(28, 10))\n",
    "    img = img.numpy().transpose((1, 2, 0))\n",
    "    mean = np.array([0.485, 0.456, 0.406])\n",
    "    std = np.array([0.229, 0.224, 0.225])\n",
    "    img = mean + img * std\n",
    "    img = np.clip(img, 0, 1)    \n",
    "    if title is not None:\n",
    "        plt.title(title)\n",
    "    plt.imshow(img)\n",
    "\n",
    "inputs, classes = next(iter(train_dataloader))\n",
    "\n",
    "out = torchvision.utils.make_grid(inputs)\n",
    "\n",
    "show_batch(out, title=[x.item() for x in classes])"
   ]
  },
  {
   "cell_type": "code",
   "execution_count": 97,
   "metadata": {
    "ExecuteTime": {
     "end_time": "2022-05-18T17:25:45.912221Z",
     "start_time": "2022-05-18T17:25:45.903099Z"
    }
   },
   "outputs": [],
   "source": [
    "dataloader = {\n",
    "    \"train\": train_dataloader,\n",
    "    \"val\": val_dataloader \n",
    "}\n",
    "\n",
    "datasize = {\n",
    "    \"train\": len(train_dataset),\n",
    "    \"val\": len(val_dataset)\n",
    "}"
   ]
  },
  {
   "cell_type": "code",
   "execution_count": 102,
   "metadata": {
    "ExecuteTime": {
     "end_time": "2022-05-18T17:27:55.984621Z",
     "start_time": "2022-05-18T17:27:55.970212Z"
    }
   },
   "outputs": [
    {
     "name": "stdout",
     "output_type": "stream",
     "text": [
      "cuda\n"
     ]
    }
   ],
   "source": [
    "DEVICE = 'cuda' if torch.cuda.is_available() else 'cpu'\n",
    "\n",
    "print(DEVICE)"
   ]
  },
  {
   "cell_type": "code",
   "execution_count": 55,
   "metadata": {
    "ExecuteTime": {
     "end_time": "2022-05-18T17:05:23.438555Z",
     "start_time": "2022-05-18T17:05:23.242654Z"
    }
   },
   "outputs": [],
   "source": [
    "model_ft = torchvision.models.resnet18(pretrained=True)\n",
    "num_ftrs = model_ft.fc.in_features\n",
    "# Here the size of each output sample is set to 2.\n",
    "# Alternatively, it can be generalized to nn.Linear(num_ftrs, len(class_names)).\n",
    "model_ft.fc = torch.nn.Linear(num_ftrs, 2)\n",
    "\n",
    "model_ft = model_ft.to(device)\n",
    "\n",
    "criterion = torch.nn.CrossEntropyLoss()\n",
    "\n",
    "# Observe that all parameters are being optimized\n",
    "optimizer_ft = torch.optim.SGD(model_ft.parameters(), lr=0.001, momentum=0.9)\n",
    "\n",
    "# Decay LR by a factor of 0.1 every 7 epochs\n",
    "exp_lr_scheduler = torch.optim.lr_scheduler.StepLR(optimizer_ft, step_size=7, gamma=0.1)"
   ]
  },
  {
   "cell_type": "code",
   "execution_count": 105,
   "metadata": {
    "ExecuteTime": {
     "end_time": "2022-05-18T17:32:22.401332Z",
     "start_time": "2022-05-18T17:32:22.388188Z"
    }
   },
   "outputs": [],
   "source": [
    "def train_model(model, criterion, optimizer, scheduler, epochs=25):\n",
    "    since = time.time()\n",
    "    best_model_wts = copy.deepcopy(model.state_dict())\n",
    "    best_acc = 0.0\n",
    "    best_top5 = 0.0\n",
    "    \n",
    "    for epoch in range(epochs):\n",
    "        print(\"Epoch {}/{}\".format(epoch, epochs-1))\n",
    "        print(\"-\"*10)\n",
    "        \n",
    "        for phase in [\"train\", \"val\"]:\n",
    "            if phase == \"train\":\n",
    "                model.train()\n",
    "            else:\n",
    "                model.eval()\n",
    "            running_loss = 0.0\n",
    "            running_corrects = 0 \n",
    "            running_top5 = 0\n",
    "            \n",
    "\n",
    "            with tqdm.tqdm(dataloader[phase], unit=\"batch\") as bar:\n",
    "                for inputs, labels in bar:\n",
    "                    inputs = inputs.to(DEVICE)\n",
    "                    labels = labels.to(DEVICE)\n",
    "                    \n",
    "                    # Zero the parametsrs\n",
    "                    optimizer.zero_grad()\n",
    "                    \n",
    "                    # Forward\n",
    "                    with torch.set_grad_enabled(phase == \"train\"):\n",
    "                        outputs = model(inputs)\n",
    "                        _, preds = torch.max(outputs, 1)\n",
    "                        loss = criterion(outputs, labels)\n",
    "                        \n",
    "                        if phase == \"train\":\n",
    "                            loss.backward()\n",
    "                            optimizer.step()\n",
    "                        \n",
    "                    # Statistics\n",
    "                    running_loss += loss.item() * inputs.size(0)\n",
    "                    running_corrects += torch.sum(preds == labels.data)\n",
    "\n",
    "                    \n",
    "                    bar.set_postfix(loss=loss.item())\n",
    "                \n",
    "                if phase == \"train\":\n",
    "                    scheduler.step()\n",
    "                \n",
    "                epoch_loss = running_loss / datasize[phase]\n",
    "                epoch_acc = running_corrects.double()/datasize[phase]\n",
    "                \n",
    "                print()\n",
    "                print(\"{} Loss: {:.4f} Acc: {:.4f}\".format(phase, epoch_loss, epoch_acc))\n",
    "                if(phase == \"val\" and epoch_acc > best_acc):\n",
    "                    best_acc = epoch_acc\n",
    "                    best_model_wts = copy.deepcopy(model.state_dict())\n",
    "        print()\n",
    "    \n",
    "    time_elapsed = time.time() - since\n",
    "    print(\"Training complete in {:0f}m {:0f}s\".format(time_elapsed//60, time_elapsed%60))\n",
    "    print(\"Best val Acc: {}:4f \\n\".format(best_acc))\n",
    "    \n",
    "    # load best model parameters\n",
    "    return model"
   ]
  },
  {
   "cell_type": "code",
   "execution_count": 106,
   "metadata": {
    "ExecuteTime": {
     "end_time": "2022-05-18T17:37:37.632501Z",
     "start_time": "2022-05-18T17:32:22.718806Z"
    }
   },
   "outputs": [
    {
     "name": "stdout",
     "output_type": "stream",
     "text": [
      "Epoch 0/4\n",
      "----------\n"
     ]
    },
    {
     "name": "stderr",
     "output_type": "stream",
     "text": [
      "100%|██████████| 71/71 [00:48<00:00,  1.46batch/s, loss=0.149]   \n"
     ]
    },
    {
     "name": "stdout",
     "output_type": "stream",
     "text": [
      "\n",
      "train Loss: 0.0192 Acc: 0.9947\n"
     ]
    },
    {
     "name": "stderr",
     "output_type": "stream",
     "text": [
      "100%|██████████| 31/31 [00:16<00:00,  1.86batch/s, loss=0.00522] \n"
     ]
    },
    {
     "name": "stdout",
     "output_type": "stream",
     "text": [
      "\n",
      "val Loss: 0.0030 Acc: 1.0000\n",
      "\n",
      "Epoch 1/4\n",
      "----------\n"
     ]
    },
    {
     "name": "stderr",
     "output_type": "stream",
     "text": [
      "100%|██████████| 71/71 [00:48<00:00,  1.47batch/s, loss=0.0849]  \n"
     ]
    },
    {
     "name": "stdout",
     "output_type": "stream",
     "text": [
      "\n",
      "train Loss: 0.0229 Acc: 0.9894\n"
     ]
    },
    {
     "name": "stderr",
     "output_type": "stream",
     "text": [
      "100%|██████████| 31/31 [00:15<00:00,  1.99batch/s, loss=0.00383] \n"
     ]
    },
    {
     "name": "stdout",
     "output_type": "stream",
     "text": [
      "\n",
      "val Loss: 0.0039 Acc: 1.0000\n",
      "\n",
      "Epoch 2/4\n",
      "----------\n"
     ]
    },
    {
     "name": "stderr",
     "output_type": "stream",
     "text": [
      "100%|██████████| 71/71 [00:46<00:00,  1.53batch/s, loss=0.195]   \n"
     ]
    },
    {
     "name": "stdout",
     "output_type": "stream",
     "text": [
      "\n",
      "train Loss: 0.0255 Acc: 0.9912\n"
     ]
    },
    {
     "name": "stderr",
     "output_type": "stream",
     "text": [
      "100%|██████████| 31/31 [00:14<00:00,  2.12batch/s, loss=0.00277] \n"
     ]
    },
    {
     "name": "stdout",
     "output_type": "stream",
     "text": [
      "\n",
      "val Loss: 0.0050 Acc: 0.9979\n",
      "\n",
      "Epoch 3/4\n",
      "----------\n"
     ]
    },
    {
     "name": "stderr",
     "output_type": "stream",
     "text": [
      "100%|██████████| 71/71 [00:46<00:00,  1.54batch/s, loss=0.0158]  \n"
     ]
    },
    {
     "name": "stdout",
     "output_type": "stream",
     "text": [
      "\n",
      "train Loss: 0.0221 Acc: 0.9921\n"
     ]
    },
    {
     "name": "stderr",
     "output_type": "stream",
     "text": [
      "100%|██████████| 31/31 [00:14<00:00,  2.11batch/s, loss=0.00394] \n"
     ]
    },
    {
     "name": "stdout",
     "output_type": "stream",
     "text": [
      "\n",
      "val Loss: 0.0033 Acc: 1.0000\n",
      "\n",
      "Epoch 4/4\n",
      "----------\n"
     ]
    },
    {
     "name": "stderr",
     "output_type": "stream",
     "text": [
      "100%|██████████| 71/71 [00:48<00:00,  1.45batch/s, loss=0.00117] \n"
     ]
    },
    {
     "name": "stdout",
     "output_type": "stream",
     "text": [
      "\n",
      "train Loss: 0.0155 Acc: 0.9947\n"
     ]
    },
    {
     "name": "stderr",
     "output_type": "stream",
     "text": [
      "100%|██████████| 31/31 [00:15<00:00,  2.02batch/s, loss=0.00474] \n"
     ]
    },
    {
     "name": "stdout",
     "output_type": "stream",
     "text": [
      "\n",
      "val Loss: 0.0033 Acc: 1.0000\n",
      "\n",
      "Training complete in 5.000000m 14.902343s\n",
      "Best val Acc: 1.0:4f \n",
      "\n"
     ]
    }
   ],
   "source": [
    "model_ft = train_model(model_ft, criterion, optimizer_ft, exp_lr_scheduler, epochs=5)"
   ]
  },
  {
   "cell_type": "code",
   "execution_count": 112,
   "metadata": {
    "ExecuteTime": {
     "end_time": "2022-05-18T17:40:46.496857Z",
     "start_time": "2022-05-18T17:40:46.138112Z"
    }
   },
   "outputs": [],
   "source": [
    "# !mkdir test_images/\n",
    "# !mkdir test_images/test"
   ]
  },
  {
   "cell_type": "code",
   "execution_count": 113,
   "metadata": {
    "ExecuteTime": {
     "end_time": "2022-05-18T17:40:52.558311Z",
     "start_time": "2022-05-18T17:40:52.381171Z"
    }
   },
   "outputs": [],
   "source": [
    "# for img in test_df[\"Image_id\"]:\n",
    "#     source_path = \"images/\" + img\n",
    "#     dest_path = \"test_images/test\"\n",
    "#     shutil.copy(source_path, dest_path)"
   ]
  },
  {
   "cell_type": "code",
   "execution_count": 124,
   "metadata": {
    "ExecuteTime": {
     "end_time": "2022-05-18T17:50:56.214253Z",
     "start_time": "2022-05-18T17:50:56.125114Z"
    }
   },
   "outputs": [],
   "source": [
    "torch.save(model_ft, \"model.pt\")"
   ]
  },
  {
   "cell_type": "code",
   "execution_count": 114,
   "metadata": {
    "ExecuteTime": {
     "end_time": "2022-05-18T17:41:42.492663Z",
     "start_time": "2022-05-18T17:41:42.471569Z"
    }
   },
   "outputs": [],
   "source": [
    "test_dataset = torchvision.datasets.ImageFolder(\"test_images/\", val_transforms)\n",
    "test_dataloader = torch.utils.data.DataLoader(test_dataset, batch_size = 16, shuffle=False)"
   ]
  },
  {
   "cell_type": "code",
   "execution_count": 127,
   "metadata": {
    "ExecuteTime": {
     "end_time": "2022-05-18T17:51:29.333610Z",
     "start_time": "2022-05-18T17:51:29.249047Z"
    }
   },
   "outputs": [],
   "source": [
    "preds = []\n",
    "\n",
    "model_ft = torch.load(\"model.pt\").to(DEVICE)"
   ]
  },
  {
   "cell_type": "code",
   "execution_count": null,
   "metadata": {
    "ExecuteTime": {
     "start_time": "2022-05-18T17:51:51.498Z"
    }
   },
   "outputs": [],
   "source": [
    "for images, labels in test_dataloader:\n",
    "    preds.append(model_ft(images.to(DEVICE)))"
   ]
  },
  {
   "cell_type": "code",
   "execution_count": null,
   "metadata": {},
   "outputs": [],
   "source": []
  }
 ],
 "metadata": {
  "kernelspec": {
   "display_name": "Python 3",
   "language": "python",
   "name": "python3"
  },
  "language_info": {
   "codemirror_mode": {
    "name": "ipython",
    "version": 3
   },
   "file_extension": ".py",
   "mimetype": "text/x-python",
   "name": "python",
   "nbconvert_exporter": "python",
   "pygments_lexer": "ipython3",
   "version": "3.8.8"
  },
  "toc": {
   "base_numbering": 1,
   "nav_menu": {},
   "number_sections": true,
   "sideBar": true,
   "skip_h1_title": false,
   "title_cell": "Table of Contents",
   "title_sidebar": "Contents",
   "toc_cell": false,
   "toc_position": {},
   "toc_section_display": true,
   "toc_window_display": false
  },
  "varInspector": {
   "cols": {
    "lenName": 16,
    "lenType": 16,
    "lenVar": 40
   },
   "kernels_config": {
    "python": {
     "delete_cmd_postfix": "",
     "delete_cmd_prefix": "del ",
     "library": "var_list.py",
     "varRefreshCmd": "print(var_dic_list())"
    },
    "r": {
     "delete_cmd_postfix": ") ",
     "delete_cmd_prefix": "rm(",
     "library": "var_list.r",
     "varRefreshCmd": "cat(var_dic_list()) "
    }
   },
   "types_to_exclude": [
    "module",
    "function",
    "builtin_function_or_method",
    "instance",
    "_Feature"
   ],
   "window_display": false
  }
 },
 "nbformat": 4,
 "nbformat_minor": 1
}
